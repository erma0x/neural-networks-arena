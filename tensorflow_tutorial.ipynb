{
 "cells": [
  {
   "cell_type": "markdown",
   "id": "36f67e1a",
   "metadata": {},
   "source": [
    "## Tensorflow 2.0"
   ]
  },
  {
   "cell_type": "markdown",
   "id": "4e4fe635",
   "metadata": {},
   "source": [
    "Tensorflow Official Docs\n",
    "\n",
    "- https://www.tensorflow.org\n",
    "- https://www.tensorflow.org/api_docs/python/tf/all_symbols\n",
    "- https://www.tensorflow.org/lite/"
   ]
  },
  {
   "cell_type": "markdown",
   "id": "f14abbe0",
   "metadata": {},
   "source": [
    "Deep Learning tasks\n",
    "- Image recognition\n",
    "- speech recognition\n",
    "- sentiment analysis\n",
    "- object detection \n",
    "- ..."
   ]
  },
  {
   "cell_type": "code",
   "execution_count": 1,
   "id": "93faebdb",
   "metadata": {},
   "outputs": [],
   "source": [
    "import tensorflow as tf"
   ]
  },
  {
   "cell_type": "code",
   "execution_count": 2,
   "id": "14c84a2a",
   "metadata": {},
   "outputs": [
    {
     "data": {
      "text/plain": [
       "'2.2.0'"
      ]
     },
     "execution_count": 2,
     "metadata": {},
     "output_type": "execute_result"
    }
   ],
   "source": [
    "tf.__version__"
   ]
  },
  {
   "cell_type": "markdown",
   "id": "15c96edb",
   "metadata": {},
   "source": [
    "### Tensorflow 2.0 vs Tensorflow 1.0"
   ]
  },
  {
   "cell_type": "markdown",
   "id": "d88409e2",
   "metadata": {},
   "source": [
    "Consigli per usare Tensorflow2.0\n",
    "\n",
    "  -  Refactor your code into smaller functions\n",
    "  -  Use Keras layers and models to manage variables\n",
    "  -  Combine tf. data.Datasets and tf. function\n",
    "  -  Take advantage of AutoGraph with Python control flow\n",
    "  -  tf. metrics aggregates data and tf. summary logs them\n",
    "  -  Use tf.config.experimental_run_functions_eagerly() when debugging"
   ]
  },
  {
   "cell_type": "markdown",
   "id": "a3e2ecd8",
   "metadata": {},
   "source": [
    "tf.layers is depreciated in favour of tf.keras.layers. In fact, I sometimes joke that TF 2.0 is really Keras 3.0"
   ]
  },
  {
   "cell_type": "markdown",
   "id": "74d0b97a",
   "metadata": {},
   "source": [
    "### Migrate from TF1 to TF2\n",
    "The TensorFlow team has created the tf_upgrade_v2 utility to help transition legacy code to the new API automatically\n",
    "\n",
    "\n",
    "A) Project directory\n",
    "```\n",
    "tf_upgrade_v2 \\\n",
    "  --intree my_project/ \\\n",
    "  --outtree my_project_v2/ \\\n",
    "  --reportfile report.txt\n",
    "```\n",
    "\n",
    "\n",
    "B) Single file\n",
    "```\n",
    "tf_upgrade_v2 \n",
    " — infile <input_file_name/payj>\n",
    " — outfile <output_file_name/path>.py```\n",
    "```"
   ]
  },
  {
   "cell_type": "markdown",
   "id": "88c28690",
   "metadata": {},
   "source": [
    "### Tensor2Tensor\n",
    "The main purpose of T2T is to accelerate Deep Learning research by giving access to state-of-the-art models to everyone. Right now it mostly focused on NLP problems and sequence-to-sequence in general. However, it’s built on top of Tensorflow and modular structure of Tensor2Tensor allows developers and researchers to add new models in a simple way.\n",
    "\n",
    "This python lib provides simple API for dataset generation, training and hyper-parameter tuning. It contains:\n",
    "\n",
    " - Popular sequence datasets generation tool\n",
    " - Models for work with different input/output modalities: symbolic, images, audio, labels\n",
    " - Pre-tuned sets of hyper-parameters for models and their optimizers\n",
    " - Trainer with a simple CLI interface\n",
    " - SOTA models like ByteNet, MultiModel(paper), SliceNet, Transformer(paper) and Xception"
   ]
  },
  {
   "cell_type": "code",
   "execution_count": null,
   "id": "7792ddbc",
   "metadata": {},
   "outputs": [],
   "source": []
  },
  {
   "cell_type": "code",
   "execution_count": 3,
   "id": "1e03c1ac",
   "metadata": {},
   "outputs": [
    {
     "name": "stderr",
     "output_type": "stream",
     "text": [
      "2022-06-13 06:36:43.427858: I tensorflow/stream_executor/platform/default/dso_loader.cc:44] Successfully opened dynamic library libcuda.so.1\n",
      "2022-06-13 06:36:43.775511: E tensorflow/stream_executor/cuda/cuda_driver.cc:313] failed call to cuInit: CUDA_ERROR_NO_DEVICE: no CUDA-capable device is detected\n",
      "2022-06-13 06:36:43.775606: I tensorflow/stream_executor/cuda/cuda_diagnostics.cc:156] kernel driver does not appear to be running on this host (kobayashi): /proc/driver/nvidia/version does not exist\n",
      "2022-06-13 06:36:43.778462: I tensorflow/core/platform/cpu_feature_guard.cc:143] Your CPU supports instructions that this TensorFlow binary was not compiled to use: AVX2 FMA\n",
      "2022-06-13 06:36:43.826097: I tensorflow/core/platform/profile_utils/cpu_utils.cc:102] CPU Frequency: 2899885000 Hz\n",
      "2022-06-13 06:36:43.826790: I tensorflow/compiler/xla/service/service.cc:168] XLA service 0x7f686c000b60 initialized for platform Host (this does not guarantee that XLA will be used). Devices:\n",
      "2022-06-13 06:36:43.826834: I tensorflow/compiler/xla/service/service.cc:176]   StreamExecutor device (0): Host, Default Version\n"
     ]
    },
    {
     "data": {
      "text/plain": [
       "<tf.Tensor: shape=(), dtype=int32, numpy=5>"
      ]
     },
     "execution_count": 3,
     "metadata": {},
     "output_type": "execute_result"
    }
   ],
   "source": [
    "tf.constant(5)"
   ]
  },
  {
   "cell_type": "code",
   "execution_count": 9,
   "id": "7e9c78ba",
   "metadata": {},
   "outputs": [
    {
     "data": {
      "text/plain": [
       "<tf.Tensor: shape=(2, 2), dtype=float32, numpy=\n",
       "array([[ 1.1986716,  1.4644482],\n",
       "       [ 1.7050643, -0.4704305]], dtype=float32)>"
      ]
     },
     "execution_count": 9,
     "metadata": {},
     "output_type": "execute_result"
    }
   ],
   "source": [
    "normal_tensor = tf.random.normal((2,2), mean=1, stddev=1.0) \n",
    "normal_tensor"
   ]
  },
  {
   "cell_type": "code",
   "execution_count": 11,
   "id": "9a70cf2a",
   "metadata": {},
   "outputs": [
    {
     "data": {
      "text/plain": [
       "<tf.Tensor: shape=(2, 2), dtype=float32, numpy=\n",
       "array([[0.8421223 , 0.09556603],\n",
       "       [0.5663922 , 0.32612455]], dtype=float32)>"
      ]
     },
     "execution_count": 11,
     "metadata": {},
     "output_type": "execute_result"
    }
   ],
   "source": [
    "uniform_tensor = tf.random.uniform((2,2))\n",
    "uniform_tensor"
   ]
  },
  {
   "cell_type": "code",
   "execution_count": 14,
   "id": "a331973e",
   "metadata": {},
   "outputs": [
    {
     "data": {
      "text/plain": [
       "<tf.Tensor: shape=(2, 2), dtype=float32, numpy=\n",
       "array([[0.33633512, 0.18374662],\n",
       "       [0.5135709 , 0.5728498 ]], dtype=float32)>"
      ]
     },
     "execution_count": 14,
     "metadata": {},
     "output_type": "execute_result"
    }
   ],
   "source": [
    "gamma_tensor = tf.random.gamma((2,2), alpha=1)\n",
    "gamma_tensor"
   ]
  },
  {
   "cell_type": "code",
   "execution_count": 16,
   "id": "c627dfbb",
   "metadata": {},
   "outputs": [
    {
     "data": {
      "text/plain": [
       "<tf.Tensor: shape=(1, 4), dtype=float32, numpy=array([[0.33633512, 0.18374662, 0.5135709 , 0.5728498 ]], dtype=float32)>"
      ]
     },
     "execution_count": 16,
     "metadata": {},
     "output_type": "execute_result"
    }
   ],
   "source": [
    "tf.reshape(gamma_tensor, [1, 4])"
   ]
  },
  {
   "cell_type": "code",
   "execution_count": 17,
   "id": "320a445a",
   "metadata": {},
   "outputs": [
    {
     "data": {
      "text/plain": [
       "TensorShape([1, 2, 2])"
      ]
     },
     "execution_count": 17,
     "metadata": {},
     "output_type": "execute_result"
    }
   ],
   "source": [
    "(tf.expand_dims(gamma_tensor, 0)).shape  # GET DIMENSIONS (shape) Inserts a dimension of 1 into a tensor's shape."
   ]
  },
  {
   "cell_type": "code",
   "execution_count": 24,
   "id": "f257bc54",
   "metadata": {},
   "outputs": [
    {
     "data": {
      "text/plain": [
       "<tf.Tensor: shape=(3, 3), dtype=float32, numpy=\n",
       "array([[0., 0., 0.],\n",
       "       [0., 0., 0.],\n",
       "       [0., 0., 0.]], dtype=float32)>"
      ]
     },
     "execution_count": 24,
     "metadata": {},
     "output_type": "execute_result"
    }
   ],
   "source": [
    "a = tf.zeros([3,3])\n",
    "a"
   ]
  },
  {
   "cell_type": "code",
   "execution_count": 25,
   "id": "ad6b4c08",
   "metadata": {},
   "outputs": [
    {
     "data": {
      "text/plain": [
       "<tf.Tensor: shape=(3, 3), dtype=float32, numpy=\n",
       "array([[1., 1., 1.],\n",
       "       [1., 1., 1.],\n",
       "       [1., 1., 1.]], dtype=float32)>"
      ]
     },
     "execution_count": 25,
     "metadata": {},
     "output_type": "execute_result"
    }
   ],
   "source": [
    "b = tf.ones([3,3])\n",
    "b"
   ]
  },
  {
   "cell_type": "code",
   "execution_count": 26,
   "id": "fe6e14e6",
   "metadata": {},
   "outputs": [
    {
     "data": {
      "text/plain": [
       "TensorShape([3, 3])"
      ]
     },
     "execution_count": 26,
     "metadata": {},
     "output_type": "execute_result"
    }
   ],
   "source": [
    "a.get_shape()"
   ]
  },
  {
   "cell_type": "code",
   "execution_count": 33,
   "id": "479c962f",
   "metadata": {},
   "outputs": [
    {
     "name": "stdout",
     "output_type": "stream",
     "text": [
      "(3,)\n",
      "tf.Tensor([0. 0. 0.], shape=(3,), dtype=float32)\n"
     ]
    }
   ],
   "source": [
    "c = tf.reduce_sum(a , 1) # riduci indice di 1\n",
    "\n",
    "print(c.get_shape())\n",
    "print(c)"
   ]
  },
  {
   "cell_type": "code",
   "execution_count": 34,
   "id": "869266ed",
   "metadata": {},
   "outputs": [
    {
     "data": {
      "text/plain": [
       "<tf.Tensor: shape=(3, 1), dtype=float32, numpy=\n",
       "array([[0.],\n",
       "       [0.],\n",
       "       [0.]], dtype=float32)>"
      ]
     },
     "execution_count": 34,
     "metadata": {},
     "output_type": "execute_result"
    }
   ],
   "source": [
    "tf.reshape(c, (3,1))"
   ]
  },
  {
   "cell_type": "code",
   "execution_count": 35,
   "id": "56f032d2",
   "metadata": {},
   "outputs": [
    {
     "data": {
      "text/plain": [
       "<tf.Tensor: shape=(3, 3), dtype=float32, numpy=\n",
       "array([[0., 0., 0.],\n",
       "       [0., 0., 0.],\n",
       "       [0., 0., 0.]], dtype=float32)>"
      ]
     },
     "execution_count": 35,
     "metadata": {},
     "output_type": "execute_result"
    }
   ],
   "source": [
    "tf.matmul(a, b) # moltiplicazione fra matrici (dot)"
   ]
  },
  {
   "cell_type": "code",
   "execution_count": 37,
   "id": "7a532307",
   "metadata": {},
   "outputs": [
    {
     "data": {
      "text/plain": [
       "(<tf.Tensor: shape=(), dtype=float32, numpy=0.0>,\n",
       " <tf.Tensor: shape=(3,), dtype=float32, numpy=array([0., 0., 0.], dtype=float32)>,\n",
       " <tf.Tensor: shape=(3,), dtype=float32, numpy=array([0., 0., 0.], dtype=float32)>)"
      ]
     },
     "execution_count": 37,
     "metadata": {},
     "output_type": "execute_result"
    }
   ],
   "source": [
    "a[0,0], a[:,0], a[0,:] # slicing"
   ]
  },
  {
   "cell_type": "code",
   "execution_count": 40,
   "id": "34aff438",
   "metadata": {},
   "outputs": [],
   "source": [
    "d = tf.constant(3.0)"
   ]
  },
  {
   "cell_type": "code",
   "execution_count": 41,
   "id": "675b17b1",
   "metadata": {},
   "outputs": [],
   "source": [
    "e = tf.constant(4.0)"
   ]
  },
  {
   "cell_type": "code",
   "execution_count": 43,
   "id": "4c4a501e",
   "metadata": {},
   "outputs": [
    {
     "data": {
      "text/plain": [
       "<tf.Tensor: shape=(), dtype=float32, numpy=12.0>"
      ]
     },
     "execution_count": 43,
     "metadata": {},
     "output_type": "execute_result"
    }
   ],
   "source": [
    "f = d * e\n",
    "f"
   ]
  },
  {
   "cell_type": "code",
   "execution_count": null,
   "id": "b78bea15",
   "metadata": {},
   "outputs": [],
   "source": []
  },
  {
   "cell_type": "code",
   "execution_count": null,
   "id": "556642db",
   "metadata": {},
   "outputs": [],
   "source": []
  },
  {
   "cell_type": "code",
   "execution_count": null,
   "id": "ca7f92b3",
   "metadata": {},
   "outputs": [],
   "source": []
  },
  {
   "cell_type": "markdown",
   "id": "f802a285",
   "metadata": {},
   "source": [
    "Returns the index with the largest value across dimensions of a tensor."
   ]
  },
  {
   "cell_type": "code",
   "execution_count": 21,
   "id": "03bca47a",
   "metadata": {},
   "outputs": [
    {
     "name": "stdout",
     "output_type": "stream",
     "text": [
      "tf.Tensor([1 2], shape=(2,), dtype=int64)\n",
      "tf.Tensor([0 0], shape=(2,), dtype=int64)\n"
     ]
    }
   ],
   "source": [
    "a = tf.convert_to_tensor([[1, 10, 7], \n",
    "                           [3, 4, 9]])\n",
    "\n",
    "MAX = tf.argmax(a,axis=1) # [1,2]\n",
    "\n",
    "MIN = tf.argmin(a,axis=1) # [0,0]\n",
    "\n",
    "print(MAX)\n",
    "print(MIN)"
   ]
  },
  {
   "cell_type": "code",
   "execution_count": null,
   "id": "e577b7b3",
   "metadata": {},
   "outputs": [],
   "source": []
  },
  {
   "cell_type": "markdown",
   "id": "a8f903b2",
   "metadata": {},
   "source": [
    "Return the product of all elements in the tensor or product of the tensor along specified axis"
   ]
  },
  {
   "cell_type": "code",
   "execution_count": 24,
   "id": "1bc48993",
   "metadata": {},
   "outputs": [
    {
     "name": "stdout",
     "output_type": "stream",
     "text": [
      "tf.Tensor(7560, shape=(), dtype=int32)\n",
      "tf.Tensor([ 3 40 63], shape=(3,), dtype=int32)\n",
      "tf.Tensor([ 70 108], shape=(2,), dtype=int32)\n"
     ]
    }
   ],
   "source": [
    "A = tf.reduce_prod(a) # 7560\n",
    "B = tf.reduce_prod(a,axis = 0) # [3,40,63]\n",
    "C = tf.reduce_prod(a,axis = 1) # [70,108]\n",
    "\n",
    "print(A)\n",
    "print(B)\n",
    "print(C)"
   ]
  },
  {
   "cell_type": "markdown",
   "id": "7f687bf1",
   "metadata": {},
   "source": [
    "Return the product of all elements in the tensor or product of the tensor along specified axis."
   ]
  },
  {
   "cell_type": "code",
   "execution_count": 27,
   "id": "fe60bc49",
   "metadata": {},
   "outputs": [
    {
     "name": "stdout",
     "output_type": "stream",
     "text": [
      "tf.Tensor(5, shape=(), dtype=int32)\n",
      "tf.Tensor([2 7 8], shape=(3,), dtype=int32)\n",
      "tf.Tensor([6 5], shape=(2,), dtype=int32)\n",
      "tf.Tensor(10, shape=(), dtype=int32)\n",
      "tf.Tensor([ 3 10  9], shape=(3,), dtype=int32)\n",
      "tf.Tensor([10  9], shape=(2,), dtype=int32)\n",
      "tf.Tensor(1, shape=(), dtype=int32)\n",
      "tf.Tensor([1 4 7], shape=(3,), dtype=int32)\n",
      "tf.Tensor([1 3], shape=(2,), dtype=int32)\n"
     ]
    }
   ],
   "source": [
    "D = tf.reduce_mean(a) # 7560\n",
    "E = tf.reduce_mean(a,axis = 0) # [3,40,63]\n",
    "F = tf.reduce_mean(a, axis = 1) # [70,108]\n",
    "\n",
    "G = tf.reduce_max(a) # 10\n",
    "H = tf.reduce_max(a,axis = 0) # [3,10,9]\n",
    "I = tf.reduce_max(a,axis = 1) # [70,108]\n",
    "\n",
    "L = tf.reduce_min(a) # 1\n",
    "M = tf.reduce_min(a,axis = 0) # [1,4,7]\n",
    "N = tf.reduce_min(a,axis = 1) # [1,3]\n",
    "\n",
    "\n",
    "print(D)\n",
    "print(E)\n",
    "print(F)\n",
    "print(G)\n",
    "print(H)\n",
    "print(I)\n",
    "print(L)\n",
    "print(M)\n",
    "print(N)"
   ]
  },
  {
   "cell_type": "markdown",
   "id": "5e4f40bd",
   "metadata": {},
   "source": [
    "## Download images from internet as Datasets"
   ]
  },
  {
   "cell_type": "code",
   "execution_count": 61,
   "id": "3225f7b2",
   "metadata": {},
   "outputs": [
    {
     "name": "stdout",
     "output_type": "stream",
     "text": [
      "200\n",
      "<urllib3.response.HTTPResponse object at 0x7f6838a7edf0>\n"
     ]
    }
   ],
   "source": [
    "import requests # to get image from the web\n",
    "\n",
    "image_url = \n",
    "filename = image_url.split(\"/\")[-1]\n",
    "\n",
    "# Open the url image, set stream to True, this will return the stream content.\n",
    "r = requests.get(image_url, stream = True)\n",
    "\n",
    "# Check if the image was retrieved successfully\n",
    "if r.status_code == 200:\n",
    "    # Set decode_content value to True, otherwise the downloaded image file's size will be zero.\n",
    "    r.raw.decode_content = True\n",
    "    print(r.status_code)\n",
    "    print(r.raw)"
   ]
  },
  {
   "cell_type": "code",
   "execution_count": 56,
   "id": "5920a1ef",
   "metadata": {},
   "outputs": [
    {
     "name": "stdout",
     "output_type": "stream",
     "text": [
      "b'<!DOCTYPE html>\\n<html class=\"client-nojs\" lang=\"en\" dir=\"ltr\">\\n<head>\\n<meta charset=\"UTF-8\"/>\\n<title>File:Cat November 2010-1a.jpg - Wikimedia Commons</title>\\n<script>document.documentElement.className=\"client-js\";RLCONF={\"wgBreakFrames\":true,\"wgSeparatorTransformTable\":[\"\",\"\"],\"wgDigitTransformTable\":[\"\",\"\"],\"wgDefaultDateFormat\":\"dmy\",\"wgMonthNames\":[\"\",\"January\",\"February\",\"March\",\"April\",\"May\",\"June\",\"July\",\"August\",\"September\",\"October\",\"November\",\"December\"],\"wgRequestId\":\"e65a6115-17db-46fc-aebf-21b20612757b\",\"wgCSPNonce\":false,\"wgCanonicalNamespace\":\"File\",\"wgCanonicalSpecialPageName\":false,\"wgNamespaceNumber\":6,\"wgPageName\":\"File:Cat_November_2010-1a.jpg\",\"wgTitle\":\"Cat November 2010-1a.jpg\",\"wgCurRevisionId\":655193360,\"wgRevisionId\":655193360,\"wgArticleId\":12127693,\"wgIsArticle\":true,\"wgIsRedirect\":false,\"wgAction\":\"view\",\"wgUserName\":null,\"wgUserGroups\":[\"*\"],\"wgCategories\":[\"Photographs taken on 2010-11-21\",\"Pictures of the day (2011)\",\"Featured pictures on Wikimedia Commons\",\"Featured pictures on Wikipedia, Arabic\",\"Featured pictures on Wikipedia, English\",\"CC-BY-SA-3.0\",\"License migration redundant\",\"GFDL\",\"Self-published work\",\\n\"Photographs by Alvesgaspar\",\"Featured pictures by Alvesgaspar\",\"POTD by Alvesgaspar\",\"Taken with Nikon D80\",\"Featured pictures of cats\",\"Pages with maps\",\"Mackerel tabby cats\",\"Cats of Portugal\",\"Cats on walls\",\"Portrait photographs of cats\",\"Cats looking at viewer\"],\"wgPageContentLanguage\":\"en\",\"wgPageContentModel\":\"wikitext\",\"wgRelevantPageName\":\"File:Cat_November_2010-1a.jpg\",\"wgRelevantArticleId\":12127693,\"wgIsProbablyEditable\":true,\"wgRelevantPageIsProbablyEditable\":true,\"wgRestrictionEdit\":[],\"wgRestrictionMove\":[],\"wgRestrictionUpload\":[],\"wgVisualEditor\":{\"pageLanguageCode\":\"en\",\"pageLanguageDir\":\"ltr\",\"pageVariantFallbacks\":\"en\"},\"wgMFDisplayWikibaseDescriptions\":{\"search\":true,\"nearby\":true,\"watchlist\":true,\"tagline\":true},\"wgWMESchemaEditAttemptStepOversample\":false,\"wgWMEPageLength\":1000,\"wgNoticeProject\":\"commons\",\"wgMediaViewerOnClick\":true,\"wgMediaViewerEnabledByDefault\":false,\"wgULSCurrentAutonym\":\"English\",\"wbCopyright\":{\"version\":\"wikibase-1\",\"messageHtml\":\\n\"By clicking \\\\\"publish\\\\\", you agree to the \\\\u003Ca href=\\\\\"/wiki/Commons:Copyrights\\\\\" class=\\\\\"mw-redirect\\\\\" title=\\\\\"Commons:Copyrights\\\\\"\\\\u003Eterms of use\\\\u003C/a\\\\u003E, and you irrevocably agree to release your contribution under the \\\\u003Ca rel=\\\\\"nofollow\\\\\" class=\\\\\"external text\\\\\" href=\\\\\"https://creativecommons.org/publicdomain/zero/1.0/\\\\\"\\\\u003ECreative Commons CC0 License\\\\u003C/a\\\\u003E.\"},\"wbBadgeItems\":[],\"wbMultiLingualStringLimit\":250,\"wbTaintedReferencesEnabled\":false,\"wbEntityId\":\"M12127693\",\"wgEditSubmitButtonLabelPublish\":true,\"wgCoordinates\":{\"lat\":37.851111111111,\"lon\":-8.7915833333333},\"wbUserSpecifiedLanguages\":[\"en\"],\"wbmiDefaultProperties\":[\"P180\"],\"wbmiPropertyTitles\":{\"P180\":\"Items portrayed in this file\"},\"wbmiPropertyTypes\":{\"P180\":\"wikibase-item\",\"P7482\":\"wikibase-item\",\"P170\":\"wikibase-item\",\"P2093\":\"string\",\"P4174\":\"external-id\",\"P2699\":\"url\",\"P275\":\"wikibase-item\",\"P6216\":\"wikibase-item\",\"P4082\":\"wikibase-item\",\"P6731\":\"wikibase-item\",\"P1259\":\"globe-coordinate\",\\n\"P6757\":\"quantity\",\"P6790\":\"quantity\",\"P2151\":\"quantity\",\"P6789\":\"quantity\",\"P31\":\"wikibase-item\"},\"wbmiRepoApiUrl\":\"/w/api.php\",\"wbmiHelpUrls\":{\"P180\":\"https://commons.wikimedia.org/wiki/Special:MyLanguage/Commons:Depicts\"},\"wbmiExternalEntitySearchBaseUri\":\"https://www.wikidata.org/w/api.php\",\"wbmiSupportedDataTypes\":[\"wikibase-item\",\"string\",\"quantity\",\"time\",\"monolingualtext\",\"external-id\",\"globe-coordinate\",\"url\"],\"wbCurrentRevision\":655193360,\"wbEntity\":{\"type\":\"mediainfo\",\"id\":\"M12127693\",\"labels\":{\"en\":{\"language\":\"en\",\"value\":\"An Alpha Cat\"},\"id\":{\"language\":\"id\",\"value\":\"Kucing\"},\"ban\":{\"language\":\"ban\",\"value\":\"Meong\"},\"de\":{\"language\":\"de\",\"value\":\"Junger getigerter Kater\"}},\"descriptions\":[],\"statements\":{\"P180\":[{\"mainsnak\":{\"snaktype\":\"value\",\"property\":\"P180\",\"hash\":\"ccce95c01ea01fadd10457a4adc5f56bce0fe097\",\"datavalue\":{\"value\":{\"entity-type\":\"item\",\"numeric-id\":146,\"id\":\"Q146\"},\"type\":\"wikibase-entityid\"}},\"type\":\"statement\",\"id\":\\n\"M12127693$533F5647-EA50-48E5-9A7F-72D59AB334CC\",\"rank\":\"normal\"}],\"P7482\":[{\"mainsnak\":{\"snaktype\":\"value\",\"property\":\"P7482\",\"hash\":\"83568a288a8b8b4714a68e7239d8406833762864\",\"datavalue\":{\"value\":{\"entity-type\":\"item\",\"numeric-id\":66458942,\"id\":\"Q66458942\"},\"type\":\"wikibase-entityid\"}},\"type\":\"statement\",\"id\":\"M12127693$7F93CFCD-82B7-4A97-B7CE-2D615681FE5C\",\"rank\":\"normal\"}],\"P170\":[{\"mainsnak\":{\"snaktype\":\"somevalue\",\"property\":\"P170\",\"hash\":\"d3550e860f988c6675fff913440993f58f5c40c5\"},\"type\":\"statement\",\"qualifiers\":{\"P2093\":[{\"snaktype\":\"value\",\"property\":\"P2093\",\"hash\":\"24e746d5e07ee5be9eb02a853720433efabaa58b\",\"datavalue\":{\"value\":\"Alvesgaspar\",\"type\":\"string\"}}],\"P4174\":[{\"snaktype\":\"value\",\"property\":\"P4174\",\"hash\":\"b24ad9eaf68e345d77e81f3d282f1a6c78509375\",\"datavalue\":{\"value\":\"Alvesgaspar\",\"type\":\"string\"}}],\"P2699\":[{\"snaktype\":\"value\",\"property\":\"P2699\",\"hash\":\"9f9bea7a6dafcc528e83d55257a34d47721bfc1a\",\"datavalue\":{\"value\":\\n\"https://commons.wikimedia.org/wiki/User:Alvesgaspar\",\"type\":\"string\"}}]},\"qualifiers-order\":[\"P2093\",\"P4174\",\"P2699\"],\"id\":\"M12127693$C434F4A4-4D8C-4E6E-84F5-A5F2E962346A\",\"rank\":\"normal\"}],\"P275\":[{\"mainsnak\":{\"snaktype\":\"value\",\"property\":\"P275\",\"hash\":\"4315b8c41a664bcb36dc3783262461e54b0ddf16\",\"datavalue\":{\"value\":{\"entity-type\":\"item\",\"numeric-id\":50829104,\"id\":\"Q50829104\"},\"type\":\"wikibase-entityid\"}},\"type\":\"statement\",\"id\":\"M12127693$B905B7C7-F664-4049-9AA5-AADE98F814D1\",\"rank\":\"normal\"},{\"mainsnak\":{\"snaktype\":\"value\",\"property\":\"P275\",\"hash\":\"a35b4558d66c92eacbe2f569697ffb1934e0316e\",\"datavalue\":{\"value\":{\"entity-type\":\"item\",\"numeric-id\":14946043,\"id\":\"Q14946043\"},\"type\":\"wikibase-entityid\"}},\"type\":\"statement\",\"id\":\"M12127693$525BE518-2427-4BB5-99C9-CEB3D9AD7F85\",\"rank\":\"normal\"}],\"P6216\":[{\"mainsnak\":{\"snaktype\":\"value\",\"property\":\"P6216\",\"hash\":\"5570347fdc76d2a80732f51ea10ee4b144a084e0\",\"datavalue\":{\"value\":{\"entity-type\":\"item\",\"numeric-id\":50423863,\"id\":\"Q50423863\"},\\n\"type\":\"wikibase-entityid\"}},\"type\":\"statement\",\"id\":\"M12127693$B6C851D2-98C0-4C4C-AEA7-152DA9535214\",\"rank\":\"normal\"}],\"P4082\":[{\"mainsnak\":{\"snaktype\":\"value\",\"property\":\"P4082\",\"hash\":\"bc1764a062974f9f5e1a42cf8d65c7780438e977\",\"datavalue\":{\"value\":{\"entity-type\":\"item\",\"numeric-id\":1063853,\"id\":\"Q1063853\"},\"type\":\"wikibase-entityid\"}},\"type\":\"statement\",\"id\":\"M12127693$B9DB3402-EF79-4768-9088-743ECB9AE063\",\"rank\":\"normal\"}],\"P6731\":[{\"mainsnak\":{\"snaktype\":\"value\",\"property\":\"P6731\",\"hash\":\"00effd845d313cc188e25302a8712c2d48647171\",\"datavalue\":{\"value\":{\"entity-type\":\"item\",\"numeric-id\":63348049,\"id\":\"Q63348049\"},\"type\":\"wikibase-entityid\"}},\"type\":\"statement\",\"id\":\"M12127693$24A8A3BE-EEB0-4AC0-BF47-21A26220BF5F\",\"rank\":\"normal\"}],\"P1259\":[{\"mainsnak\":{\"snaktype\":\"value\",\"property\":\"P1259\",\"hash\":\"bd25c527d97295d05cd186385fd0742056f56d45\",\"datavalue\":{\"value\":{\"latitude\":37.851111,\"longitude\":-8.791583,\"altitude\":null,\"precision\":1.0e-6,\"globe\":\"http://www.wikidata.org/entity/Q2\"},\\n\"type\":\"globecoordinate\"}},\"type\":\"statement\",\"id\":\"M12127693$B1458392-A38C-458E-A6E2-D277B9710787\",\"rank\":\"normal\"}],\"P6757\":[{\"mainsnak\":{\"snaktype\":\"value\",\"property\":\"P6757\",\"hash\":\"73689978b7d7d9dd52924cf18bf5a817f6bdcfce\",\"datavalue\":{\"value\":{\"amount\":\"+0.004\",\"unit\":\"http://www.wikidata.org/entity/Q11574\"},\"type\":\"quantity\"}},\"type\":\"statement\",\"id\":\"M12127693$653D730C-9729-4FA9-BADB-5DC0E7737A67\",\"rank\":\"normal\"}],\"P6790\":[{\"mainsnak\":{\"snaktype\":\"value\",\"property\":\"P6790\",\"hash\":\"d48219d1dfee1c5130668cb2998f174f6fd5d219\",\"datavalue\":{\"value\":{\"amount\":\"+10\",\"unit\":\"1\"},\"type\":\"quantity\"}},\"type\":\"statement\",\"id\":\"M12127693$75AB7A67-F10F-4944-8127-AEB72CED9A61\",\"rank\":\"normal\"}],\"P2151\":[{\"mainsnak\":{\"snaktype\":\"value\",\"property\":\"P2151\",\"hash\":\"effc6d29cdd4c9558f1577c503f31b860cabc098\",\"datavalue\":{\"value\":{\"amount\":\"+100\",\"unit\":\"http://www.wikidata.org/entity/Q174789\"},\"type\":\"quantity\"}},\"type\":\"statement\",\"id\":\"M12127693$DCB3A854-4E8E-400E-9CBB-A1290C6A7ACE\",\"rank\":\\n\"normal\"}],\"P6789\":[{\"mainsnak\":{\"snaktype\":\"value\",\"property\":\"P6789\",\"hash\":\"1c94f4d4b36f41a354d2396ee9a6e8bbceadbfb5\",\"datavalue\":{\"value\":{\"amount\":\"+100\",\"unit\":\"1\"},\"type\":\"quantity\"}},\"type\":\"statement\",\"id\":\"M12127693$9BBB180E-8229-40A0-A797-E346EAE9EF61\",\"rank\":\"normal\"}],\"P31\":[{\"mainsnak\":{\"snaktype\":\"value\",\"property\":\"P31\",\"hash\":\"78817782cf2abc9d185934ba3b526591e12840f2\",\"datavalue\":{\"value\":{\"entity-type\":\"item\",\"numeric-id\":125191,\"id\":\"Q125191\"},\"type\":\"wikibase-entityid\"}},\"type\":\"statement\",\"id\":\"M12127693$86A4BD69-DD01-4261-82D2-67B6FC550B7D\",\"rank\":\"normal\"}]}},\"wbmiMinCaptionLength\":5,\"wbmiMaxCaptionLength\":250,\"wbmiParsedMessageAnonEditWarning\":\\n\"\\\\u003Cp\\\\u003EYou are not logged in and your \\\\u003Ca href=\\\\\"https://en.wikipedia.org/wiki/IP_address\\\\\" class=\\\\\"extiw\\\\\" title=\\\\\"w:IP address\\\\\"\\\\u003EIP address\\\\u003C/a\\\\u003E will be publicly visible if you make any edits. \\\\u003Ca href=\\\\\"/wiki/Special:UserLogin\\\\\" title=\\\\\"Special:UserLogin\\\\\"\\\\u003ELogging in\\\\u003C/a\\\\u003E or \\\\u003Ca href=\\\\\"/wiki/Special:CreateAccount\\\\\" title=\\\\\"Special:CreateAccount\\\\\"\\\\u003Ecreating an account\\\\u003C/a\\\\u003E will conceal your IP address and provide you with many other \\\\u003Ca href=\\\\\"https://en.wikipedia.org/wiki/Wikipedia:Why_create_an_account%3F\\\\\" class=\\\\\"extiw\\\\\" title=\\\\\"w:Wikipedia:Why create an account?\\\\\"\\\\u003Ebenefits\\\\u003C/a\\\\u003E. Please do not save test edits. If you want to experiment, please use the \\\\u003Ca href=\\\\\"/wiki/Commons:Sandbox\\\\\" title=\\\\\"Commons:Sandbox\\\\\"\\\\u003ESandbox\\\\u003C/a\\\\u003E.\\\\n\\\\u003C/p\\\\u003E\",\"wbmiProtectionMsg\":null,\"wgCentralAuthMobileDomain\":false,\"wgULSPosition\":\"personal\",\"wgULSisCompactLinksEnabled\":true};RLSTATE={\\n\"ext.gadget.Long-Image-Names-in-Categories\":\"ready\",\"ext.gadget.uploadWizardMobile\":\"ready\",\"ext.globalCssJs.user.styles\":\"ready\",\"site.styles\":\"ready\",\"user.styles\":\"ready\",\"ext.globalCssJs.user\":\"ready\",\"user\":\"ready\",\"user.options\":\"loading\",\"ext.kartographer.style\":\"ready\",\"wikibase.common\":\"ready\",\"jquery.wikibase.toolbar.styles\":\"ready\",\"mediawiki.interface.helpers.styles\":\"ready\",\"filepage\":\"ready\",\"mediawiki.action.view.filepage\":\"ready\",\"skins.vector.styles.legacy\":\"ready\",\"ext.visualEditor.desktopArticleTarget.noscript\":\"ready\",\"wikibase.mediainfo.filepage.styles\":\"ready\",\"wikibase.mediainfo.statements.styles\":\"ready\",\"ext.wikimediaBadges\":\"ready\",\"ext.uls.pt\":\"ready\"};RLPAGEMODULES=[\"ext.kartographer.link\",\"wikibase.entityPage.entityLoaded\",\"wikibase.ui.entityViewInit\",\"mediawiki.action.view.metadata\",\"site\",\"mediawiki.page.ready\",\"skins.vector.legacy.js\",\"mmv.head\",\"mmv.bootstrap.autostart\",\"ext.visualEditor.desktopArticleTarget.init\",\"ext.visualEditor.targetLoader\",\\n\"ext.eventLogging\",\"ext.wikimediaEvents\",\"ext.wikimediaEvents.wikibase\",\"ext.navigationTiming\",\"wikibase.mediainfo.filePageDisplay\",\"ext.centralNotice.geoIP\",\"ext.centralNotice.startUp\",\"ext.gadget.Slideshow\",\"ext.gadget.ZoomViewer\",\"ext.gadget.CollapsibleTemplates\",\"ext.gadget.fastcci\",\"ext.gadget.Stockphoto\",\"ext.gadget.WatchlistNotice\",\"ext.gadget.AjaxQuickDelete\",\"ext.gadget.WikiMiniAtlas\",\"ext.gadget.LanguageSelect\",\"ext.centralauth.centralautologin\",\"ext.uls.compactlinks\",\"ext.uls.interface\"];</script>\\n<script>(RLQ=window.RLQ||[]).push(function(){mw.loader.implement(\"user.options@12s5i\",function($,jQuery,require,module){mw.user.tokens.set({\"patrolToken\":\"+\\\\\\\\\",\"watchToken\":\"+\\\\\\\\\",\"csrfToken\":\"+\\\\\\\\\"});});});</script>\\n<link rel=\"stylesheet\" href=\"/w/load.php?lang=en&amp;modules=ext.kartographer.style%7Cext.uls.pt%7Cext.visualEditor.desktopArticleTarget.noscript%7Cext.wikimediaBadges%7Cfilepage%7Cjquery.wikibase.toolbar.styles%7Cmediawiki.action.view.filepage%7Cmediawiki.interface.helpers.styles%7Cskins.vector.styles.legacy%7Cwikibase.common%7Cwikibase.mediainfo.filepage.styles%7Cwikibase.mediainfo.statements.styles&amp;only=styles&amp;skin=vector\"/>\\n<script async=\"\" src=\"/w/load.php?lang=en&amp;modules=startup&amp;only=scripts&amp;raw=1&amp;skin=vector\"></script>\\n<meta name=\"ResourceLoaderDynamicStyles\" content=\"\"/>\\n<link rel=\"stylesheet\" href=\"/w/load.php?lang=en&amp;modules=ext.gadget.Long-Image-Names-in-Categories%2CuploadWizardMobile&amp;only=styles&amp;skin=vector\"/>\\n<link rel=\"stylesheet\" href=\"/w/load.php?lang=en&amp;modules=site.styles&amp;only=styles&amp;skin=vector\"/>\\n<meta name=\"generator\" content=\"MediaWiki 1.39.0-wmf.15\"/>\\n<meta name=\"referrer\" content=\"origin\"/>\\n<meta name=\"referrer\" content=\"origin-when-crossorigin\"/>\\n<meta name=\"referrer\" content=\"origin-when-cross-origin\"/>\\n<meta name=\"format-detection\" content=\"telephone=no\"/>\\n<meta property=\"og:image\" content=\"https://upload.wikimedia.org/wikipedia/commons/thumb/4/4d/Cat_November_2010-1a.jpg/1200px-Cat_November_2010-1a.jpg\"/>\\n<meta property=\"og:image:width\" content=\"1200\"/>\\n<meta property=\"og:image:height\" content=\"1602\"/>\\n<meta property=\"og:image\" content=\"https://upload.wikimedia.org/wikipedia/commons/thumb/4/4d/Cat_November_2010-1a.jpg/800px-Cat_November_2010-1a.jpg\"/>\\n<meta property=\"og:image:width\" content=\"800\"/>\\n<meta property=\"og:image:height\" content=\"1068\"/>\\n<meta property=\"og:image\" content=\"https://upload.wikimedia.org/wikipedia/commons/thumb/4/4d/Cat_November_2010-1a.jpg/640px-Cat_November_2010-1a.jpg\"/>\\n<meta property=\"og:image:width\" content=\"640\"/>\\n<meta property=\"og:image:height\" content=\"855\"/>\\n<meta property=\"og:title\" content=\"File:Cat November 2010-1a.jpg - Wikimedia Commons\"/>\\n<meta property=\"og:type\" content=\"website\"/>\\n<link rel=\"preconnect\" href=\"//upload.wikimedia.org\"/>\\n<link rel=\"preconnect\" href=\"//upload.wikimedia.org\"/>\\n<link rel=\"alternate\" href=\"https://commons.wikimedia.org/wiki/Special:EntityData/M12127693.json\" type=\"application/json\"/>\\n<link rel=\"alternate\" href=\"https://commons.wikimedia.org/wiki/Special:EntityData/M12127693.php\" type=\"application/vnd.php.serialized\"/>\\n<link rel=\"alternate\" href=\"https://commons.wikimedia.org/wiki/Special:EntityData/M12127693.n3\" type=\"text/n3\"/>\\n<link rel=\"alternate\" href=\"https://commons.wikimedia.org/wiki/Special:EntityData/M12127693.ttl\" type=\"text/turtle\"/>\\n<link rel=\"alternate\" href=\"https://commons.wikimedia.org/wiki/Special:EntityData/M12127693.nt\" type=\"application/n-triples\"/>\\n<link rel=\"alternate\" href=\"https://commons.wikimedia.org/wiki/Special:EntityData/M12127693.rdf\" type=\"application/rdf+xml\"/>\\n<link rel=\"alternate\" href=\"https://commons.wikimedia.org/wiki/Special:EntityData/M12127693.jsonld\" type=\"application/ld+json\"/>\\n<link rel=\"alternate\" media=\"only screen and (max-width: 720px)\" href=\"//commons.m.wikimedia.org/wiki/File:Cat_November_2010-1a.jpg\"/>\\n<link rel=\"alternate\" type=\"application/x-wiki\" title=\"Edit\" href=\"/w/index.php?title=File:Cat_November_2010-1a.jpg&amp;action=edit\"/>\\n<link rel=\"apple-touch-icon\" href=\"/static/apple-touch/commons.png\"/>\\n<link rel=\"shortcut icon\" href=\"/static/favicon/commons.ico\"/>\\n<link rel=\"search\" type=\"application/opensearchdescription+xml\" href=\"/w/opensearch_desc.php\" title=\"Wikimedia Commons\"/>\\n<link rel=\"EditURI\" type=\"application/rsd+xml\" href=\"//commons.wikimedia.org/w/api.php?action=rsd\"/>\\n<link rel=\"license\" href=\"https://creativecommons.org/licenses/by-sa/3.0/\"/>\\n<link rel=\"canonical\" href=\"https://commons.wikimedia.org/wiki/File:Cat_November_2010-1a.jpg\"/>\\n<link rel=\"dns-prefetch\" href=\"//meta.wikimedia.org\" />\\n<link rel=\"dns-prefetch\" href=\"//login.wikimedia.org\"/>\\n</head>\\n<body class=\"mediawiki ltr sitedir-ltr mw-hide-empty-elt ns-6 ns-subject mw-editable page-File_Cat_November_2010-1a_jpg rootpage-File_Cat_November_2010-1a_jpg skin-vector action-view wb-entitypage wb-mediainfopage wb-mediainfopage-M12127693 skin-vector-legacy\"><div id=\"mw-page-base\" class=\"noprint\"></div>\\n<div id=\"mw-head-base\" class=\"noprint\"></div>\\n<div id=\"content\" class=\"mw-body\" role=\"main\">\\n\\t<a id=\"top\"></a>\\n\\t<div id=\"siteNotice\"><!-- CentralNotice --></div>\\n\\t<div class=\"mw-indicators\">\\n\\t<div id=\"mw-indicator-Cscr-featured.svg\" class=\"mw-indicator\"><a href=\"/wiki/Commons:Featured_pictures\" title=\"This is a Featured picture. Click here for more information.\"><img alt=\"This is a Featured picture. Click here for more information.\" src=\"https://upload.wikimedia.org/wikipedia/commons/thumb/e/e7/Cscr-featured.svg/20px-Cscr-featured.svg.png\" decoding=\"async\" width=\"20\" height=\"19\" srcset=\"https://upload.wikimedia.org/wikipedia/commons/thumb/e/e7/Cscr-featured.svg/30px-Cscr-featured.svg.png 1.5x, https://upload.wikimedia.org/wikipedia/commons/thumb/e/e7/Cscr-featured.svg/40px-Cscr-featured.svg.png 2x\" data-file-width=\"462\" data-file-height=\"438\" /></a></div>\\n\\t<div id=\"mw-indicator-Potd-logo.svg\" class=\"mw-indicator\"><a href=\"/wiki/Special:MyLanguage/Commons:Picture_of_the_day\" title=\"This image was selected for display on the Main Page as the Picture of the day. Click here for more information.\"><img alt=\"This image was selected for display on the Main Page as the Picture of the day. Click here for more information.\" src=\"https://upload.wikimedia.org/wikipedia/commons/thumb/c/cd/Potd-logo.svg/20px-Potd-logo.svg.png\" decoding=\"async\" width=\"20\" height=\"20\" srcset=\"https://upload.wikimedia.org/wikipedia/commons/thumb/c/cd/Potd-logo.svg/30px-Potd-logo.svg.png 1.5x, https://upload.wikimedia.org/wikipedia/commons/thumb/c/cd/Potd-logo.svg/40px-Potd-logo.svg.png 2x\" data-file-width=\"124\" data-file-height=\"124\" /></a></div>\\n\\t</div>\\n\\t<h1 id=\"firstHeading\" class=\"firstHeading mw-first-heading\">File:Cat November 2010-1a.jpg</h1>\\n\\t<div id=\"bodyContent\" class=\"vector-body\">\\n\\t\\t<div id=\"siteSub\" class=\"noprint\">From Wikimedia Commons, the free media repository</div>\\n\\t\\t<div id=\"contentSub\"></div>\\n\\t\\t<div id=\"contentSub2\"></div>\\n\\t\\t\\n\\t\\t<div id=\"jump-to-nav\"></div>\\n\\t\\t<a class=\"mw-jump-link\" href=\"#mw-head\">Jump to navigation</a>\\n\\t\\t<a class=\"mw-jump-link\" href=\"#searchInput\">Jump to search</a>\\n\\t\\t<div id=\"mw-content-text\" class=\"mw-body-content\"><ul id=\"filetoc\"><li><a href=\"#file\">File</a></li>\\n<li><a href=\"#filehistory\">File history</a></li>\\n<li><a href=\"#filelinks\">File usage on Commons</a></li>\\n<li><a href=\"#globalusage\">File usage on other wikis</a></li>\\n<li><a href=\"#metadata\">Metadata</a></li></ul><div class=\"fullImageLink\" id=\"file\"><a href=\"https://upload.wikimedia.org/wikipedia/commons/4/4d/Cat_November_2010-1a.jpg\"><img alt=\"File:Cat November 2010-1a.jpg\" src=\"https://upload.wikimedia.org/wikipedia/commons/thumb/4/4d/Cat_November_2010-1a.jpg/449px-Cat_November_2010-1a.jpg?20101123131444\" decoding=\"async\" width=\"449\" height=\"600\" srcset=\"https://upload.wikimedia.org/wikipedia/commons/thumb/4/4d/Cat_November_2010-1a.jpg/674px-Cat_November_2010-1a.jpg?20101123131444 1.5x, https://upload.wikimedia.org/wikipedia/commons/thumb/4/4d/Cat_November_2010-1a.jpg/898px-Cat_November_2010-1a.jpg?20101123131444 2x\" data-file-width=\"1795\" data-file-height=\"2397\" /></a><div class=\"mw-filepage-resolutioninfo\">Size of this preview: <a href=\"https://upload.wikimedia.org/wikipedia/commons/thumb/4/4d/Cat_November_2010-1a.jpg/449px-Cat_November_2010-1a.jpg\" class=\"mw-thumbnail-link\">449 \\xc3\\x97 600 pixels</a>. <span class=\"mw-filepage-other-resolutions\">Other resolutions: <a href=\"https://upload.wikimedia.org/wikipedia/commons/thumb/4/4d/Cat_November_2010-1a.jpg/180px-Cat_November_2010-1a.jpg\" class=\"mw-thumbnail-link\">180 \\xc3\\x97 240 pixels</a> | <a href=\"https://upload.wikimedia.org/wikipedia/commons/thumb/4/4d/Cat_November_2010-1a.jpg/359px-Cat_November_2010-1a.jpg\" class=\"mw-thumbnail-link\">359 \\xc3\\x97 480 pixels</a> | <a href=\"https://upload.wikimedia.org/wikipedia/commons/thumb/4/4d/Cat_November_2010-1a.jpg/575px-Cat_November_2010-1a.jpg\" class=\"mw-thumbnail-link\">575 \\xc3\\x97 768 pixels</a> | <a href=\"https://upload.wikimedia.org/wikipedia/commons/thumb/4/4d/Cat_November_2010-1a.jpg/767px-Cat_November_2010-1a.jpg\" class=\"mw-thumbnail-link\">767 \\xc3\\x97 1,024 pixels</a> | <a href=\"https://upload.wikimedia.org/wikipedia/commons/4/4d/Cat_November_2010-1a.jpg\" class=\"mw-thumbnail-link\">1,795 \\xc3\\x97 2,397 pixels</a>.</span></div></div>\\n<div class=\"fullMedia\"><p><a href=\"https://upload.wikimedia.org/wikipedia/commons/4/4d/Cat_November_2010-1a.jpg\" class=\"internal\" title=\"Cat November 2010-1a.jpg\">Original file</a> &#8206;<span class=\"fileInfo\">(1,795 \\xc3\\x97 2,397 pixels, file size: 2.7 MB, MIME type: <span class=\"mime-type\">image/jpeg</span>)</span>\\n</p></div><div class=\\'wbmi-tabs-container oo-ui-layout oo-ui-panelLayout\\'><div id=\\'ooui-php-1\\' class=\\'wbmi-tabs oo-ui-layout oo-ui-menuLayout oo-ui-menuLayout-static oo-ui-menuLayout-top oo-ui-menuLayout-showMenu oo-ui-indexLayout\\' data-ooui=\\'{\"_\":\"OO.ui.IndexLayout\",\"classes\":[\"wbmi-tabs\"],\"expanded\":false,\"menuPanel\":{\"tag\":\"ooui-php-2\"},\"contentPanel\":{\"tag\":\"ooui-php-3\"},\"autoFocus\":false,\"tabPanels\":{\"wikiTextPlusCaptions\":{\"tag\":\"ooui-php-4\"},\"statements\":{\"tag\":\"ooui-php-5\"}},\"tabSelectWidget\":{\"tag\":\"ooui-php-6\"}}\\'><div aria-hidden=\\'false\\' class=\\'oo-ui-menuLayout-menu\\'><div id=\\'ooui-php-2\\' class=\\'oo-ui-layout oo-ui-panelLayout oo-ui-indexLayout-tabPanel\\' data-ooui=\\'{\"_\":\"OO.ui.PanelLayout\",\"preserveContent\":false,\"expanded\":false}\\'><div role=\\'tablist\\' aria-multiselectable=\\'false\\' tabindex=\\'0\\' id=\\'ooui-php-6\\' class=\\'oo-ui-selectWidget oo-ui-selectWidget-unpressed oo-ui-widget oo-ui-widget-enabled oo-ui-tabSelectWidget oo-ui-tabSelectWidget-frameless\\' data-ooui=\\'{\"_\":\"OO.ui.TabSelectWidget\",\"framed\":false,\"items\":[{\"tag\":\"ooui-php-7\"},{\"tag\":\"ooui-php-8\"}]}\\'><div aria-selected=\\'true\\' role=\\'tab\\' id=\\'ooui-php-7\\' class=\\'oo-ui-widget oo-ui-widget-enabled oo-ui-labelElement oo-ui-optionWidget oo-ui-tabOptionWidget oo-ui-optionWidget-selected\\' data-ooui=\\'{\"_\":\"OO.ui.TabOptionWidget\",\"selected\":true,\"label\":\"File information\",\"data\":\"wikiTextPlusCaptions\"}\\'><span class=\\'oo-ui-labelElement-label\\'>File information</span></div><div aria-selected=\\'false\\' role=\\'tab\\' id=\\'ooui-php-8\\' class=\\'oo-ui-widget oo-ui-widget-enabled oo-ui-labelElement oo-ui-optionWidget oo-ui-tabOptionWidget\\' data-ooui=\\'{\"_\":\"OO.ui.TabOptionWidget\",\"label\":\"Structured data\",\"data\":\"statements\"}\\'><span class=\\'oo-ui-labelElement-label\\'>Structured data</span></div></div></div></div><div class=\\'oo-ui-menuLayout-content\\'><div id=\\'ooui-php-3\\' class=\\'oo-ui-layout oo-ui-panelLayout oo-ui-stackLayout oo-ui-indexLayout-stackLayout\\' data-ooui=\\'{\"_\":\"OO.ui.StackLayout\",\"preserveContent\":false,\"expanded\":false,\"items\":[{\"tag\":\"ooui-php-4\"},{\"tag\":\"ooui-php-5\"}]}\\'><div role=\\'tabpanel\\' id=\\'ooui-php-4\\' class=\\'wbmi-tab oo-ui-layout oo-ui-panelLayout oo-ui-panelLayout-scrollable oo-ui-tabPanelLayout\\' data-ooui=\\'{\"_\":\"OO.ui.TabPanelLayout\",\"name\":\"wikiTextPlusCaptions\",\"label\":\"File information\",\"scrollable\":true,\"expanded\":false,\"classes\":[\"wbmi-tab\"]}\\'><h2 class=\"wbmi-captions-header\">Captions</h2><div class=\\'wbmi-entityview-captionsPanel oo-ui-layout oo-ui-panelLayout oo-ui-panelLayout-framed\\'><h3 class=\\'wbmi-entityview-captions-header\\'>Captions</h3><div class=\\'wbmi-entityview-caption oo-ui-layout oo-ui-horizontalLayout\\'><label class=\\'wbmi-language-label oo-ui-widget oo-ui-widget-enabled oo-ui-labelElement-label oo-ui-labelElement oo-ui-labelWidget\\'>English</label><div lang=\\'en\\' dir=\\'ltr\\' class=\\'wbmi-caption-value\\'>An Alpha Cat</div></div><div style=\\'display:none;\\' class=\\'wbmi-entityview-caption wbmi-entityview-hideable oo-ui-layout oo-ui-horizontalLayout\\'><label class=\\'wbmi-language-label oo-ui-widget oo-ui-widget-enabled oo-ui-labelElement-label oo-ui-labelElement oo-ui-labelWidget\\'>Indonesian</label><div lang=\\'id\\' dir=\\'ltr\\' class=\\'wbmi-caption-value\\'>Kucing</div></div><div style=\\'display:none;\\' class=\\'wbmi-entityview-caption wbmi-entityview-hideable oo-ui-layout oo-ui-horizontalLayout\\'><label class=\\'wbmi-language-label oo-ui-widget oo-ui-widget-enabled oo-ui-labelElement-label oo-ui-labelElement oo-ui-labelWidget\\'>Balinese</label><div lang=\\'ban\\' dir=\\'ltr\\' class=\\'wbmi-caption-value\\'>Meong</div></div><div style=\\'display:none;\\' class=\\'wbmi-entityview-caption wbmi-entityview-hideable oo-ui-layout oo-ui-horizontalLayout\\'><label class=\\'wbmi-language-label oo-ui-widget oo-ui-widget-enabled oo-ui-labelElement-label oo-ui-labelElement oo-ui-labelWidget\\'>German</label><div lang=\\'de\\' dir=\\'ltr\\' class=\\'wbmi-caption-value\\'>Junger getigerter Kater</div></div></div><div id=\"mw-imagepage-content\" lang=\"en\" dir=\"ltr\" class=\"mw-content-ltr\"><div class=\"mw-parser-output\"><h2><span class=\"mw-headline\" id=\"Summary\">Summary</span><span class=\"mw-editsection\"><span class=\"mw-editsection-bracket\">[</span><a href=\"/w/index.php?title=File:Cat_November_2010-1a.jpg&amp;action=edit&amp;section=1\" title=\"Edit section: Summary\">edit</a><span class=\"mw-editsection-bracket\">]</span></span></h2>\\n<div class=\"hproduct commons-file-information-table\">\\n<table class=\"fileinfotpl-type-information toccolours vevent mw-content-ltr\" style=\"width: 100%; direction: ltr;\" cellpadding=\"4\">\\n\\n<tbody><tr style=\"vertical-align: top\">\\n<td id=\"fileinfotpl_desc\" class=\"fileinfo-paramfield\" lang=\"en\">Description<span class=\"summary fn\" style=\"display:none\">Cat November 2010-1a.jpg</span></td>\\n<td class=\"description\">\\n<div class=\"description mw-content-rtl ar\" dir=\"rtl\" lang=\"ar\"><span class=\"language ar\" title=\"Arabic\"><b>\\xd8\\xa7\\xd9\\x84\\xd8\\xb9\\xd8\\xb1\\xd8\\xa8\\xd9\\x8a\\xd8\\xa9&#58; </b></span> \\xd8\\xb0\\xd9\\x83\\xd8\\xb1 \\xd9\\x82\\xd8\\xb7 \\xd9\\x85\\xd9\\x8f\\xd8\\xb3\\xd8\\xaa\\xd8\\xa3\\xd9\\x86\\xd8\\xb3 \\xd9\\x85\\xd9\\x86 \\xd8\\xa7\\xd9\\x84\\xd8\\xb3\\xd9\\x8f\\xd9\\x84\\xd8\\xa7\\xd9\\x84\\xd8\\xa9 \\xd8\\xa7\\xd9\\x84\\xd8\\xb9\\xd8\\xaa\\xd8\\xa7\\xd8\\xa8\\xd9\\x8a\\xd9\\x8e\\xd9\\x91\\xd8\\xa9\\xd8\\x8c \\xd9\\x81\\xd9\\x8a \\xd8\\xa7\\xd9\\x84\\xd9\\xbe\\xd8\\xb1\\xd8\\xaa\\xd8\\xba\\xd8\\xa7\\xd9\\x84.</div>\\n<div class=\"description mw-content-ltr de\" dir=\"ltr\" lang=\"de\"><span class=\"language de\" title=\"German\"><b>Deutsch&#58; </b></span> M\\xc3\\xa4nnliche getigerte Katze, Portugal</div>\\n<div class=\"description mw-content-ltr en\" dir=\"ltr\" lang=\"en\"><span class=\"language en\" title=\"English\"><b>English&#58; </b></span> Young male tabby cat, Portugal.</div>\\n<div class=\"description mw-content-ltr fr\" dir=\"ltr\" lang=\"fr\"><span class=\"language fr\" title=\"French\"><b>Fran\\xc3\\xa7ais&#160;&#58; </b></span> Jeune chat tigr\\xc3\\xa9 m\\xc3\\xa2le, au Portugal.</div>\\n<div class=\"description mw-content-ltr ru\" dir=\"ltr\" lang=\"ru\"><span class=\"language ru\" title=\"Russian\"><b>\\xd0\\xa0\\xd1\\x83\\xd1\\x81\\xd1\\x81\\xd0\\xba\\xd0\\xb8\\xd0\\xb9&#58; </b></span> \\xd0\\x9c\\xd0\\xbe\\xd0\\xbb\\xd0\\xbe\\xd0\\xb4\\xd0\\xbe\\xd0\\xb9 \\xd0\\xba\\xd0\\xbe\\xd1\\x82.</div></td>\\n</tr>\\n\\n<tr style=\"vertical-align: top\">\\n<td id=\"fileinfotpl_date\" class=\"fileinfo-paramfield\" lang=\"en\">Date</td>\\n<td lang=\"en\">\\n<time class=\"dtstart\" datetime=\"2010-11\" lang=\"en\" dir=\"ltr\" style=\"white-space:nowrap\">November 2010</time> (<time class=\"dtstart\" datetime=\"2010-11-21\" lang=\"en\" dir=\"ltr\" style=\"white-space:nowrap\">21 November 2010</time>,&#160;according to <a href=\"https://en.wikipedia.org/wiki/Exchangeable_image_file_format\" class=\"extiw\" title=\"en:Exchangeable image file format\">Exif</a> data)</td>\\n</tr>\\n\\n<tr style=\"vertical-align: top\">\\n<td id=\"fileinfotpl_src\" class=\"fileinfo-paramfield\" lang=\"en\">Source</td>\\n<td>\\n<span class=\"int-own-work\" lang=\"en\">Own work</span></td>\\n</tr>\\n\\n<tr style=\"vertical-align: top\">\\n<td id=\"fileinfotpl_aut\" class=\"fileinfo-paramfield\" lang=\"en\">Author</td>\\n<td>\\n<a href=\"/wiki/User:Alvesgaspar\" title=\"User:Alvesgaspar\">Alvesgaspar</a></td>\\n</tr>\\n\\n<tr style=\"vertical-align: top\">\\n<td id=\"fileinfotpl_ver\" class=\"fileinfo-paramfield\" lang=\"en\">Other versions</td>\\n<td>\\n<a href=\"/wiki/File:Cat_November_2010-1.jpg\" class=\"image\"><img alt=\"Cat November 2010-1.jpg\" src=\"https://upload.wikimedia.org/wikipedia/commons/thumb/f/f0/Cat_November_2010-1.jpg/150px-Cat_November_2010-1.jpg\" decoding=\"async\" width=\"150\" height=\"210\" srcset=\"https://upload.wikimedia.org/wikipedia/commons/thumb/f/f0/Cat_November_2010-1.jpg/225px-Cat_November_2010-1.jpg 1.5x, https://upload.wikimedia.org/wikipedia/commons/thumb/f/f0/Cat_November_2010-1.jpg/300px-Cat_November_2010-1.jpg 2x\" data-file-width=\"2367\" data-file-height=\"3308\" /></a>......[[File:|150px]]</td>\\n</tr>\\n\\n\\n</tbody></table>\\n</div>\\n<table class=\"toccolours mw-content-ltr layouttemplate commons-file-information-table\" style=\"width: 100%;\" dir=\"ltr\" lang=\"en\">\\n<tbody><tr><th class=\"type fileinfo-paramfield\">Camera location</th><td style=\"border:none;\"><span class=\"plainlinks\"><span class=\"plainlinksneverexpand\"><a class=\"external text\" href=\"//geohack.toolforge.org/geohack.php?pagename=File:Cat_November_2010-1a.jpg&amp;params=037.851111_N_-008.791583_E_globe:Earth_type:camera_region:PT_&amp;language=en\">37\\xc2\\xb0&#160;51\\xe2\\x80\\xb2&#160;04\\xe2\\x80\\xb3&#160;N, 8\\xc2\\xb0&#160;47\\xe2\\x80\\xb2&#160;29.7\\xe2\\x80\\xb3&#160;W</a></span></span>&#160;<a class=\"mw-kartographer-maplink no-icon\" data-mw=\"interface\" data-style=\"osm-intl\" href=\"/wiki/Special:Map/13/37.851111/-8.791583/en\" data-zoom=\"13\" data-lat=\"37.851111\" data-lon=\"-8.791583\" data-overlays=\"[&quot;_acd02fdff986551286e7f8d4749500b4e4088cc4&quot;]\"><img alt=\"Kartographer map based on OpenStreetMap.\" src=\"https://upload.wikimedia.org/wikipedia/commons/thumb/b/b0/Openstreetmap_logo.svg/20px-Openstreetmap_logo.svg.png\" decoding=\"async\" title=\"Kartographer map based on OpenStreetMap.\" width=\"20\" height=\"20\" srcset=\"https://upload.wikimedia.org/wikipedia/commons/thumb/b/b0/Openstreetmap_logo.svg/30px-Openstreetmap_logo.svg.png 1.5x, https://upload.wikimedia.org/wikipedia/commons/thumb/b/b0/Openstreetmap_logo.svg/40px-Openstreetmap_logo.svg.png 2x\" data-file-width=\"256\" data-file-height=\"256\" /></a></td><td style=\"border:none;\">View this and other nearby images on: <a class=\"external text\" href=\"//wikimap.toolforge.org/?wp=false&amp;cluster=false&amp;zoom=16&amp;lat=037.851111&amp;lon=-008.791583\">OpenStreetMap</a></td><td style=\"border:none;\"><a href=\"/wiki/Commons:Geocoding\" title=\"Commons:Geocoding\"><img alt=\"info\" src=\"https://upload.wikimedia.org/wikipedia/commons/thumb/6/69/OOjs_UI_icon_help.svg/18px-OOjs_UI_icon_help.svg.png\" decoding=\"async\" width=\"18\" height=\"18\" srcset=\"https://upload.wikimedia.org/wikipedia/commons/thumb/6/69/OOjs_UI_icon_help.svg/27px-OOjs_UI_icon_help.svg.png 1.5x, https://upload.wikimedia.org/wikipedia/commons/thumb/6/69/OOjs_UI_icon_help.svg/36px-OOjs_UI_icon_help.svg.png 2x\" data-file-width=\"24\" data-file-height=\"24\" /></a><span class=\"geo\" style=\"display:none\"> 37.851111;   -8.791583</span></td></tr>\\n</tbody></table>\\n<div id=\"assessments\" dir=\"ltr\" lang=\"en\">\\n<table cellspacing=\"0\" cellpadding=\"0\" style=\"background:transparent;margin:0.5em auto; width:100%\">\\n<tbody><tr>\\n<td>\\n<table style=\"clear:both;margin:0em auto;width:100%; box-sizing: border-box; border:2px solid #E5D4A1;background-color:#FAF5E6; direction:ltr;\"><tbody><tr><td>\\n<table style=\"background:transparent; width:100%;\">\\n\\n\\n<tbody><tr>\\n<td style=\"width:40px;text-align:center;\" rowspan=\"2\">\\n<div class=\"center\"><div class=\"floatnone\"><a href=\"/wiki/Template:Potd/2011-04#22\" title=\"POTD\"><img alt=\"POTD\" src=\"https://upload.wikimedia.org/wikipedia/commons/thumb/c/cd/Potd-logo.svg/40px-Potd-logo.svg.png\" decoding=\"async\" width=\"40\" height=\"40\" srcset=\"https://upload.wikimedia.org/wikipedia/commons/thumb/c/cd/Potd-logo.svg/60px-Potd-logo.svg.png 1.5x, https://upload.wikimedia.org/wikipedia/commons/thumb/c/cd/Potd-logo.svg/80px-Potd-logo.svg.png 2x\" data-file-width=\"124\" data-file-height=\"124\" /></a></div></div><img alt=\"Featured picture\" src=\"https://upload.wikimedia.org/wikipedia/commons/thumb/e/e7/Cscr-featured.svg/40px-Cscr-featured.svg.png\" decoding=\"async\" title=\"Featured picture\" width=\"40\" height=\"38\" srcset=\"https://upload.wikimedia.org/wikipedia/commons/thumb/e/e7/Cscr-featured.svg/60px-Cscr-featured.svg.png 1.5x, https://upload.wikimedia.org/wikipedia/commons/thumb/e/e7/Cscr-featured.svg/80px-Cscr-featured.svg.png 2x\" data-file-width=\"462\" data-file-height=\"438\" />\\n</td>\\n<td>\\n</td>\\n<td style=\"width:30px;text-align:center;\" rowspan=\"2\">\\n<p><img alt=\"Wikimedia Commons\" src=\"https://upload.wikimedia.org/wikipedia/commons/thumb/4/4a/Commons-logo.svg/30px-Commons-logo.svg.png\" decoding=\"async\" title=\"Wikimedia Commons\" width=\"30\" height=\"40\" srcset=\"https://upload.wikimedia.org/wikipedia/commons/thumb/4/4a/Commons-logo.svg/45px-Commons-logo.svg.png 1.5x, https://upload.wikimedia.org/wikipedia/commons/thumb/4/4a/Commons-logo.svg/60px-Commons-logo.svg.png 2x\" data-file-width=\"1024\" data-file-height=\"1376\" /><img alt=\"Wikipedia\" src=\"https://upload.wikimedia.org/wikipedia/commons/thumb/8/80/Wikipedia-logo-v2.svg/30px-Wikipedia-logo-v2.svg.png\" decoding=\"async\" title=\"Wikipedia\" width=\"30\" height=\"27\" srcset=\"https://upload.wikimedia.org/wikipedia/commons/thumb/8/80/Wikipedia-logo-v2.svg/45px-Wikipedia-logo-v2.svg.png 1.5x, https://upload.wikimedia.org/wikipedia/commons/thumb/8/80/Wikipedia-logo-v2.svg/60px-Wikipedia-logo-v2.svg.png 2x\" data-file-width=\"103\" data-file-height=\"94\" />\\n</p>\\n</td></tr>\\n<tr>\\n<td>This file was the <b><a href=\"/wiki/Commons:Picture_of_the_day\" title=\"Commons:Picture of the day\">picture of the day</a></b> on <a href=\"/wiki/Template:Potd/2011-04#22\" title=\"Template:Potd/2011-04\">April 22, 2011</a>.<br />This is a <b>featured picture</b> on Wikimedia Commons (<a href=\"/wiki/Commons:Featured_pictures\" title=\"Commons:Featured pictures\">Featured pictures</a>) and is considered one of the finest images. See its nomination <a href=\"/wiki/Commons:Featured_picture_candidates/File:Cat_November_2010-1a.jpg\" title=\"Commons:Featured picture candidates/File:Cat November 2010-1a.jpg\">here</a>.<br /><hr /><img alt=\"Cscr-featured.svg\" src=\"https://upload.wikimedia.org/wikipedia/commons/thumb/e/e7/Cscr-featured.svg/20px-Cscr-featured.svg.png\" decoding=\"async\" width=\"20\" height=\"19\" srcset=\"https://upload.wikimedia.org/wikipedia/commons/thumb/e/e7/Cscr-featured.svg/30px-Cscr-featured.svg.png 1.5x, https://upload.wikimedia.org/wikipedia/commons/thumb/e/e7/Cscr-featured.svg/40px-Cscr-featured.svg.png 2x\" data-file-width=\"462\" data-file-height=\"438\" />&#160;This is a <b>featured picture</b> on the Arabic language Wikipedia (<a href=\"https://en.wikipedia.org/wiki/ar:%D9%88%D9%8A%D9%83%D9%8A%D8%A8%D9%8A%D8%AF%D9%8A%D8%A7:%D8%B5%D9%88%D8%B1_%D9%85%D8%AE%D8%AA%D8%A7%D8%B1%D8%A9\" class=\"extiw\" title=\"w:ar:\\xd9\\x88\\xd9\\x8a\\xd9\\x83\\xd9\\x8a\\xd8\\xa8\\xd9\\x8a\\xd8\\xaf\\xd9\\x8a\\xd8\\xa7:\\xd8\\xb5\\xd9\\x88\\xd8\\xb1 \\xd9\\x85\\xd8\\xae\\xd8\\xaa\\xd8\\xa7\\xd8\\xb1\\xd8\\xa9\">\\xd8\\xb5\\xd9\\x88\\xd8\\xb1 \\xd9\\x85\\xd8\\xae\\xd8\\xaa\\xd8\\xa7\\xd8\\xb1\\xd8\\xa9</a>) and is considered one of the finest images. See its nomination <a href=\"https://en.wikipedia.org/wiki/ar:%D9%88%D9%8A%D9%83%D9%8A%D8%A8%D9%8A%D8%AF%D9%8A%D8%A7:%D8%AA%D8%B1%D8%B4%D9%8A%D8%AD%D8%A7%D8%AA_%D8%A7%D9%84%D8%B5%D9%88%D8%B1_%D8%A7%D9%84%D9%85%D8%AE%D8%AA%D8%A7%D8%B1%D8%A9/Cat_November_2010-1a.jpg\" class=\"extiw\" title=\"w:ar:\\xd9\\x88\\xd9\\x8a\\xd9\\x83\\xd9\\x8a\\xd8\\xa8\\xd9\\x8a\\xd8\\xaf\\xd9\\x8a\\xd8\\xa7:\\xd8\\xaa\\xd8\\xb1\\xd8\\xb4\\xd9\\x8a\\xd8\\xad\\xd8\\xa7\\xd8\\xaa \\xd8\\xa7\\xd9\\x84\\xd8\\xb5\\xd9\\x88\\xd8\\xb1 \\xd8\\xa7\\xd9\\x84\\xd9\\x85\\xd8\\xae\\xd8\\xaa\\xd8\\xa7\\xd8\\xb1\\xd8\\xa9/Cat November 2010-1a.jpg\">here</a>.<br /><img alt=\"Cscr-featured.svg\" src=\"https://upload.wikimedia.org/wikipedia/commons/thumb/e/e7/Cscr-featured.svg/20px-Cscr-featured.svg.png\" decoding=\"async\" width=\"20\" height=\"19\" srcset=\"https://upload.wikimedia.org/wikipedia/commons/thumb/e/e7/Cscr-featured.svg/30px-Cscr-featured.svg.png 1.5x, https://upload.wikimedia.org/wikipedia/commons/thumb/e/e7/Cscr-featured.svg/40px-Cscr-featured.svg.png 2x\" data-file-width=\"462\" data-file-height=\"438\" />&#160;This is a <b>featured picture</b> on the English language Wikipedia (<a href=\"https://en.wikipedia.org/wiki/en:Wikipedia:Featured_pictures\" class=\"extiw\" title=\"w:en:Wikipedia:Featured pictures\">Featured pictures</a>) and is considered one of the finest images. See its nomination <a href=\"https://en.wikipedia.org/wiki/en:Wikipedia:Featured_picture_candidates/Tabby_cat\" class=\"extiw\" title=\"w:en:Wikipedia:Featured picture candidates/Tabby cat\">here</a>.<br />\\n<hr />\\n<p>If you have an image of similar quality that can be published under a <a href=\"/wiki/Commons:Licensing\" title=\"Commons:Licensing\">suitable copyright license</a>, be sure to <a href=\"/wiki/Special:Upload\" title=\"Special:Upload\">upload</a> it, <a href=\"/wiki/Commons:Copyright_tags\" title=\"Commons:Copyright tags\">tag</a> it, and <a href=\"/wiki/Commons:Featured_picture_candidates\" title=\"Commons:Featured picture candidates\">nominate it</a>.<br />\\n</p>\\n</td></tr></tbody></table>\\n</td></tr></tbody></table>\\n</td></tr></tbody></table>\\n</div>\\n<style data-mw-deduplicate=\"TemplateStyles:r649029544\">.mw-parser-output .template-picture-of-the-day{box-sizing:border-box;clear:both;width:100%;margin:0.5em auto;border:2px solid #e5d4a1;background-color:#faf5e6;border-spacing:8px}.mw-parser-output .template-picture-of-the-day td{padding:0}.mw-parser-output .template-picture-of-the-day .potd-icon{width:64px;text-align:center}</style>\\n<p class=\"mw-empty-elt\">\\n</p>\\n<table id=\"template-picture-of-the-day\" class=\"template-picture-of-the-day\" dir=\"ltr\" role=\"presentation\">\\n\\n<tbody><tr>\\n<td class=\"potd-icon\"><img alt=\"Picture of the day\" src=\"https://upload.wikimedia.org/wikipedia/commons/thumb/c/cd/Potd-logo.svg/64px-Potd-logo.svg.png\" decoding=\"async\" title=\"Picture of the day\" width=\"64\" height=\"64\" srcset=\"https://upload.wikimedia.org/wikipedia/commons/thumb/c/cd/Potd-logo.svg/96px-Potd-logo.svg.png 1.5x, https://upload.wikimedia.org/wikipedia/commons/thumb/c/cd/Potd-logo.svg/128px-Potd-logo.svg.png 2x\" data-file-width=\"124\" data-file-height=\"124\" />\\n</td>\\n<td><span id=\"field-potd\" title=\"20110422\"></span><div lang=\"en\">This image was selected as <b><a href=\"/wiki/Commons:Picture_of_the_day\" title=\"Commons:Picture of the day\">picture of the day</a></b> on Wikimedia Commons for <a href=\"/wiki/Template:Potd/2011-04#22\" title=\"Template:Potd/2011-04\"><time class=\"dtstart\" datetime=\"2011-04-22\" lang=\"en\" dir=\"ltr\" style=\"white-space:nowrap\">22 April 2011</time></a>. It was captioned as follows:</div><div class=\"description mw-content-ltr en\" dir=\"ltr\" lang=\"en\"><span class=\"language en\" title=\"English\"><b>English&#58; </b></span> Young male tabby cat, Portugal.</div><div class=\"collapsibletemplate collapsed\" style=\"clear:both;\">\\n<div class=\"collapsibleheader header\" style=\"display:none; font-weight:bold; background-color:transparent; text-align:start; float:none;font-size:smaller;\"><span class=\"headertext\">Other languages:&#x20;</span></div>\\n<div class=\"body show-on-commons\" style=\"padding:3px; font-weight:normal; background:transparent; text-align:start;\">\\n<div class=\"multilingual\"><div class=\"description de lang-de\" lang=\"de\" dir=\"ltr\" style=\"margin:.25em 0;line-height:normal;\"><span class=\"language langlabel-de\" lang=\"de\" style=\"font-weight:bold;\"><bdi>Deutsch</bdi>&#x3a;&#32;</span> Junger <a href=\"https://de.wikipedia.org/wiki/Katzen\" class=\"extiw\" title=\"de:Katzen\">Kater</a> (<i><a href=\"/wiki/Category:Felidae\" title=\"Category:Felidae\">Felidae</a></i>) im <a href=\"/wiki/Category:Tabby_cats\" title=\"Category:Tabby cats\">Tabbymuster</a> aus <a href=\"/wiki/Portugal\" title=\"Portugal\">Portugal</a></div><div class=\"description en lang-en\" lang=\"en\" dir=\"ltr\" style=\"margin:.25em 0;line-height:normal;\"><span class=\"language langlabel-en\" lang=\"en\" style=\"font-weight:bold;\"><bdi>English</bdi>&#x3a;&#32;</span> Young male tabby cat, Portugal.</div><div class=\"description es lang-es\" lang=\"es\" dir=\"ltr\" style=\"margin:.25em 0;line-height:normal;\"><span class=\"language langlabel-es\" lang=\"es\" style=\"font-weight:bold;\"><bdi>Espa\\xc3\\xb1ol</bdi>&#x202f;&#x3a;&#32;</span> <a href=\"https://en.wikipedia.org/wiki/es:Gato_barcino\" class=\"extiw\" title=\"w:es:Gato barcino\">Gato barcino</a> macho joven, Portugal.</div><div class=\"description fr lang-fr\" lang=\"fr\" dir=\"ltr\" style=\"margin:.25em 0;line-height:normal;\"><span class=\"language langlabel-fr\" lang=\"fr\" style=\"font-weight:bold;\"><bdi>Fran\\xc3\\xa7ais</bdi>&#x202f;&#x3a;&#32;</span> Jeune chat tigr\\xc3\\xa9 m\\xc3\\xa2le, au Portugal.</div><div class=\"description it lang-it\" lang=\"it\" dir=\"ltr\" style=\"margin:.25em 0;line-height:normal;\"><span class=\"language langlabel-it\" lang=\"it\" style=\"font-weight:bold;\"><bdi>Italiano</bdi>&#x202f;&#x3a;&#32;</span> Giovane gatto tigrato, Portogallo</div><div class=\"description nl lang-nl\" lang=\"nl\" dir=\"ltr\" style=\"margin:.25em 0;line-height:normal;\"><span class=\"language langlabel-nl\" lang=\"nl\" style=\"font-weight:bold;\"><bdi>Nederlands</bdi>&#x3a;&#32;</span> Een jonge <a href=\"https://nl.wikipedia.org/wiki/Cyperse_kat\" class=\"extiw\" title=\"nl:Cyperse kat\">cyperse kater</a> in <a href=\"https://nl.wikipedia.org/wiki/Portugal\" class=\"extiw\" title=\"nl:Portugal\">Portugal</a>.</div><div class=\"description pl lang-pl\" lang=\"pl\" dir=\"ltr\" style=\"margin:.25em 0;line-height:normal;\"><span class=\"language langlabel-pl\" lang=\"pl\" style=\"font-weight:bold;\"><bdi>Polski</bdi>&#x3a;&#32;</span> M\\xc5\\x82ody kot, Portugalia.</div><div class=\"description pt lang-pt\" lang=\"pt\" dir=\"ltr\" style=\"margin:.25em 0;line-height:normal;\"><span class=\"language langlabel-pt\" lang=\"pt\" style=\"font-weight:bold;\"><bdi>Portugu\\xc3\\xaas</bdi>&#x202f;&#x3a;&#32;</span> Jovem gato malhado, Portugal.</div><div class=\"description ru lang-ru\" lang=\"ru\" dir=\"ltr\" style=\"margin:.25em 0;line-height:normal;\"><span class=\"language langlabel-ru\" lang=\"ru\" style=\"font-weight:bold;\"><bdi>\\xd0\\xa0\\xd1\\x83\\xd1\\x81\\xd1\\x81\\xd0\\xba\\xd0\\xb8\\xd0\\xb9</bdi>&#x202f;&#x3a;&#32;</span> \\xd0\\x9c\\xd0\\xbe\\xd0\\xbb\\xd0\\xbe\\xd0\\xb4\\xd0\\xbe\\xd0\\xb9 \\xd0\\xba\\xd0\\xbe\\xd1\\x82. \\xd0\\x9f\\xd0\\xbe\\xd1\\x80\\xd1\\x82\\xd1\\x83\\xd0\\xb3\\xd0\\xb0\\xd0\\xbb\\xd0\\xb8\\xd1\\x8f.</div><div class=\"description uk lang-uk\" lang=\"uk\" dir=\"ltr\" style=\"margin:.25em 0;line-height:normal;\"><span class=\"language langlabel-uk\" lang=\"uk\" style=\"font-weight:bold;\"><bdi>\\xd0\\xa3\\xd0\\xba\\xd1\\x80\\xd0\\xb0\\xd1\\x97\\xd0\\xbd\\xd1\\x81\\xd1\\x8c\\xd0\\xba\\xd0\\xb0</bdi>&#x3a;&#32;</span> \\xd0\\x9c\\xd0\\xbe\\xd0\\xbb\\xd0\\xbe\\xd0\\xb4\\xd0\\xb8\\xd0\\xb9 \\xd1\\x81\\xd0\\xb0\\xd0\\xbc\\xd0\\xb5\\xd1\\x86\\xd1\\x8c \\xd0\\xb7\\xd0\\xb2\\xd0\\xb8\\xd1\\x87\\xd0\\xb0\\xd0\\xb9\\xd0\\xbd\\xd0\\xbe\\xd0\\xb3\\xd0\\xbe <i>\\xd1\\x82\\xd0\\xb8\\xd0\\xb3\\xd1\\x80\\xd0\\xbe\\xd0\\xb2\\xd0\\xbe\\xd0\\xb3\\xd0\\xbe \\xd0\\xa2\\xd0\\xb0\\xd0\\xb1\\xd0\\xb1\\xd1\\x96</i> (<small><i>\\xd1\\x82\\xd0\\xb0\\xd0\\xb1\\xd0\\xb1\\xd1\\x96</i> \\xd0\\xbf\\xd0\\xbe\\xd1\\x85\\xd0\\xbe\\xd0\\xb4\\xd0\\xb8\\xd1\\x82\\xd1\\x8c \\xd0\\xb2\\xd1\\x96\\xd0\\xb4 \\xd0\\xb0\\xd1\\x80\\xd0\\xb0\\xd0\\xb1\\xd1\\x81\\xd1\\x8c\\xd0\\xba\\xd0\\xbe\\xd1\\x97 \\xd0\\xbd\\xd0\\xb0\\xd0\\xb7\\xd0\\xb2\\xd0\\xb8 \\xd1\\x82\\xd0\\xba\\xd0\\xb0\\xd0\\xbd\\xd0\\xb8\\xd0\\xbd\\xd0\\xb8 <i>\\xd1\\x81\\xd0\\xbc\\xd1\\x83\\xd0\\xb3\\xd0\\xb0\\xd1\\x81\\xd1\\x82\\xd0\\xb0 \\xd1\\x88\\xd0\\xbe\\xd0\\xb2\\xd0\\xba\\xd0\\xbe\\xd0\\xb2\\xd0\\xb0 \\xd1\\x82\\xd0\\xb0\\xd1\\x84\\xd1\\x82\\xd0\\xb0</i></small> )  \\xd0\\xb7 \\xd0\\xba\\xd0\\xbb\\xd0\\xb0\\xd1\\x81\\xd0\\xb8\\xd1\\x87\\xd0\\xbd\\xd0\\xb8\\xd0\\xbc \"\\xd0\\x9c\" \\xd0\\xbd\\xd0\\xb0 \\xd0\\xbb\\xd0\\xbe\\xd0\\xb1\\xd1\\x96, <a href=\"https://uk.wikipedia.org/wiki/%D0%9F%D0%BE%D1%80%D1%82%D1%83%D0%B3%D0%B0%D0%BB%D1%96%D1%8F\" class=\"extiw\" title=\"uk:\\xd0\\x9f\\xd0\\xbe\\xd1\\x80\\xd1\\x82\\xd1\\x83\\xd0\\xb3\\xd0\\xb0\\xd0\\xbb\\xd1\\x96\\xd1\\x8f\">\\xd0\\x9f\\xd0\\xbe\\xd1\\x80\\xd1\\x82\\xd1\\x83\\xd0\\xb3\\xd0\\xb0\\xd0\\xbb\\xd1\\x96\\xd1\\x8f</a></div><div class=\"description ko lang-ko\" lang=\"ko\" dir=\"ltr\" style=\"margin:.25em 0;line-height:normal;\"><span class=\"language langlabel-ko\" lang=\"ko\" style=\"font-weight:bold;\"><bdi>\\xed\\x95\\x9c\\xea\\xb5\\xad\\xec\\x96\\xb4</bdi>&#xff1a;</span> \\xec\\x96\\xb4\\xeb\\xa6\\xb0 \\xec\\x88\\x98\\xec\\xbb\\xb7 \\xec\\x96\\xbc\\xeb\\xa3\\xa9 \\xea\\xb3\\xa0\\xec\\x96\\x91\\xec\\x9d\\xb4, \\xed\\x8f\\xac\\xeb\\xa5\\xb4\\xed\\x88\\xac\\xea\\xb0\\x88.</div><div class=\"description ja lang-ja\" lang=\"ja\" dir=\"ltr\" style=\"margin:.25em 0;line-height:normal;\"><span class=\"language langlabel-ja\" lang=\"ja\" style=\"font-weight:bold;\"><bdi>\\xe6\\x97\\xa5\\xe6\\x9c\\xac\\xe8\\xaa\\x9e</bdi>&#xff1a;</span> \\xe8\\x8b\\xa5\\xe3\\x81\\x84\\xe3\\x82\\xaa\\xe3\\x82\\xb9\\xe3\\x81\\xae<a href=\"https://ja.wikipedia.org/wiki/%E3%83%88%E3%83%A9%E3%83%8D%E3%82%B3\" class=\"extiw\" title=\"ja:\\xe3\\x83\\x88\\xe3\\x83\\xa9\\xe3\\x83\\x8d\\xe3\\x82\\xb3\">\\xe3\\x83\\x88\\xe3\\x83\\xa9\\xe3\\x83\\x8d\\xe3\\x82\\xb3</a>\\xe3\\x80\\x82\\xe3\\x83\\x9d\\xe3\\x83\\xab\\xe3\\x83\\x88\\xe3\\x82\\xac\\xe3\\x83\\xab\\xe3\\x81\\xab\\xe3\\x81\\xa6\\xe3\\x80\\x82</div><div class=\"description zh lang-zh\" lang=\"zh\" dir=\"ltr\" style=\"margin:.25em 0;line-height:normal;\"><span class=\"language langlabel-zh\" lang=\"zh\" style=\"font-weight:bold;\"><bdi>\\xe4\\xb8\\xad\\xe6\\x96\\x87</bdi>&#xff1a;</span> <a href=\"https://zh.wikipedia.org/wiki/%E7%8C%AB\" class=\"extiw\" title=\"zh:\\xe7\\x8c\\xab\">\\xe8\\x99\\x8e\\xe6\\x96\\x91\\xe7\\x8c\\xab</a></div></div>\\n</div></div>\\n</td></tr></tbody></table>\\n<h2><span class=\"mw-headline\" id=\"Licensing\">Licensing</span><span class=\"mw-editsection\"><span class=\"mw-editsection-bracket\">[</span><a href=\"/w/index.php?title=File:Cat_November_2010-1a.jpg&amp;action=edit&amp;section=2\" title=\"Edit section: Licensing\">edit</a><span class=\"mw-editsection-bracket\">]</span></span></h2>\\n<div style=\"clear:both; margin:0.5em auto; background-color:#eee; border:2px solid #ddd; padding:8px; direction: ltr;\" class=\"licensetpl_wrapper\">\\n<div class=\"center\" style=\"font-weight:bold;\"><div lang=\"en\" dir=\"ltr\" class=\"description en\" style=\"display:inline;\">I, the copyright holder of this work, hereby publish it under the following licenses:</div></div>\\n<table style=\"width:100%; clear:both; text-align:center; margin:0.5em auto; background-color:#f9f9f9; border:2px solid #e0e0e0; padding: 0; border-spacing: 8px;\" class=\"layouttemplate licensetpl mw-content-ltr\" lang=\"en\">\\n<tbody><tr>\\n<td style=\"width:90px;\" rowspan=\"3\"><img alt=\"w:en:Creative Commons\" src=\"https://upload.wikimedia.org/wikipedia/commons/thumb/7/79/CC_some_rights_reserved.svg/90px-CC_some_rights_reserved.svg.png\" decoding=\"async\" title=\"w:en:Creative Commons\" width=\"90\" height=\"36\" srcset=\"https://upload.wikimedia.org/wikipedia/commons/thumb/7/79/CC_some_rights_reserved.svg/135px-CC_some_rights_reserved.svg.png 1.5x, https://upload.wikimedia.org/wikipedia/commons/thumb/7/79/CC_some_rights_reserved.svg/180px-CC_some_rights_reserved.svg.png 2x\" data-file-width=\"744\" data-file-height=\"300\" /><br />\\n<p><img alt=\"attribution\" src=\"https://upload.wikimedia.org/wikipedia/commons/thumb/1/11/Cc-by_new_white.svg/24px-Cc-by_new_white.svg.png\" decoding=\"async\" title=\"attribution\" width=\"24\" height=\"24\" srcset=\"https://upload.wikimedia.org/wikipedia/commons/thumb/1/11/Cc-by_new_white.svg/36px-Cc-by_new_white.svg.png 1.5x, https://upload.wikimedia.org/wikipedia/commons/thumb/1/11/Cc-by_new_white.svg/48px-Cc-by_new_white.svg.png 2x\" data-file-width=\"64\" data-file-height=\"64\" /> <img alt=\"share alike\" src=\"https://upload.wikimedia.org/wikipedia/commons/thumb/d/df/Cc-sa_white.svg/24px-Cc-sa_white.svg.png\" decoding=\"async\" title=\"share alike\" width=\"24\" height=\"24\" srcset=\"https://upload.wikimedia.org/wikipedia/commons/thumb/d/df/Cc-sa_white.svg/36px-Cc-sa_white.svg.png 1.5x, https://upload.wikimedia.org/wikipedia/commons/thumb/d/df/Cc-sa_white.svg/48px-Cc-sa_white.svg.png 2x\" data-file-width=\"64\" data-file-height=\"64\" />\\n</p>\\n</td>\\n<td lang=\"en\">This file is licensed under the <a href=\"https://en.wikipedia.org/wiki/en:Creative_Commons\" class=\"extiw\" title=\"w:en:Creative Commons\">Creative Commons</a> <a rel=\"nofollow\" class=\"external text\" href=\"https://creativecommons.org/licenses/by-sa/3.0/deed.en\">Attribution-Share Alike 3.0 Unported</a> license.\\n</td>\\n<td style=\"width:90px;\" rowspan=\"3\">\\n</td></tr>\\n<tr style=\"text-align:center;\">\\n<td style=\"font-weight:bold;\">\\n</td></tr>\\n<tr style=\"text-align:left;\" lang=\"en\">\\n<td>\\n<dl><dd>You are free:\\n<ul><li><b>to share</b> \\xe2\\x80\\x93 to copy, distribute and transmit the work</li>\\n<li><b>to remix</b> \\xe2\\x80\\x93 to adapt the work</li></ul></dd>\\n<dd>Under the following conditions:\\n<ul><li><b>attribution</b> \\xe2\\x80\\x93 You must give appropriate credit, provide a link to the license, and indicate if changes were made. You may do so in any reasonable manner, but not in any way that suggests the licensor endorses you or your use.</li>\\n<li><b>share alike</b> \\xe2\\x80\\x93 If you remix, transform, or build upon the material, you must distribute your contributions under the <a rel=\"nofollow\" class=\"external text\" href=\"https://creativecommons.org/share-your-work/licensing-considerations/compatible-licenses\">same or compatible license</a> as the original.</li></ul></dd></dl>\\n<p><span class=\"licensetpl_link\" style=\"display:none;\">https://creativecommons.org/licenses/by-sa/3.0\\n</span><span class=\"licensetpl_short\" style=\"display:none;\">CC BY-SA 3.0 \\n</span><span class=\"licensetpl_long\" style=\"display:none;\">Creative Commons Attribution-Share Alike 3.0 \\n</span><span class=\"licensetpl_link_req\" style=\"display:none;\">true</span><span class=\"licensetpl_attr_req\" style=\"display:none;\">true</span>\\n</p>\\n</td></tr></tbody></table>\\n<table cellspacing=\"8\" cellpadding=\"0\" style=\"width:100%; clear:both; margin:0.5em auto; background-color:#f9f9f9; border:2px solid #e0e0e0; direction: ltr;\" lang=\"en\" class=\"layouttemplate licensetpl\">\\n<tbody><tr>\\n<td><img alt=\"GNU head\" src=\"https://upload.wikimedia.org/wikipedia/commons/thumb/2/22/Heckert_GNU_white.svg/64px-Heckert_GNU_white.svg.png\" decoding=\"async\" title=\"GNU head\" width=\"64\" height=\"63\" class=\"noviewer\" srcset=\"https://upload.wikimedia.org/wikipedia/commons/thumb/2/22/Heckert_GNU_white.svg/96px-Heckert_GNU_white.svg.png 1.5x, https://upload.wikimedia.org/wikipedia/commons/thumb/2/22/Heckert_GNU_white.svg/128px-Heckert_GNU_white.svg.png 2x\" data-file-width=\"535\" data-file-height=\"523\" />\\n</td>\\n<td>Permission is granted to copy, distribute and/or modify this document under the terms of the <b><a href=\"https://en.wikipedia.org/wiki/en:GNU_Free_Documentation_License\" class=\"extiw\" title=\"w:en:GNU Free Documentation License\">GNU Free Documentation License</a></b>, Version 1.2 or any later version published by the <a href=\"https://en.wikipedia.org/wiki/en:Free_Software_Foundation\" class=\"extiw\" title=\"w:en:Free Software Foundation\">Free Software Foundation</a>; with no Invariant Sections, no Front-Cover Texts, and no Back-Cover Texts. A copy of the license is included in the section entitled <i><a href=\"/wiki/Commons:GNU_Free_Documentation_License,_version_1.2\" title=\"Commons:GNU Free Documentation License, version 1.2\">GNU Free Documentation License</a></i>.<span class=\"licensetpl_link\" style=\"display:none;\">http://www.gnu.org/copyleft/fdl.html</span><span class=\"licensetpl_short\" style=\"display:none;\">GFDL</span><span class=\"licensetpl_long\" style=\"display:none;\">GNU Free Documentation License</span><span class=\"licensetpl_link_req\" style=\"display:none;\">true</span><span class=\"licensetpl_attr_req\" style=\"display:none;\">true</span>\\n</td></tr></tbody></table><div class=\"center\"><div lang=\"en\" dir=\"ltr\" class=\"description en\" style=\"display:inline;\"><i>You may select the license of your choice.</i></div></div>\\n</div>\\n<!-- \\nNewPP limit report\\nParsed by mw1389\\nCached time: 20220608230037\\nCache expiry: 1814400\\nReduced expiry: false\\nComplications: []\\nCPU time usage: 0.563 seconds\\nReal time usage: 0.815 seconds\\nPreprocessor visited node count: 9937/1000000\\nPost\\xe2\\x80\\x90expand include size: 98617/2097152 bytes\\nTemplate argument size: 23978/2097152 bytes\\nHighest expansion depth: 19/100\\nExpensive parser function count: 227/500\\nUnstrip recursion depth: 0/20\\nUnstrip post\\xe2\\x80\\x90expand size: 1265/5000000 bytes\\nLua time usage: 0.328/10.000 seconds\\nLua memory usage: 3656840/52428800 bytes\\nNumber of Wikibase entities loaded: 1/400\\n-->\\n<!--\\nTransclusion expansion time report (%,ms,calls,template)\\n100.00%  776.231      1 -total\\n 57.10%  443.265      6 Template:Autotranslate\\n 53.49%  415.191      1 Template:Picture_of_the_day\\n 52.06%  404.075      1 Template:Picture_of_the_day/layout\\n 49.03%  380.622      1 Template:Hidden\\n 48.67%  377.810      1 Template:Picture_of_the_day/desc\\n 45.75%  355.145      1 Template:Multilingual_description\\n 21.16%  164.259      1 Template:Assessments\\n 15.16%  117.659      1 Template:Information\\n  6.97%   54.082      1 Template:Self\\n-->\\n\\n<!-- Saved in parser cache with key commonswiki:pcache:idhash:12127693-0!wb=3 and timestamp 20220608230037 and revision id 655193360. Serialized with JSON.\\n -->\\n</div></div><h2 id=\"filehistory\">File history</h2>\\n<div id=\"mw-imagepage-section-filehistory\">\\n<p>Click on a date/time to view the file as it appeared at that time.\\n</p>\\n<table class=\"wikitable filehistory\">\\n<tr><th></th><th>Date/Time</th><th>Thumbnail</th><th>Dimensions</th><th>User</th><th>Comment</th></tr>\\n<tr><td>current</td><td class=\"filehistory-selected\" style=\"white-space: nowrap;\"><a href=\"https://upload.wikimedia.org/wikipedia/commons/4/4d/Cat_November_2010-1a.jpg\">13:14, 23 November 2010</a></td><td><a href=\"https://upload.wikimedia.org/wikipedia/commons/4/4d/Cat_November_2010-1a.jpg\"><img alt=\"Thumbnail for version as of 13:14, 23 November 2010\" src=\"https://upload.wikimedia.org/wikipedia/commons/thumb/4/4d/Cat_November_2010-1a.jpg/90px-Cat_November_2010-1a.jpg?20101123131444\" decoding=\"async\" width=\"90\" height=\"120\" data-file-width=\"1795\" data-file-height=\"2397\" /></a></td><td>1,795 \\xc3\\x97 2,397 <span style=\"white-space: nowrap;\">(2.7 MB)</span></td><td><a href=\"/wiki/User:Alvesgaspar\" class=\"mw-userlink\" title=\"User:Alvesgaspar\"><bdi>Alvesgaspar</bdi></a><span style=\"white-space: nowrap;\"> <span class=\"mw-usertoollinks\">(<a href=\"/wiki/User_talk:Alvesgaspar\" class=\"mw-usertoollinks-talk\" title=\"User talk:Alvesgaspar\">talk</a> | <a href=\"/wiki/Special:Contributions/Alvesgaspar\" class=\"mw-usertoollinks-contribs\" title=\"Special:Contributions/Alvesgaspar\">contribs</a>)</span></span></td><td dir=\"ltr\">{{Information |Description={{en|1=Young male tabby cat, Portugal.}} |Source={{own}} |Author=<a href=\"/wiki/User:Alvesgaspar\" title=\"User:Alvesgaspar\">Alvesgaspar</a> |Date=2010-11 |Permission= |other_versions= }}  <a href=\"/w/index.php?title=Category:Photos_by_Alvesgaspar&amp;action=edit&amp;redlink=1\" class=\"new\" title=\"Category:Photos by Alvesgaspar (page does not exist)\">Category:Photos by Alvesgaspar</a> <a href=\"/wiki/Category:Tabby_cats\" title=\"Category:Tabby cats\">Category:Tabby cats</a></td></tr>\\n</table>\\n\\n</div>\\n<div class=\"mw-imagepage-upload-links\"><p id=\"mw-imagepage-upload-disallowed\">You cannot overwrite this file.</p></div><h2 id=\"filelinks\">File usage on Commons</h2>\\n<div id=\\'mw-imagepage-section-linkstoimage\\'>\\n<p>The following 46 pages use this file:\\n</p><ul class=\"mw-imagepage-linkstoimage\">\\n<li class=\"mw-imagepage-linkstoimage-ns2\"><a href=\"/wiki/User:Alvesgaspar/FP\" title=\"User:Alvesgaspar/FP\">User:Alvesgaspar/FP</a></li>\\n<li class=\"mw-imagepage-linkstoimage-ns2\"><a href=\"/wiki/User:Alvesgaspar/People\" title=\"User:Alvesgaspar/People\">User:Alvesgaspar/People</a></li>\\n<li class=\"mw-imagepage-linkstoimage-ns2\"><a href=\"/wiki/User:Alvesgaspar/Portfolio\" title=\"User:Alvesgaspar/Portfolio\">User:Alvesgaspar/Portfolio</a></li>\\n<li class=\"mw-imagepage-linkstoimage-ns2\"><a href=\"/wiki/User:Aristeas/Favorites\" title=\"User:Aristeas/Favorites\">User:Aristeas/Favorites</a></li>\\n<li class=\"mw-imagepage-linkstoimage-ns2\"><a href=\"/wiki/User:Dontworry/images_part_6\" title=\"User:Dontworry/images part 6\">User:Dontworry/images part 6</a></li>\\n<li class=\"mw-imagepage-linkstoimage-ns2\"><a href=\"/wiki/User:Miya/POTY/2010/Other_animals\" title=\"User:Miya/POTY/2010/Other animals\">User:Miya/POTY/2010/Other animals</a></li>\\n<li class=\"mw-imagepage-linkstoimage-ns3\"><a href=\"/wiki/User_talk:Alvesgaspar/archive17\" title=\"User talk:Alvesgaspar/archive17\">User talk:Alvesgaspar/archive17</a></li>\\n<li class=\"mw-imagepage-linkstoimage-ns4\"><a href=\"/wiki/Commons:Featured_picture_candidates/File:Cat_November_2010-1a.jpg\" title=\"Commons:Featured picture candidates/File:Cat November 2010-1a.jpg\">Commons:Featured picture candidates/File:Cat November 2010-1a.jpg</a></li>\\n<li class=\"mw-imagepage-linkstoimage-ns4\"><a href=\"/wiki/Commons:Featured_picture_candidates/Log/December_2010\" title=\"Commons:Featured picture candidates/Log/December 2010\">Commons:Featured picture candidates/Log/December 2010</a></li>\\n<li class=\"mw-imagepage-linkstoimage-ns4\"><a href=\"/wiki/Commons:Featured_pictures/Animals/Mammals/Carnivora\" title=\"Commons:Featured pictures/Animals/Mammals/Carnivora\">Commons:Featured pictures/Animals/Mammals/Carnivora</a></li>\\n<li class=\"mw-imagepage-linkstoimage-ns4\"><a href=\"/wiki/Commons:Featured_pictures/chronological/2010-B\" title=\"Commons:Featured pictures/chronological/2010-B\">Commons:Featured pictures/chronological/2010-B</a></li>\\n<li class=\"mw-imagepage-linkstoimage-ns4\"><a href=\"/wiki/Commons:Picture_of_the_Year/2010/Galleries/Index/15\" title=\"Commons:Picture of the Year/2010/Galleries/Index/15\">Commons:Picture of the Year/2010/Galleries/Index/15</a></li>\\n<li class=\"mw-imagepage-linkstoimage-ns4\"><a href=\"/wiki/Commons:Picture_of_the_Year/2010/Galleries/Index/Mammals\" title=\"Commons:Picture of the Year/2010/Galleries/Index/Mammals\">Commons:Picture of the Year/2010/Galleries/Index/Mammals</a></li>\\n<li class=\"mw-imagepage-linkstoimage-ns4\"><a href=\"/wiki/Commons:Picture_of_the_Year/2010/Galleries/Mammals\" title=\"Commons:Picture of the Year/2010/Galleries/Mammals\">Commons:Picture of the Year/2010/Galleries/Mammals</a></li>\\n<li class=\"mw-imagepage-linkstoimage-ns4\"><a href=\"/wiki/Commons:Picture_of_the_Year/2010/Galleries/Mammals/Large\" title=\"Commons:Picture of the Year/2010/Galleries/Mammals/Large\">Commons:Picture of the Year/2010/Galleries/Mammals/Large</a></li>\\n<li class=\"mw-imagepage-linkstoimage-ns4\"><a href=\"/wiki/Commons:Picture_of_the_Year/2010/Galleries/Mammals/Small\" title=\"Commons:Picture of the Year/2010/Galleries/Mammals/Small\">Commons:Picture of the Year/2010/Galleries/Mammals/Small</a></li>\\n<li class=\"mw-imagepage-linkstoimage-ns4\"><a href=\"/wiki/Commons:Picture_of_the_Year/2010/Galleries/Table\" title=\"Commons:Picture of the Year/2010/Galleries/Table\">Commons:Picture of the Year/2010/Galleries/Table</a></li>\\n<li class=\"mw-imagepage-linkstoimage-ns4\"><a href=\"/wiki/Commons:Picture_of_the_Year/2010/Galleries/Table/12\" title=\"Commons:Picture of the Year/2010/Galleries/Table/12\">Commons:Picture of the Year/2010/Galleries/Table/12</a></li>\\n<li class=\"mw-imagepage-linkstoimage-ns4\"><a href=\"/wiki/Commons:Picture_of_the_Year/2010/R1/File:Cat_November_2010-1a.jpg\" title=\"Commons:Picture of the Year/2010/R1/File:Cat November 2010-1a.jpg\">Commons:Picture of the Year/2010/R1/File:Cat November 2010-1a.jpg</a></li>\\n<li class=\"mw-imagepage-linkstoimage-ns4\"><a href=\"/wiki/Commons:Picture_of_the_Year/2010/Results/R1/ALL/Table\" title=\"Commons:Picture of the Year/2010/Results/R1/ALL/Table\">Commons:Picture of the Year/2010/Results/R1/ALL/Table</a></li>\\n<li class=\"mw-imagepage-linkstoimage-ns4\"><a href=\"/wiki/Commons:Picture_of_the_Year/2010/Results/R1/Mammals\" title=\"Commons:Picture of the Year/2010/Results/R1/Mammals\">Commons:Picture of the Year/2010/Results/R1/Mammals</a></li>\\n<li class=\"mw-imagepage-linkstoimage-ns4\"><a href=\"/wiki/Commons:Picture_of_the_Year/2010/Results/R1/Mammals/Table\" title=\"Commons:Picture of the Year/2010/Results/R1/Mammals/Table\">Commons:Picture of the Year/2010/Results/R1/Mammals/Table</a></li>\\n<li class=\"mw-imagepage-linkstoimage-ns4\"><a href=\"/wiki/Commons:Potd/2011-04_(de)\" title=\"Commons:Potd/2011-04 (de)\">Commons:Potd/2011-04 (de)</a></li>\\n<li class=\"mw-imagepage-linkstoimage-ns4\"><a href=\"/wiki/Commons:Potd/2011-04_(nl)\" title=\"Commons:Potd/2011-04 (nl)\">Commons:Potd/2011-04 (nl)</a></li>\\n<li class=\"mw-imagepage-linkstoimage-ns4\"><a href=\"/wiki/Commons:Potd/2011-04_(pt)\" title=\"Commons:Potd/2011-04 (pt)\">Commons:Potd/2011-04 (pt)</a></li>\\n<li class=\"mw-imagepage-linkstoimage-ns4\"><a href=\"/wiki/Commons:Valued_image_candidates/Cat_November_2010-1a.jpg\" title=\"Commons:Valued image candidates/Cat November 2010-1a.jpg\">Commons:Valued image candidates/Cat November 2010-1a.jpg</a></li>\\n<li class=\"mw-imagepage-linkstoimage-ns5\"><a href=\"/wiki/Commons_talk:Picture_of_the_Year/2010/Galleries/Table\" title=\"Commons talk:Picture of the Year/2010/Galleries/Table\">Commons talk:Picture of the Year/2010/Galleries/Table</a></li>\\n<li class=\"mw-imagepage-linkstoimage-ns5\"><a href=\"/wiki/Commons_talk:Picture_of_the_Year/2010/Results/R1/ALL/Table\" title=\"Commons talk:Picture of the Year/2010/Results/R1/ALL/Table\">Commons talk:Picture of the Year/2010/Results/R1/ALL/Table</a></li>\\n<li class=\"mw-imagepage-linkstoimage-ns6\"><a href=\"/wiki/File:Chat_big_head.jpg\" title=\"File:Chat big head.jpg\">File:Chat big head.jpg</a></li>\\n<li class=\"mw-imagepage-linkstoimage-ns10\"><a href=\"/wiki/Template:Potd/2011-04\" title=\"Template:Potd/2011-04\">Template:Potd/2011-04</a></li>\\n<li class=\"mw-imagepage-linkstoimage-ns10\"><a href=\"/wiki/Template:Potd/2011-04-22\" title=\"Template:Potd/2011-04-22\">Template:Potd/2011-04-22</a></li>\\n<li class=\"mw-imagepage-linkstoimage-ns10\"><a href=\"/wiki/Template:Potd/2011-04-22_(de)\" title=\"Template:Potd/2011-04-22 (de)\">Template:Potd/2011-04-22 (de)</a></li>\\n<li class=\"mw-imagepage-linkstoimage-ns10\"><a href=\"/wiki/Template:Potd/2011-04-22_(en)\" title=\"Template:Potd/2011-04-22 (en)\">Template:Potd/2011-04-22 (en)</a></li>\\n<li class=\"mw-imagepage-linkstoimage-ns10\"><a href=\"/wiki/Template:Potd/2011-04-22_(es)\" title=\"Template:Potd/2011-04-22 (es)\">Template:Potd/2011-04-22 (es)</a></li>\\n<li class=\"mw-imagepage-linkstoimage-ns10\"><a href=\"/wiki/Template:Potd/2011-04-22_(fr)\" title=\"Template:Potd/2011-04-22 (fr)\">Template:Potd/2011-04-22 (fr)</a></li>\\n<li class=\"mw-imagepage-linkstoimage-ns10\"><a href=\"/wiki/Template:Potd/2011-04-22_(it)\" title=\"Template:Potd/2011-04-22 (it)\">Template:Potd/2011-04-22 (it)</a></li>\\n<li class=\"mw-imagepage-linkstoimage-ns10\"><a href=\"/wiki/Template:Potd/2011-04-22_(ja)\" title=\"Template:Potd/2011-04-22 (ja)\">Template:Potd/2011-04-22 (ja)</a></li>\\n<li class=\"mw-imagepage-linkstoimage-ns10\"><a href=\"/wiki/Template:Potd/2011-04-22_(ko)\" title=\"Template:Potd/2011-04-22 (ko)\">Template:Potd/2011-04-22 (ko)</a></li>\\n<li class=\"mw-imagepage-linkstoimage-ns10\"><a href=\"/wiki/Template:Potd/2011-04-22_(nl)\" title=\"Template:Potd/2011-04-22 (nl)\">Template:Potd/2011-04-22 (nl)</a></li>\\n<li class=\"mw-imagepage-linkstoimage-ns10\"><a href=\"/wiki/Template:Potd/2011-04-22_(pl)\" title=\"Template:Potd/2011-04-22 (pl)\">Template:Potd/2011-04-22 (pl)</a></li>\\n<li class=\"mw-imagepage-linkstoimage-ns10\"><a href=\"/wiki/Template:Potd/2011-04-22_(pt)\" title=\"Template:Potd/2011-04-22 (pt)\">Template:Potd/2011-04-22 (pt)</a></li>\\n<li class=\"mw-imagepage-linkstoimage-ns10\"><a href=\"/wiki/Template:Potd/2011-04-22_(ru)\" title=\"Template:Potd/2011-04-22 (ru)\">Template:Potd/2011-04-22 (ru)</a></li>\\n<li class=\"mw-imagepage-linkstoimage-ns10\"><a href=\"/wiki/Template:Potd/2011-04-22_(uk)\" title=\"Template:Potd/2011-04-22 (uk)\">Template:Potd/2011-04-22 (uk)</a></li>\\n<li class=\"mw-imagepage-linkstoimage-ns10\"><a href=\"/wiki/Template:Potd/2011-04-22_(zh-hans)\" title=\"Template:Potd/2011-04-22 (zh-hans)\">Template:Potd/2011-04-22 (zh-hans)</a></li>\\n<li class=\"mw-imagepage-linkstoimage-ns10\"><a href=\"/wiki/Template:Potd/2011-04_(zh-hans)\" title=\"Template:Potd/2011-04 (zh-hans)\">Template:Potd/2011-04 (zh-hans)</a></li>\\n<li class=\"mw-imagepage-linkstoimage-ns14\"><a href=\"/wiki/Category:Felis_silvestris_catus\" title=\"Category:Felis silvestris catus\">Category:Felis silvestris catus</a></li>\\n</ul>\\n</div>\\n<h2 id=\"globalusage\">File usage on other wikis</h2>\\n<div id=\"mw-imagepage-section-globalusage\"><p>The following other wikis use this file:\\n</p><ul>\\n<li class=\\'mw-gu-onwiki-af_wikipedia_org\\'>Usage on af.wikipedia.org\\n<ul>\\t<li><a class=\"external\" href=\"https://af.wikipedia.org/wiki/Wikipedia:Beeld_van_die_week/2010\">Wikipedia:Beeld van die week/2010</a></li>\\n\\t<li><a class=\"external\" href=\"https://af.wikipedia.org/wiki/Wikipedia:Voorbladbeeld_week_52_2010\">Wikipedia:Voorbladbeeld week 52 2010</a></li>\\n\\t<li><a class=\"external\" href=\"https://af.wikipedia.org/wiki/Wikipedia:Beeld_van_die_week/2020\">Wikipedia:Beeld van die week/2020</a></li>\\n\\t<li><a class=\"external\" href=\"https://af.wikipedia.org/wiki/Wikipedia:Voorbladbeeld_week_52_2020\">Wikipedia:Voorbladbeeld week 52 2020</a></li>\\n</ul></li>\\n<li class=\\'mw-gu-onwiki-ang_wikipedia_org\\'>Usage on ang.wikipedia.org\\n<ul>\\t<li><a class=\"external\" href=\"https://ang.wikipedia.org/wiki/Br%C5%ABcend:HHM7\">Br\\xc5\\xabcend:HHM7</a></li>\\n</ul></li>\\n<li class=\\'mw-gu-onwiki-ar_wikipedia_org\\'>Usage on ar.wikipedia.org\\n<ul>\\t<li><a class=\"external\" href=\"https://ar.wikipedia.org/wiki/%D8%A8%D9%88%D8%A7%D8%A8%D8%A9:%D8%B3%D9%86%D9%88%D8%B1%D9%8A%D8%A7%D8%AA/%D8%B5%D9%88%D8%B1%D8%A9_%D9%85%D8%AE%D8%AA%D8%A7%D8%B1%D8%A9/%D8%A3%D8%B1%D8%B4%D9%8A%D9%81\">\\xd8\\xa8\\xd9\\x88\\xd8\\xa7\\xd8\\xa8\\xd8\\xa9:\\xd8\\xb3\\xd9\\x86\\xd9\\x88\\xd8\\xb1\\xd9\\x8a\\xd8\\xa7\\xd8\\xaa/\\xd8\\xb5\\xd9\\x88\\xd8\\xb1\\xd8\\xa9 \\xd9\\x85\\xd8\\xae\\xd8\\xaa\\xd8\\xa7\\xd8\\xb1\\xd8\\xa9/\\xd8\\xa3\\xd8\\xb1\\xd8\\xb4\\xd9\\x8a\\xd9\\x81</a></li>\\n\\t<li><a class=\"external\" href=\"https://ar.wikipedia.org/wiki/%D9%82%D8%A7%D8%A6%D9%85%D8%A9_%D8%B3%D9%84%D8%A7%D9%84%D8%A7%D8%AA_%D8%A7%D9%84%D9%82%D8%B7%D8%B7\">\\xd9\\x82\\xd8\\xa7\\xd8\\xa6\\xd9\\x85\\xd8\\xa9 \\xd8\\xb3\\xd9\\x84\\xd8\\xa7\\xd9\\x84\\xd8\\xa7\\xd8\\xaa \\xd8\\xa7\\xd9\\x84\\xd9\\x82\\xd8\\xb7\\xd8\\xb7</a></li>\\n\\t<li><a class=\"external\" href=\"https://ar.wikipedia.org/wiki/%D9%85%D8%B3%D8%AA%D8%AE%D8%AF%D9%85:%D8%B9%D8%A8%D8%AF_%D8%A7%D9%84%D9%85%D8%A4%D9%85%D9%86/%D9%85%D8%B5%D9%88%D8%B1/%D8%AD%D9%8A%D9%88%D8%A7%D9%86%D8%A7%D8%AA\">\\xd9\\x85\\xd8\\xb3\\xd8\\xaa\\xd8\\xae\\xd8\\xaf\\xd9\\x85:\\xd8\\xb9\\xd8\\xa8\\xd8\\xaf \\xd8\\xa7\\xd9\\x84\\xd9\\x85\\xd8\\xa4\\xd9\\x85\\xd9\\x86/\\xd9\\x85\\xd8\\xb5\\xd9\\x88\\xd8\\xb1/\\xd8\\xad\\xd9\\x8a\\xd9\\x88\\xd8\\xa7\\xd9\\x86\\xd8\\xa7\\xd8\\xaa</a></li>\\n\\t<li><a class=\"external\" href=\"https://ar.wikipedia.org/wiki/%D9%88%D9%8A%D9%83%D9%8A%D8%A8%D9%8A%D8%AF%D9%8A%D8%A7:%D8%B5%D9%88%D8%B1_%D9%85%D8%AE%D8%AA%D8%A7%D8%B1%D8%A9/%D8%AD%D9%8A%D9%88%D8%A7%D9%86%D8%A7%D8%AA/%D8%AB%D8%AF%D9%8A%D9%8A%D8%A7%D8%AA\">\\xd9\\x88\\xd9\\x8a\\xd9\\x83\\xd9\\x8a\\xd8\\xa8\\xd9\\x8a\\xd8\\xaf\\xd9\\x8a\\xd8\\xa7:\\xd8\\xb5\\xd9\\x88\\xd8\\xb1 \\xd9\\x85\\xd8\\xae\\xd8\\xaa\\xd8\\xa7\\xd8\\xb1\\xd8\\xa9/\\xd8\\xad\\xd9\\x8a\\xd9\\x88\\xd8\\xa7\\xd9\\x86\\xd8\\xa7\\xd8\\xaa/\\xd8\\xab\\xd8\\xaf\\xd9\\x8a\\xd9\\x8a\\xd8\\xa7\\xd8\\xaa</a></li>\\n\\t<li><a class=\"external\" href=\"https://ar.wikipedia.org/wiki/%D9%85%D8%B3%D8%AA%D8%AE%D8%AF%D9%85:MrJoker07/%D9%85%D8%AE%D8%AA%D8%A7%D8%B1%D8%A7%D8%AA\">\\xd9\\x85\\xd8\\xb3\\xd8\\xaa\\xd8\\xae\\xd8\\xaf\\xd9\\x85:MrJoker07/\\xd9\\x85\\xd8\\xae\\xd8\\xaa\\xd8\\xa7\\xd8\\xb1\\xd8\\xa7\\xd8\\xaa</a></li>\\n\\t<li><a class=\"external\" href=\"https://ar.wikipedia.org/wiki/%D8%A8%D9%88%D8%A7%D8%A8%D8%A9:%D8%B3%D9%86%D9%88%D8%B1%D9%8A%D8%A7%D8%AA/%D8%B5%D9%88%D8%B1%D8%A9_%D9%85%D8%AE%D8%AA%D8%A7%D8%B1%D8%A9/10\">\\xd8\\xa8\\xd9\\x88\\xd8\\xa7\\xd8\\xa8\\xd8\\xa9:\\xd8\\xb3\\xd9\\x86\\xd9\\x88\\xd8\\xb1\\xd9\\x8a\\xd8\\xa7\\xd8\\xaa/\\xd8\\xb5\\xd9\\x88\\xd8\\xb1\\xd8\\xa9 \\xd9\\x85\\xd8\\xae\\xd8\\xaa\\xd8\\xa7\\xd8\\xb1\\xd8\\xa9/10</a></li>\\n\\t<li><a class=\"external\" href=\"https://ar.wikipedia.org/wiki/%D9%88%D9%8A%D9%83%D9%8A%D8%A8%D9%8A%D8%AF%D9%8A%D8%A7:%D8%AA%D8%B1%D8%B4%D9%8A%D8%AD%D8%A7%D8%AA_%D8%A7%D9%84%D8%B5%D9%88%D8%B1_%D8%A7%D9%84%D9%85%D8%AE%D8%AA%D8%A7%D8%B1%D8%A9/%D9%82%D8%B7_%D9%85%D8%B3%D8%AA%D8%A3%D9%86%D8%B3_%D9%85%D9%86_%D8%A7%D9%84%D8%B3%D9%84%D8%A7%D9%84%D8%A9_%D8%A7%D9%84%D8%B9%D8%AA%D8%A7%D8%A8%D9%8A%D8%A9\">\\xd9\\x88\\xd9\\x8a\\xd9\\x83\\xd9\\x8a\\xd8\\xa8\\xd9\\x8a\\xd8\\xaf\\xd9\\x8a\\xd8\\xa7:\\xd8\\xaa\\xd8\\xb1\\xd8\\xb4\\xd9\\x8a\\xd8\\xad\\xd8\\xa7\\xd8\\xaa \\xd8\\xa7\\xd9\\x84\\xd8\\xb5\\xd9\\x88\\xd8\\xb1 \\xd8\\xa7\\xd9\\x84\\xd9\\x85\\xd8\\xae\\xd8\\xaa\\xd8\\xa7\\xd8\\xb1\\xd8\\xa9/\\xd9\\x82\\xd8\\xb7 \\xd9\\x85\\xd8\\xb3\\xd8\\xaa\\xd8\\xa3\\xd9\\x86\\xd8\\xb3 \\xd9\\x85\\xd9\\x86 \\xd8\\xa7\\xd9\\x84\\xd8\\xb3\\xd9\\x84\\xd8\\xa7\\xd9\\x84\\xd8\\xa9 \\xd8\\xa7\\xd9\\x84\\xd8\\xb9\\xd8\\xaa\\xd8\\xa7\\xd8\\xa8\\xd9\\x8a\\xd8\\xa9</a></li>\\n\\t<li><a class=\"external\" href=\"https://ar.wikipedia.org/wiki/%D9%88%D9%8A%D9%83%D9%8A%D8%A8%D9%8A%D8%AF%D9%8A%D8%A7:%D8%B5%D9%88%D8%B1%D8%A9_%D8%A7%D9%84%D9%8A%D9%88%D9%85_%D8%A7%D9%84%D9%85%D8%AE%D8%AA%D8%A7%D8%B1%D8%A9/%D9%8A%D9%88%D9%86%D9%8A%D9%88_2015\">\\xd9\\x88\\xd9\\x8a\\xd9\\x83\\xd9\\x8a\\xd8\\xa8\\xd9\\x8a\\xd8\\xaf\\xd9\\x8a\\xd8\\xa7:\\xd8\\xb5\\xd9\\x88\\xd8\\xb1\\xd8\\xa9 \\xd8\\xa7\\xd9\\x84\\xd9\\x8a\\xd9\\x88\\xd9\\x85 \\xd8\\xa7\\xd9\\x84\\xd9\\x85\\xd8\\xae\\xd8\\xaa\\xd8\\xa7\\xd8\\xb1\\xd8\\xa9/\\xd9\\x8a\\xd9\\x88\\xd9\\x86\\xd9\\x8a\\xd9\\x88 2015</a></li>\\n\\t<li><a class=\"external\" href=\"https://ar.wikipedia.org/wiki/%D9%82%D8%A7%D9%84%D8%A8:%D8%B5%D9%88%D8%B1%D8%A9_%D8%A7%D9%84%D9%8A%D9%88%D9%85_%D8%A7%D9%84%D9%85%D8%AE%D8%AA%D8%A7%D8%B1%D8%A9/2015-06-14\">\\xd9\\x82\\xd8\\xa7\\xd9\\x84\\xd8\\xa8:\\xd8\\xb5\\xd9\\x88\\xd8\\xb1\\xd8\\xa9 \\xd8\\xa7\\xd9\\x84\\xd9\\x8a\\xd9\\x88\\xd9\\x85 \\xd8\\xa7\\xd9\\x84\\xd9\\x85\\xd8\\xae\\xd8\\xaa\\xd8\\xa7\\xd8\\xb1\\xd8\\xa9/2015-06-14</a></li>\\n\\t<li><a class=\"external\" href=\"https://ar.wikipedia.org/wiki/%D9%88%D9%8A%D9%83%D9%8A%D8%A8%D9%8A%D8%AF%D9%8A%D8%A7:%D8%B5%D9%88%D8%B1%D8%A9_%D8%A7%D9%84%D9%8A%D9%88%D9%85_%D8%A7%D9%84%D9%85%D8%AE%D8%AA%D8%A7%D8%B1%D8%A9/%D8%A3%D8%BA%D8%B3%D8%B7%D8%B3_2016\">\\xd9\\x88\\xd9\\x8a\\xd9\\x83\\xd9\\x8a\\xd8\\xa8\\xd9\\x8a\\xd8\\xaf\\xd9\\x8a\\xd8\\xa7:\\xd8\\xb5\\xd9\\x88\\xd8\\xb1\\xd8\\xa9 \\xd8\\xa7\\xd9\\x84\\xd9\\x8a\\xd9\\x88\\xd9\\x85 \\xd8\\xa7\\xd9\\x84\\xd9\\x85\\xd8\\xae\\xd8\\xaa\\xd8\\xa7\\xd8\\xb1\\xd8\\xa9/\\xd8\\xa3\\xd8\\xba\\xd8\\xb3\\xd8\\xb7\\xd8\\xb3 2016</a></li>\\n\\t<li><a class=\"external\" href=\"https://ar.wikipedia.org/wiki/%D9%82%D8%A7%D9%84%D8%A8:%D8%B5%D9%88%D8%B1%D8%A9_%D8%A7%D9%84%D9%8A%D9%88%D9%85_%D8%A7%D9%84%D9%85%D8%AE%D8%AA%D8%A7%D8%B1%D8%A9/2016-08-19\">\\xd9\\x82\\xd8\\xa7\\xd9\\x84\\xd8\\xa8:\\xd8\\xb5\\xd9\\x88\\xd8\\xb1\\xd8\\xa9 \\xd8\\xa7\\xd9\\x84\\xd9\\x8a\\xd9\\x88\\xd9\\x85 \\xd8\\xa7\\xd9\\x84\\xd9\\x85\\xd8\\xae\\xd8\\xaa\\xd8\\xa7\\xd8\\xb1\\xd8\\xa9/2016-08-19</a></li>\\n\\t<li><a class=\"external\" href=\"https://ar.wikipedia.org/wiki/%D8%AD%D8%B1%D9%82_%D8%A7%D9%84%D9%82%D8%B7%D8%B7\">\\xd8\\xad\\xd8\\xb1\\xd9\\x82 \\xd8\\xa7\\xd9\\x84\\xd9\\x82\\xd8\\xb7\\xd8\\xb7</a></li>\\n\\t<li><a class=\"external\" href=\"https://ar.wikipedia.org/wiki/%D9%82%D8%B7_%D8%B9%D8%AA%D8%A7%D8%A8%D9%8A\">\\xd9\\x82\\xd8\\xb7 \\xd8\\xb9\\xd8\\xaa\\xd8\\xa7\\xd8\\xa8\\xd9\\x8a</a></li>\\n\\t<li><a class=\"external\" href=\"https://ar.wikipedia.org/wiki/%D9%88%D9%8A%D9%83%D9%8A%D8%A8%D9%8A%D8%AF%D9%8A%D8%A7:%D8%B5%D9%88%D8%B1%D8%A9_%D8%A7%D9%84%D9%8A%D9%88%D9%85_%D8%A7%D9%84%D9%85%D8%AE%D8%AA%D8%A7%D8%B1%D8%A9/%D9%8A%D9%88%D9%86%D9%8A%D9%88_2018\">\\xd9\\x88\\xd9\\x8a\\xd9\\x83\\xd9\\x8a\\xd8\\xa8\\xd9\\x8a\\xd8\\xaf\\xd9\\x8a\\xd8\\xa7:\\xd8\\xb5\\xd9\\x88\\xd8\\xb1\\xd8\\xa9 \\xd8\\xa7\\xd9\\x84\\xd9\\x8a\\xd9\\x88\\xd9\\x85 \\xd8\\xa7\\xd9\\x84\\xd9\\x85\\xd8\\xae\\xd8\\xaa\\xd8\\xa7\\xd8\\xb1\\xd8\\xa9/\\xd9\\x8a\\xd9\\x88\\xd9\\x86\\xd9\\x8a\\xd9\\x88 2018</a></li>\\n\\t<li><a class=\"external\" href=\"https://ar.wikipedia.org/wiki/%D9%82%D8%A7%D9%84%D8%A8:%D8%B5%D9%88%D8%B1%D8%A9_%D8%A7%D9%84%D9%8A%D9%88%D9%85_%D8%A7%D9%84%D9%85%D8%AE%D8%AA%D8%A7%D8%B1%D8%A9/2018-06-08\">\\xd9\\x82\\xd8\\xa7\\xd9\\x84\\xd8\\xa8:\\xd8\\xb5\\xd9\\x88\\xd8\\xb1\\xd8\\xa9 \\xd8\\xa7\\xd9\\x84\\xd9\\x8a\\xd9\\x88\\xd9\\x85 \\xd8\\xa7\\xd9\\x84\\xd9\\x85\\xd8\\xae\\xd8\\xaa\\xd8\\xa7\\xd8\\xb1\\xd8\\xa9/2018-06-08</a></li>\\n\\t<li><a class=\"external\" href=\"https://ar.wikipedia.org/wiki/%D9%82%D8%B7_%D8%B9%D8%B1%D8%A8%D9%8A\">\\xd9\\x82\\xd8\\xb7 \\xd8\\xb9\\xd8\\xb1\\xd8\\xa8\\xd9\\x8a</a></li>\\n\\t<li><a class=\"external\" href=\"https://ar.wikipedia.org/wiki/%D9%88%D9%8A%D9%83%D9%8A%D8%A8%D9%8A%D8%AF%D9%8A%D8%A7:%D8%B5%D9%88%D8%B1%D8%A9_%D8%A7%D9%84%D9%8A%D9%88%D9%85_%D8%A7%D9%84%D9%85%D8%AE%D8%AA%D8%A7%D8%B1%D8%A9/%D9%86%D9%88%D9%81%D9%85%D8%A8%D8%B1_2019\">\\xd9\\x88\\xd9\\x8a\\xd9\\x83\\xd9\\x8a\\xd8\\xa8\\xd9\\x8a\\xd8\\xaf\\xd9\\x8a\\xd8\\xa7:\\xd8\\xb5\\xd9\\x88\\xd8\\xb1\\xd8\\xa9 \\xd8\\xa7\\xd9\\x84\\xd9\\x8a\\xd9\\x88\\xd9\\x85 \\xd8\\xa7\\xd9\\x84\\xd9\\x85\\xd8\\xae\\xd8\\xaa\\xd8\\xa7\\xd8\\xb1\\xd8\\xa9/\\xd9\\x86\\xd9\\x88\\xd9\\x81\\xd9\\x85\\xd8\\xa8\\xd8\\xb1 2019</a></li>\\n\\t<li><a class=\"external\" href=\"https://ar.wikipedia.org/wiki/%D9%82%D8%A7%D9%84%D8%A8:%D8%B5%D9%88%D8%B1%D8%A9_%D8%A7%D9%84%D9%8A%D9%88%D9%85_%D8%A7%D9%84%D9%85%D8%AE%D8%AA%D8%A7%D8%B1%D8%A9/2019-11-18\">\\xd9\\x82\\xd8\\xa7\\xd9\\x84\\xd8\\xa8:\\xd8\\xb5\\xd9\\x88\\xd8\\xb1\\xd8\\xa9 \\xd8\\xa7\\xd9\\x84\\xd9\\x8a\\xd9\\x88\\xd9\\x85 \\xd8\\xa7\\xd9\\x84\\xd9\\x85\\xd8\\xae\\xd8\\xaa\\xd8\\xa7\\xd8\\xb1\\xd8\\xa9/2019-11-18</a></li>\\n\\t<li><a class=\"external\" href=\"https://ar.wikipedia.org/wiki/%D9%88%D9%8A%D9%83%D9%8A%D8%A8%D9%8A%D8%AF%D9%8A%D8%A7:%D8%B5%D9%88%D8%B1%D8%A9_%D8%A7%D9%84%D9%8A%D9%88%D9%85_%D8%A7%D9%84%D9%85%D8%AE%D8%AA%D8%A7%D8%B1%D8%A9/%D9%8A%D9%88%D9%84%D9%8A%D9%88_2020\">\\xd9\\x88\\xd9\\x8a\\xd9\\x83\\xd9\\x8a\\xd8\\xa8\\xd9\\x8a\\xd8\\xaf\\xd9\\x8a\\xd8\\xa7:\\xd8\\xb5\\xd9\\x88\\xd8\\xb1\\xd8\\xa9 \\xd8\\xa7\\xd9\\x84\\xd9\\x8a\\xd9\\x88\\xd9\\x85 \\xd8\\xa7\\xd9\\x84\\xd9\\x85\\xd8\\xae\\xd8\\xaa\\xd8\\xa7\\xd8\\xb1\\xd8\\xa9/\\xd9\\x8a\\xd9\\x88\\xd9\\x84\\xd9\\x8a\\xd9\\x88 2020</a></li>\\n\\t<li><a class=\"external\" href=\"https://ar.wikipedia.org/wiki/%D9%82%D8%A7%D9%84%D8%A8:%D8%B5%D9%88%D8%B1%D8%A9_%D8%A7%D9%84%D9%8A%D9%88%D9%85_%D8%A7%D9%84%D9%85%D8%AE%D8%AA%D8%A7%D8%B1%D8%A9/2020-07-17\">\\xd9\\x82\\xd8\\xa7\\xd9\\x84\\xd8\\xa8:\\xd8\\xb5\\xd9\\x88\\xd8\\xb1\\xd8\\xa9 \\xd8\\xa7\\xd9\\x84\\xd9\\x8a\\xd9\\x88\\xd9\\x85 \\xd8\\xa7\\xd9\\x84\\xd9\\x85\\xd8\\xae\\xd8\\xaa\\xd8\\xa7\\xd8\\xb1\\xd8\\xa9/2020-07-17</a></li>\\n\\t<li><a class=\"external\" href=\"https://ar.wikipedia.org/wiki/%D8%AA%D8%AF%D8%B1%D9%8A%D8%A8_%D8%A7%D9%84%D9%82%D8%B7%D8%B7\">\\xd8\\xaa\\xd8\\xaf\\xd8\\xb1\\xd9\\x8a\\xd8\\xa8 \\xd8\\xa7\\xd9\\x84\\xd9\\x82\\xd8\\xb7\\xd8\\xb7</a></li>\\n</ul></li>\\n<li class=\\'mw-gu-onwiki-ary_wikipedia_org\\'>Usage on ary.wikipedia.org\\n<ul>\\t<li><a class=\"external\" href=\"https://ary.wikipedia.org/wiki/%D9%85%D8%B4\">\\xd9\\x85\\xd8\\xb4</a></li>\\n</ul></li>\\n<li class=\\'mw-gu-onwiki-arz_wikipedia_org\\'>Usage on arz.wikipedia.org\\n<ul>\\t<li><a class=\"external\" href=\"https://arz.wikipedia.org/wiki/%D9%82%D8%B7%D9%87\">\\xd9\\x82\\xd8\\xb7\\xd9\\x87</a></li>\\n\\t<li><a class=\"external\" href=\"https://arz.wikipedia.org/wiki/%D8%A7%D9%86%D9%88%D8%A7%D8%B9_%D8%A7%D9%84%D9%82%D8%B7%D8%B7\">\\xd8\\xa7\\xd9\\x86\\xd9\\x88\\xd8\\xa7\\xd8\\xb9 \\xd8\\xa7\\xd9\\x84\\xd9\\x82\\xd8\\xb7\\xd8\\xb7</a></li>\\n</ul></li>\\n<li class=\\'mw-gu-onwiki-ast_wikipedia_org\\'>Usage on ast.wikipedia.org\\n<ul>\\t<li><a class=\"external\" href=\"https://ast.wikipedia.org/wiki/Felis_silvestris_catus\">Felis silvestris catus</a></li>\\n</ul></li>\\n<li class=\\'mw-gu-onwiki-azb_wikipedia_org\\'>Usage on azb.wikipedia.org\\n<ul>\\t<li><a class=\"external\" href=\"https://azb.wikipedia.org/wiki/%D9%BE%DB%8C%D8%B4%DB%8C%DA%A9\">\\xd9\\xbe\\xdb\\x8c\\xd8\\xb4\\xdb\\x8c\\xda\\xa9</a></li>\\n</ul></li>\\n<li class=\\'mw-gu-onwiki-ba_wikipedia_org\\'>Usage on ba.wikipedia.org\\n<ul>\\t<li><a class=\"external\" href=\"https://ba.wikipedia.org/wiki/%D2%A0%D0%B0%D0%BB%D1%8B%D0%BF:Potd/2011-04\">\\xd2\\xa0\\xd0\\xb0\\xd0\\xbb\\xd1\\x8b\\xd0\\xbf:Potd/2011-04</a></li>\\n</ul></li>\\n<li class=\\'mw-gu-onwiki-bg_wikipedia_org\\'>Usage on bg.wikipedia.org\\n<ul>\\t<li><a class=\"external\" href=\"https://bg.wikipedia.org/wiki/%D0%A2%D0%B0%D0%B1%D0%B8\">\\xd0\\xa2\\xd0\\xb0\\xd0\\xb1\\xd0\\xb8</a></li>\\n</ul></li>\\n<li class=\\'mw-gu-onwiki-bn_wikipedia_org\\'>Usage on bn.wikipedia.org\\n<ul>\\t<li><a class=\"external\" href=\"https://bn.wikipedia.org/wiki/%E0%A6%89%E0%A6%87%E0%A6%95%E0%A6%BF%E0%A6%AA%E0%A6%BF%E0%A6%A1%E0%A6%BF%E0%A6%AF%E0%A6%BC%E0%A6%BE:%E0%A6%86%E0%A6%9C%E0%A6%95%E0%A7%87%E0%A6%B0_%E0%A6%A8%E0%A6%BF%E0%A6%B0%E0%A7%8D%E0%A6%AC%E0%A6%BE%E0%A6%9A%E0%A6%BF%E0%A6%A4_%E0%A6%9B%E0%A6%AC%E0%A6%BF/%E0%A6%8F%E0%A6%AA%E0%A7%8D%E0%A6%B0%E0%A6%BF%E0%A6%B2_%E0%A7%A8%E0%A7%A6%E0%A7%A7%E0%A7%A7\">\\xe0\\xa6\\x89\\xe0\\xa6\\x87\\xe0\\xa6\\x95\\xe0\\xa6\\xbf\\xe0\\xa6\\xaa\\xe0\\xa6\\xbf\\xe0\\xa6\\xa1\\xe0\\xa6\\xbf\\xe0\\xa6\\xaf\\xe0\\xa6\\xbc\\xe0\\xa6\\xbe:\\xe0\\xa6\\x86\\xe0\\xa6\\x9c\\xe0\\xa6\\x95\\xe0\\xa7\\x87\\xe0\\xa6\\xb0 \\xe0\\xa6\\xa8\\xe0\\xa6\\xbf\\xe0\\xa6\\xb0\\xe0\\xa7\\x8d\\xe0\\xa6\\xac\\xe0\\xa6\\xbe\\xe0\\xa6\\x9a\\xe0\\xa6\\xbf\\xe0\\xa6\\xa4 \\xe0\\xa6\\x9b\\xe0\\xa6\\xac\\xe0\\xa6\\xbf/\\xe0\\xa6\\x8f\\xe0\\xa6\\xaa\\xe0\\xa7\\x8d\\xe0\\xa6\\xb0\\xe0\\xa6\\xbf\\xe0\\xa6\\xb2 \\xe0\\xa7\\xa8\\xe0\\xa7\\xa6\\xe0\\xa7\\xa7\\xe0\\xa7\\xa7</a></li>\\n\\t<li><a class=\"external\" href=\"https://bn.wikipedia.org/wiki/%E0%A6%9F%E0%A7%8D%E0%A6%AF%E0%A6%BE%E0%A6%AC%E0%A6%BF_%E0%A6%AC%E0%A6%BF%E0%A6%A1%E0%A6%BC%E0%A6%BE%E0%A6%B2\">\\xe0\\xa6\\x9f\\xe0\\xa7\\x8d\\xe0\\xa6\\xaf\\xe0\\xa6\\xbe\\xe0\\xa6\\xac\\xe0\\xa6\\xbf \\xe0\\xa6\\xac\\xe0\\xa6\\xbf\\xe0\\xa6\\xa1\\xe0\\xa6\\xbc\\xe0\\xa6\\xbe\\xe0\\xa6\\xb2</a></li>\\n\\t<li><a class=\"external\" href=\"https://bn.wikipedia.org/wiki/%E0%A6%B8%E0%A6%BE%E0%A6%B9%E0%A6%BE%E0%A6%AF%E0%A7%8D%E0%A6%AF:%E0%A6%9A%E0%A6%BF%E0%A6%A4%E0%A7%8D%E0%A6%B0\">\\xe0\\xa6\\xb8\\xe0\\xa6\\xbe\\xe0\\xa6\\xb9\\xe0\\xa6\\xbe\\xe0\\xa6\\xaf\\xe0\\xa7\\x8d\\xe0\\xa6\\xaf:\\xe0\\xa6\\x9a\\xe0\\xa6\\xbf\\xe0\\xa6\\xa4\\xe0\\xa7\\x8d\\xe0\\xa6\\xb0</a></li>\\n</ul></li>\\n<li class=\\'mw-gu-onwiki-ca_wikipedia_org\\'>Usage on ca.wikipedia.org\\n<ul>\\t<li><a class=\"external\" href=\"https://ca.wikipedia.org/wiki/Ajuda:%C3%9As_d%27imatges\">Ajuda:\\xc3\\x9as d\\'imatges</a></li>\\n</ul></li>\\n<li class=\\'mw-gu-onwiki-crh_wikipedia_org\\'>Usage on crh.wikipedia.org\\n<ul>\\t<li><a class=\"external\" href=\"https://crh.wikipedia.org/wiki/%C5%9Eablon:Potd/2011-04\">\\xc5\\x9eablon:Potd/2011-04</a></li>\\n</ul></li>\\n<li class=\\'mw-gu-onwiki-cs_wikipedia_org\\'>Usage on cs.wikipedia.org\\n<ul>\\t<li><a class=\"external\" href=\"https://cs.wikipedia.org/wiki/%C5%A0ablona:Galerie\">\\xc5\\xa0ablona:Galerie</a></li>\\n\\t<li><a class=\"external\" href=\"https://cs.wikipedia.org/wiki/%C5%A0ablona:Galerie/doc\">\\xc5\\xa0ablona:Galerie/doc</a></li>\\n</ul></li>\\n<li class=\\'mw-gu-onwiki-cv_wikipedia_org\\'>Usage on cv.wikipedia.org\\n<ul>\\t<li><a class=\"external\" href=\"https://cv.wikipedia.org/wiki/%D0%A8%D0%B0%D0%B1%D0%BB%D0%BE%D0%BD:Potd/2011-04\">\\xd0\\xa8\\xd0\\xb0\\xd0\\xb1\\xd0\\xbb\\xd0\\xbe\\xd0\\xbd:Potd/2011-04</a></li>\\n</ul></li>\\n<li class=\\'mw-gu-onwiki-dag_wikipedia_org\\'>Usage on dag.wikipedia.org\\n<ul>\\t<li><a class=\"external\" href=\"https://dag.wikipedia.org/wiki/J%C9%9B%C5%8Bkuno\">J\\xc9\\x9b\\xc5\\x8bkuno</a></li>\\n</ul></li>\\n<li class=\\'mw-gu-onwiki-ee_wikipedia_org\\'>Usage on ee.wikipedia.org\\n<ul>\\t<li><a class=\"external\" href=\"https://ee.wikipedia.org/wiki/Dadi\">Dadi</a></li>\\n</ul></li>\\n<li class=\\'mw-gu-onwiki-el_wikipedia_org\\'>Usage on el.wikipedia.org\\n<ul>\\t<li><a class=\"external\" href=\"https://el.wikipedia.org/wiki/%CE%92%CE%B9%CE%BA%CE%B9%CF%80%CE%B1%CE%AF%CE%B4%CE%B5%CE%B9%CE%B1:%CE%9B%CE%AE%CE%BC%CE%BC%CE%B1%CF%84%CE%B1_%CE%B6%CF%89%CF%84%CE%B9%CE%BA%CE%AE%CF%82_%CF%83%CE%B7%CE%BC%CE%B1%CF%83%CE%AF%CE%B1%CF%82/Wikidata\">\\xce\\x92\\xce\\xb9\\xce\\xba\\xce\\xb9\\xcf\\x80\\xce\\xb1\\xce\\xaf\\xce\\xb4\\xce\\xb5\\xce\\xb9\\xce\\xb1:\\xce\\x9b\\xce\\xae\\xce\\xbc\\xce\\xbc\\xce\\xb1\\xcf\\x84\\xce\\xb1 \\xce\\xb6\\xcf\\x89\\xcf\\x84\\xce\\xb9\\xce\\xba\\xce\\xae\\xcf\\x82 \\xcf\\x83\\xce\\xb7\\xce\\xbc\\xce\\xb1\\xcf\\x83\\xce\\xaf\\xce\\xb1\\xcf\\x82/Wikidata</a></li>\\n</ul></li>\\n<li class=\\'mw-gu-onwiki-en_wikipedia_org\\'>Usage on en.wikipedia.org\\n<ul>\\t<li><a class=\"external\" href=\"https://en.wikipedia.org/wiki/Help:Pictures\">Help:Pictures</a></li>\\n\\t<li><a class=\"external\" href=\"https://en.wikipedia.org/wiki/Talk:Tabby_cat\">Talk:Tabby cat</a></li>\\n\\t<li><a class=\"external\" href=\"https://en.wikipedia.org/wiki/User:Alvesgaspar\">User:Alvesgaspar</a></li>\\n\\t<li><a class=\"external\" href=\"https://en.wikipedia.org/wiki/User_talk:EnglishEfternamn\">User talk:EnglishEfternamn</a></li>\\n\\t<li><a class=\"external\" href=\"https://en.wikipedia.org/wiki/Tabby_cat\">Tabby cat</a></li>\\n\\t<li><a class=\"external\" href=\"https://en.wikipedia.org/wiki/Wikipedia:Featured_pictures/Animals/Mammals\">Wikipedia:Featured pictures/Animals/Mammals</a></li>\\n</ul></li>\\n</ul>\\n<p>View <a href=\"/wiki/Special:GlobalUsage/Cat_November_2010-1a.jpg\" title=\"Special:GlobalUsage/Cat November 2010-1a.jpg\">more global usage</a> of this file.\\n</p></div><h2 id=\"metadata\">Metadata</h2>\\n<div class=\"mw-imagepage-section-metadata\"><p>This file contains additional information such as Exif metadata which may have been added by the digital camera, scanner, or software program used to create or digitize it. If the file has been modified from its original state, some details such as the timestamp may not fully reflect those of the original file. The timestamp is only as accurate as the clock in the camera, and it may be completely wrong.</p><table id=\"mw_metadata\" class=\"mw_metadata collapsed\">\\n<tbody><tr class=\"exif-make\"><th>Camera manufacturer</th><td><a href=\"https://en.wikipedia.org/wiki/NIKON_CORPORATION\" class=\"extiw\" title=\"w:NIKON CORPORATION\">NIKON CORPORATION</a></td></tr><tr class=\"exif-model\"><th>Camera model</th><td><a href=\"https://en.wikipedia.org/wiki/NIKON_D80\" class=\"extiw\" title=\"en:NIKON D80\">NIKON D80</a></td></tr><tr class=\"exif-exposuretime\"><th>Exposure time</th><td>1/250 sec (0.004)</td></tr><tr class=\"exif-fnumber\"><th><a href=\"https://en.wikipedia.org/wiki/F-number\" class=\"extiw\" title=\"wikipedia:F-number\">F-number</a></th><td>f/10</td></tr><tr class=\"exif-isospeedratings\"><th>ISO speed rating</th><td>100</td></tr><tr class=\"exif-datetimeoriginal\"><th>Date and time of data generation</th><td>13:14, 21 November 2010</td></tr><tr class=\"exif-focallength\"><th>Lens focal length</th><td>100 mm</td></tr><tr class=\"exif-orientation mw-metadata-collapsible\"><th>Orientation</th><td>Normal</td></tr><tr class=\"exif-xresolution mw-metadata-collapsible\"><th>Horizontal resolution</th><td>300 dpi</td></tr><tr class=\"exif-yresolution mw-metadata-collapsible\"><th>Vertical resolution</th><td>300 dpi</td></tr><tr class=\"exif-software mw-metadata-collapsible\"><th>Software used</th><td><a href=\"https://en.wikipedia.org/wiki/Microsoft_Windows_Photo_Viewer_6.1.7600.16385\" class=\"extiw\" title=\"w:Microsoft Windows Photo Viewer 6.1.7600.16385\">Microsoft Windows Photo Viewer 6.1.7600.16385</a></td></tr><tr class=\"exif-datetime mw-metadata-collapsible\"><th>File change date and time</th><td>21:00, 21 November 2010</td></tr><tr class=\"exif-ycbcrpositioning mw-metadata-collapsible\"><th>Y and C positioning</th><td>Co-sited</td></tr><tr class=\"exif-exposureprogram mw-metadata-collapsible\"><th>Exposure Program</th><td>Aperture priority</td></tr><tr class=\"exif-exifversion mw-metadata-collapsible\"><th>Exif version</th><td>2.21</td></tr><tr class=\"exif-datetimedigitized mw-metadata-collapsible\"><th>Date and time of digitizing</th><td>13:14, 21 November 2010</td></tr><tr class=\"exif-compressedbitsperpixel mw-metadata-collapsible\"><th>Image compression mode</th><td>4</td></tr><tr class=\"exif-exposurebiasvalue mw-metadata-collapsible\"><th>APEX exposure bias</th><td>0</td></tr><tr class=\"exif-maxaperturevalue mw-metadata-collapsible\"><th>Maximum land aperture</th><td>3 APEX (f/2.83)</td></tr><tr class=\"exif-meteringmode mw-metadata-collapsible\"><th>Metering mode</th><td>Center weighted average</td></tr><tr class=\"exif-lightsource mw-metadata-collapsible\"><th>Light source</th><td>Unknown</td></tr><tr class=\"exif-flash mw-metadata-collapsible\"><th>Flash</th><td>Flash did not fire</td></tr><tr class=\"exif-subsectime mw-metadata-collapsible\"><th>DateTime subseconds</th><td>50</td></tr><tr class=\"exif-subsectimeoriginal mw-metadata-collapsible\"><th>DateTimeOriginal subseconds</th><td>50</td></tr><tr class=\"exif-subsectimedigitized mw-metadata-collapsible\"><th>DateTimeDigitized subseconds</th><td>50</td></tr><tr class=\"exif-colorspace mw-metadata-collapsible\"><th>Color space</th><td>sRGB</td></tr><tr class=\"exif-sensingmethod mw-metadata-collapsible\"><th>Sensing method</th><td>One-chip color area sensor</td></tr><tr class=\"exif-customrendered mw-metadata-collapsible\"><th>Custom image processing</th><td>Normal process</td></tr><tr class=\"exif-exposuremode mw-metadata-collapsible\"><th>Exposure mode</th><td>Auto exposure</td></tr><tr class=\"exif-whitebalance mw-metadata-collapsible\"><th>White balance</th><td>Auto white balance</td></tr><tr class=\"exif-digitalzoomratio mw-metadata-collapsible\"><th>Digital zoom ratio</th><td>1</td></tr><tr class=\"exif-focallengthin35mmfilm mw-metadata-collapsible\"><th>Focal length in 35 mm film</th><td>150 mm</td></tr><tr class=\"exif-scenecapturetype mw-metadata-collapsible\"><th>Scene capture type</th><td>Standard</td></tr><tr class=\"exif-contrast mw-metadata-collapsible\"><th>Contrast</th><td>Hard</td></tr><tr class=\"exif-saturation mw-metadata-collapsible\"><th>Saturation</th><td>Normal</td></tr><tr class=\"exif-sharpness mw-metadata-collapsible\"><th>Sharpness</th><td>Normal</td></tr><tr class=\"exif-subjectdistancerange mw-metadata-collapsible\"><th>Subject distance range</th><td>Unknown</td></tr></tbody></table>\\n</div></div><div role=\\'tabpanel\\' id=\\'ooui-php-5\\' class=\\'wbmi-tab oo-ui-layout oo-ui-panelLayout oo-ui-panelLayout-scrollable oo-ui-tabPanelLayout\\' data-ooui=\\'{\"_\":\"OO.ui.TabPanelLayout\",\"name\":\"statements\",\"label\":\"Structured data\",\"scrollable\":true,\"expanded\":false,\"classes\":[\"wbmi-tab\"]}\\'><h2 class=\"wbmi-structured-data-header\">Structured data</h2><div id=\\'P180\\' data-property=\\'P180\\' data-statements=\\'[{\"mainsnak\":{\"snaktype\":\"value\",\"property\":\"P180\",\"hash\":\"ccce95c01ea01fadd10457a4adc5f56bce0fe097\",\"datavalue\":{\"value\":{\"entity-type\":\"item\",\"numeric-id\":146,\"id\":\"Q146\"},\"type\":\"wikibase-entityid\"}},\"type\":\"statement\",\"id\":\"M12127693$533F5647-EA50-48E5-9A7F-72D59AB334CC\",\"rank\":\"normal\"}]\\' data-formatvalue=\\'{\"{\\\\\"value\\\\\":{\\\\\"entity-type\\\\\":\\\\\"property\\\\\",\\\\\"numeric-id\\\\\":180,\\\\\"id\\\\\":\\\\\"P180\\\\\"},\\\\\"type\\\\\":\\\\\"wikibase-entityid\\\\\"}\":{\"text\\\\/html\":{\"en\":{\"\":\"&lt;a target=\\\\\"_blank\\\\\" title=\\\\\"d:Special:EntityPage\\\\/P180\\\\\" href=\\\\\"https:\\\\/\\\\/www.wikidata.org\\\\/wiki\\\\/Special:EntityPage\\\\/P180\\\\\"&gt;depicts&lt;\\\\/a&gt;\"}},\"text\\\\/plain\":{\"en\":{\"\":\"depicts\"}}},\"{\\\\\"value\\\\\":{\\\\\"entity-type\\\\\":\\\\\"item\\\\\",\\\\\"numeric-id\\\\\":146,\\\\\"id\\\\\":\\\\\"Q146\\\\\"},\\\\\"type\\\\\":\\\\\"wikibase-entityid\\\\\"}\":{\"text\\\\/html\":{\"en\":{\"P180\":\"&lt;a target=\\\\\"_blank\\\\\" title=\\\\\"d:Special:EntityPage\\\\/Q146\\\\\" href=\\\\\"https:\\\\/\\\\/www.wikidata.org\\\\/wiki\\\\/Special:EntityPage\\\\/Q146\\\\\"&gt;house cat&lt;\\\\/a&gt;\"}},\"text\\\\/plain\":{\"en\":{\"P180\":\"house cat\"}}}}\\' class=\\'wbmi-entityview-statementsGroup wbmi-entityview-statementsGroup-P180 oo-ui-layout oo-ui-panelLayout oo-ui-panelLayout-framed\\'><div class=\\'wbmi-statements-widget\\'><div class=\\'wbmi-statement-header\\'><div class=\\'wbmi-entity-data\\'><div class=\\'wbmi-entity-title\\'><h3 class=\\'wbmi-statements-title\\'>Items portrayed in this file</h3><h4 class=\\'wbmi-entity-label\\'><bdi><a target=\"_blank\" title=\"d:Special:EntityPage/P180\" href=\"https://www.wikidata.org/wiki/Special:EntityPage/P180\">depicts</a></bdi></h4></div></div></div><div class=\\'wbmi-content-items-group\\'><div class=\\'wbmi-item wbmi-item-read\\'><div data-guid=\\'M12127693$533F5647-EA50-48E5-9A7F-72D59AB334CC\\' class=\\'wbmi-item-container\\'><div class=\\'wbmi-entity-header\\'><div class=\\'wbmi-entity-data\\'><div class=\\'wbmi-entity-title\\'><h4 class=\\'wbmi-entity-label\\'><bdi><a target=\"_blank\" title=\"d:Special:EntityPage/Q146\" href=\"https://www.wikidata.org/wiki/Special:EntityPage/Q146\">house cat</a></bdi></h4></div></div></div></div></div></div></div></div><div id=\\'P170\\' data-property=\\'P170\\' data-statements=\\'[{\"mainsnak\":{\"snaktype\":\"somevalue\",\"property\":\"P170\",\"hash\":\"d3550e860f988c6675fff913440993f58f5c40c5\"},\"type\":\"statement\",\"qualifiers\":{\"P2093\":[{\"snaktype\":\"value\",\"property\":\"P2093\",\"hash\":\"24e746d5e07ee5be9eb02a853720433efabaa58b\",\"datavalue\":{\"value\":\"Alvesgaspar\",\"type\":\"string\"}}],\"P4174\":[{\"snaktype\":\"value\",\"property\":\"P4174\",\"hash\":\"b24ad9eaf68e345d77e81f3d282f1a6c78509375\",\"datavalue\":{\"value\":\"Alvesgaspar\",\"type\":\"string\"}}],\"P2699\":[{\"snaktype\":\"value\",\"property\":\"P2699\",\"hash\":\"9f9bea7a6dafcc528e83d55257a34d47721bfc1a\",\"datavalue\":{\"value\":\"https:\\\\/\\\\/commons.wikimedia.org\\\\/wiki\\\\/User:Alvesgaspar\",\"type\":\"string\"}}]},\"qualifiers-order\":[\"P2093\",\"P4174\",\"P2699\"],\"id\":\"M12127693$C434F4A4-4D8C-4E6E-84F5-A5F2E962346A\",\"rank\":\"normal\"}]\\' data-formatvalue=\\'{\"{\\\\\"value\\\\\":{\\\\\"entity-type\\\\\":\\\\\"property\\\\\",\\\\\"numeric-id\\\\\":170,\\\\\"id\\\\\":\\\\\"P170\\\\\"},\\\\\"type\\\\\":\\\\\"wikibase-entityid\\\\\"}\":{\"text\\\\/html\":{\"en\":{\"\":\"&lt;a target=\\\\\"_blank\\\\\" title=\\\\\"d:Special:EntityPage\\\\/P170\\\\\" href=\\\\\"https:\\\\/\\\\/www.wikidata.org\\\\/wiki\\\\/Special:EntityPage\\\\/P170\\\\\"&gt;creator&lt;\\\\/a&gt;\"}},\"text\\\\/plain\":{\"en\":{\"\":\"creator\"}}},\"{\\\\\"value\\\\\":{\\\\\"entity-type\\\\\":\\\\\"property\\\\\",\\\\\"numeric-id\\\\\":2093,\\\\\"id\\\\\":\\\\\"P2093\\\\\"},\\\\\"type\\\\\":\\\\\"wikibase-entityid\\\\\"}\":{\"text\\\\/html\":{\"en\":{\"\":\"&lt;a target=\\\\\"_blank\\\\\" title=\\\\\"d:Special:EntityPage\\\\/P2093\\\\\" href=\\\\\"https:\\\\/\\\\/www.wikidata.org\\\\/wiki\\\\/Special:EntityPage\\\\/P2093\\\\\"&gt;author name string&lt;\\\\/a&gt;\"}},\"text\\\\/plain\":{\"en\":{\"\":\"author name string\"}}},\"{\\\\\"value\\\\\":\\\\\"Alvesgaspar\\\\\",\\\\\"type\\\\\":\\\\\"string\\\\\"}\":{\"text\\\\/html\":{\"en\":{\"P2093\":\"Alvesgaspar\",\"P4174\":\"&lt;a target=\\\\\"_blank\\\\\" class=\\\\\"wb-external-id external\\\\\" href=\\\\\"https:\\\\/\\\\/www.wikidata.org\\\\/wiki\\\\/Special:CentralAuth?target=Alvesgaspar\\\\\" rel=\\\\\"nofollow\\\\\"&gt;Alvesgaspar&lt;\\\\/a&gt;\"}},\"text\\\\/plain\":{\"en\":{\"P2093\":\"Alvesgaspar\",\"P4174\":\"Alvesgaspar\"}}},\"{\\\\\"value\\\\\":{\\\\\"entity-type\\\\\":\\\\\"property\\\\\",\\\\\"numeric-id\\\\\":4174,\\\\\"id\\\\\":\\\\\"P4174\\\\\"},\\\\\"type\\\\\":\\\\\"wikibase-entityid\\\\\"}\":{\"text\\\\/html\":{\"en\":{\"\":\"&lt;a target=\\\\\"_blank\\\\\" title=\\\\\"d:Special:EntityPage\\\\/P4174\\\\\" href=\\\\\"https:\\\\/\\\\/www.wikidata.org\\\\/wiki\\\\/Special:EntityPage\\\\/P4174\\\\\"&gt;Wikimedia username&lt;\\\\/a&gt;\"}},\"text\\\\/plain\":{\"en\":{\"\":\"Wikimedia username\"}}},\"{\\\\\"value\\\\\":{\\\\\"entity-type\\\\\":\\\\\"property\\\\\",\\\\\"numeric-id\\\\\":2699,\\\\\"id\\\\\":\\\\\"P2699\\\\\"},\\\\\"type\\\\\":\\\\\"wikibase-entityid\\\\\"}\":{\"text\\\\/html\":{\"en\":{\"\":\"&lt;a target=\\\\\"_blank\\\\\" title=\\\\\"d:Special:EntityPage\\\\/P2699\\\\\" href=\\\\\"https:\\\\/\\\\/www.wikidata.org\\\\/wiki\\\\/Special:EntityPage\\\\/P2699\\\\\"&gt;URL&lt;\\\\/a&gt;\"}},\"text\\\\/plain\":{\"en\":{\"\":\"URL\"}}},\"{\\\\\"value\\\\\":\\\\\"https:\\\\\\\\\\\\/\\\\\\\\\\\\/commons.wikimedia.org\\\\\\\\\\\\/wiki\\\\\\\\\\\\/User:Alvesgaspar\\\\\",\\\\\"type\\\\\":\\\\\"string\\\\\"}\":{\"text\\\\/html\":{\"en\":{\"P2699\":\"&lt;a target=\\\\\"_blank\\\\\" rel=\\\\\"nofollow\\\\\" class=\\\\\"external free\\\\\" href=\\\\\"https:\\\\/\\\\/commons.wikimedia.org\\\\/wiki\\\\/User:Alvesgaspar\\\\\"&gt;https:\\\\/\\\\/commons.wikimedia.org\\\\/wiki\\\\/User:Alvesgaspar&lt;\\\\/a&gt;\"}},\"text\\\\/plain\":{\"en\":{\"P2699\":\"https:\\\\/\\\\/commons.wikimedia.org\\\\/wiki\\\\/User:Alvesgaspar\"}}}}\\' class=\\'wbmi-entityview-statementsGroup wbmi-entityview-statementsGroup-P170 oo-ui-layout oo-ui-panelLayout oo-ui-panelLayout-framed\\'><div class=\\'wbmi-statements-widget\\'><div class=\\'wbmi-statement-header\\'><div class=\\'wbmi-entity-data\\'><div class=\\'wbmi-entity-title\\'><h4 class=\\'wbmi-entity-label\\'><bdi><a target=\"_blank\" title=\"d:Special:EntityPage/P170\" href=\"https://www.wikidata.org/wiki/Special:EntityPage/P170\">creator</a></bdi></h4></div></div></div><div class=\\'wbmi-content-items-group\\'><div class=\\'wbmi-item wbmi-item-read\\'><div data-guid=\\'M12127693$C434F4A4-4D8C-4E6E-84F5-A5F2E962346A\\' class=\\'wbmi-item-container\\'><div class=\\'wbmi-entity-header\\'><div class=\\'wbmi-entity-data\\'><div class=\\'wbmi-entity-title\\'><h4 class=\\'wbmi-entity-label\\'><bdi>some value</bdi></h4></div></div></div><div class=\\'wbmi-item-qualifiers\\'><div class=\\'wbmi-snaklist-container\\'><div class=\\'wbmi-snaklist-content\\'><div class=\\'wbmi-snak\\'><div class=\\'wbmi-snak-value\\'><a target=\"_blank\" title=\"d:Special:EntityPage/P2093\" href=\"https://www.wikidata.org/wiki/Special:EntityPage/P2093\">author name string</a><span class=\\'wbmi-snak-value-separator\\'>: </span><span class=\\'wbmi-snak-value--value\\'>Alvesgaspar</span></div></div><div class=\\'wbmi-snak\\'><div class=\\'wbmi-snak-value\\'><a target=\"_blank\" title=\"d:Special:EntityPage/P4174\" href=\"https://www.wikidata.org/wiki/Special:EntityPage/P4174\">Wikimedia username</a><span class=\\'wbmi-snak-value-separator\\'>: </span><span class=\\'wbmi-snak-value--value\\'><a target=\"_blank\" class=\"wb-external-id external\" href=\"https://www.wikidata.org/wiki/Special:CentralAuth?target=Alvesgaspar\" rel=\"nofollow\">Alvesgaspar</a></span></div></div><div class=\\'wbmi-snak\\'><div class=\\'wbmi-snak-value\\'><a target=\"_blank\" title=\"d:Special:EntityPage/P2699\" href=\"https://www.wikidata.org/wiki/Special:EntityPage/P2699\">URL</a><span class=\\'wbmi-snak-value-separator\\'>: </span><span class=\\'wbmi-snak-value--value\\'><a target=\"_blank\" rel=\"nofollow\" class=\"external free\" href=\"https://commons.wikimedia.org/wiki/User:Alvesgaspar\">https://commons.wikimedia.org/wiki/User:Alvesgaspar</a></span></div></div></div></div></div></div></div></div></div></div><div id=\\'P6216\\' data-property=\\'P6216\\' data-statements=\\'[{\"mainsnak\":{\"snaktype\":\"value\",\"property\":\"P6216\",\"hash\":\"5570347fdc76d2a80732f51ea10ee4b144a084e0\",\"datavalue\":{\"value\":{\"entity-type\":\"item\",\"numeric-id\":50423863,\"id\":\"Q50423863\"},\"type\":\"wikibase-entityid\"}},\"type\":\"statement\",\"id\":\"M12127693$B6C851D2-98C0-4C4C-AEA7-152DA9535214\",\"rank\":\"normal\"}]\\' data-formatvalue=\\'{\"{\\\\\"value\\\\\":{\\\\\"entity-type\\\\\":\\\\\"property\\\\\",\\\\\"numeric-id\\\\\":6216,\\\\\"id\\\\\":\\\\\"P6216\\\\\"},\\\\\"type\\\\\":\\\\\"wikibase-entityid\\\\\"}\":{\"text\\\\/html\":{\"en\":{\"\":\"&lt;a target=\\\\\"_blank\\\\\" title=\\\\\"d:Special:EntityPage\\\\/P6216\\\\\" href=\\\\\"https:\\\\/\\\\/www.wikidata.org\\\\/wiki\\\\/Special:EntityPage\\\\/P6216\\\\\"&gt;copyright status&lt;\\\\/a&gt;\"}},\"text\\\\/plain\":{\"en\":{\"\":\"copyright status\"}}},\"{\\\\\"value\\\\\":{\\\\\"entity-type\\\\\":\\\\\"item\\\\\",\\\\\"numeric-id\\\\\":50423863,\\\\\"id\\\\\":\\\\\"Q50423863\\\\\"},\\\\\"type\\\\\":\\\\\"wikibase-entityid\\\\\"}\":{\"text\\\\/html\":{\"en\":{\"P6216\":\"&lt;a target=\\\\\"_blank\\\\\" title=\\\\\"d:Special:EntityPage\\\\/Q50423863\\\\\" href=\\\\\"https:\\\\/\\\\/www.wikidata.org\\\\/wiki\\\\/Special:EntityPage\\\\/Q50423863\\\\\"&gt;copyrighted&lt;\\\\/a&gt;\"}},\"text\\\\/plain\":{\"en\":{\"P6216\":\"copyrighted\"}}}}\\' class=\\'wbmi-entityview-statementsGroup wbmi-entityview-statementsGroup-P6216 oo-ui-layout oo-ui-panelLayout oo-ui-panelLayout-framed\\'><div class=\\'wbmi-statements-widget\\'><div class=\\'wbmi-statement-header\\'><div class=\\'wbmi-entity-data\\'><div class=\\'wbmi-entity-title\\'><h4 class=\\'wbmi-entity-label\\'><bdi><a target=\"_blank\" title=\"d:Special:EntityPage/P6216\" href=\"https://www.wikidata.org/wiki/Special:EntityPage/P6216\">copyright status</a></bdi></h4></div></div></div><div class=\\'wbmi-content-items-group\\'><div class=\\'wbmi-item wbmi-item-read\\'><div data-guid=\\'M12127693$B6C851D2-98C0-4C4C-AEA7-152DA9535214\\' class=\\'wbmi-item-container\\'><div class=\\'wbmi-entity-header\\'><div class=\\'wbmi-entity-data\\'><div class=\\'wbmi-entity-title\\'><h4 class=\\'wbmi-entity-label\\'><bdi><a target=\"_blank\" title=\"d:Special:EntityPage/Q50423863\" href=\"https://www.wikidata.org/wiki/Special:EntityPage/Q50423863\">copyrighted</a></bdi></h4></div></div></div></div></div></div></div></div><div id=\\'P275\\' data-property=\\'P275\\' data-statements=\\'[{\"mainsnak\":{\"snaktype\":\"value\",\"property\":\"P275\",\"hash\":\"4315b8c41a664bcb36dc3783262461e54b0ddf16\",\"datavalue\":{\"value\":{\"entity-type\":\"item\",\"numeric-id\":50829104,\"id\":\"Q50829104\"},\"type\":\"wikibase-entityid\"}},\"type\":\"statement\",\"id\":\"M12127693$B905B7C7-F664-4049-9AA5-AADE98F814D1\",\"rank\":\"normal\"},{\"mainsnak\":{\"snaktype\":\"value\",\"property\":\"P275\",\"hash\":\"a35b4558d66c92eacbe2f569697ffb1934e0316e\",\"datavalue\":{\"value\":{\"entity-type\":\"item\",\"numeric-id\":14946043,\"id\":\"Q14946043\"},\"type\":\"wikibase-entityid\"}},\"type\":\"statement\",\"id\":\"M12127693$525BE518-2427-4BB5-99C9-CEB3D9AD7F85\",\"rank\":\"normal\"}]\\' data-formatvalue=\\'{\"{\\\\\"value\\\\\":{\\\\\"entity-type\\\\\":\\\\\"property\\\\\",\\\\\"numeric-id\\\\\":275,\\\\\"id\\\\\":\\\\\"P275\\\\\"},\\\\\"type\\\\\":\\\\\"wikibase-entityid\\\\\"}\":{\"text\\\\/html\":{\"en\":{\"\":\"&lt;a target=\\\\\"_blank\\\\\" title=\\\\\"d:Special:EntityPage\\\\/P275\\\\\" href=\\\\\"https:\\\\/\\\\/www.wikidata.org\\\\/wiki\\\\/Special:EntityPage\\\\/P275\\\\\"&gt;copyright license&lt;\\\\/a&gt;\"}},\"text\\\\/plain\":{\"en\":{\"\":\"copyright license\"}}},\"{\\\\\"value\\\\\":{\\\\\"entity-type\\\\\":\\\\\"item\\\\\",\\\\\"numeric-id\\\\\":50829104,\\\\\"id\\\\\":\\\\\"Q50829104\\\\\"},\\\\\"type\\\\\":\\\\\"wikibase-entityid\\\\\"}\":{\"text\\\\/html\":{\"en\":{\"P275\":\"&lt;a target=\\\\\"_blank\\\\\" title=\\\\\"d:Special:EntityPage\\\\/Q50829104\\\\\" href=\\\\\"https:\\\\/\\\\/www.wikidata.org\\\\/wiki\\\\/Special:EntityPage\\\\/Q50829104\\\\\"&gt;GNU Free Documentation License, version 1.2 or later&lt;\\\\/a&gt;\"}},\"text\\\\/plain\":{\"en\":{\"P275\":\"GNU Free Documentation License, version 1.2 or later\"}}},\"{\\\\\"value\\\\\":{\\\\\"entity-type\\\\\":\\\\\"item\\\\\",\\\\\"numeric-id\\\\\":14946043,\\\\\"id\\\\\":\\\\\"Q14946043\\\\\"},\\\\\"type\\\\\":\\\\\"wikibase-entityid\\\\\"}\":{\"text\\\\/html\":{\"en\":{\"P275\":\"&lt;a target=\\\\\"_blank\\\\\" title=\\\\\"d:Special:EntityPage\\\\/Q14946043\\\\\" href=\\\\\"https:\\\\/\\\\/www.wikidata.org\\\\/wiki\\\\/Special:EntityPage\\\\/Q14946043\\\\\"&gt;Creative Commons Attribution-ShareAlike 3.0 Unported&lt;\\\\/a&gt;\"}},\"text\\\\/plain\":{\"en\":{\"P275\":\"Creative Commons Attribution-ShareAlike 3.0 Unported\"}}}}\\' class=\\'wbmi-entityview-statementsGroup wbmi-entityview-statementsGroup-P275 oo-ui-layout oo-ui-panelLayout oo-ui-panelLayout-framed\\'><div class=\\'wbmi-statements-widget\\'><div class=\\'wbmi-statement-header\\'><div class=\\'wbmi-entity-data\\'><div class=\\'wbmi-entity-title\\'><h4 class=\\'wbmi-entity-label\\'><bdi><a target=\"_blank\" title=\"d:Special:EntityPage/P275\" href=\"https://www.wikidata.org/wiki/Special:EntityPage/P275\">copyright license</a></bdi></h4></div></div></div><div class=\\'wbmi-content-items-group\\'><div class=\\'wbmi-item wbmi-item-read\\'><div data-guid=\\'M12127693$B905B7C7-F664-4049-9AA5-AADE98F814D1\\' class=\\'wbmi-item-container\\'><div class=\\'wbmi-entity-header\\'><div class=\\'wbmi-entity-data\\'><div class=\\'wbmi-entity-title\\'><h4 class=\\'wbmi-entity-label\\'><bdi><a target=\"_blank\" title=\"d:Special:EntityPage/Q50829104\" href=\"https://www.wikidata.org/wiki/Special:EntityPage/Q50829104\">GNU Free Documentation License, version 1.2 or later</a></bdi></h4></div></div></div></div></div><div class=\\'wbmi-item wbmi-item-read\\'><div data-guid=\\'M12127693$525BE518-2427-4BB5-99C9-CEB3D9AD7F85\\' class=\\'wbmi-item-container\\'><div class=\\'wbmi-entity-header\\'><div class=\\'wbmi-entity-data\\'><div class=\\'wbmi-entity-title\\'><h4 class=\\'wbmi-entity-label\\'><bdi><a target=\"_blank\" title=\"d:Special:EntityPage/Q14946043\" href=\"https://www.wikidata.org/wiki/Special:EntityPage/Q14946043\">Creative Commons Attribution-ShareAlike 3.0 Unported</a></bdi></h4></div></div></div></div></div></div></div></div><div id=\\'P7482\\' data-property=\\'P7482\\' data-statements=\\'[{\"mainsnak\":{\"snaktype\":\"value\",\"property\":\"P7482\",\"hash\":\"83568a288a8b8b4714a68e7239d8406833762864\",\"datavalue\":{\"value\":{\"entity-type\":\"item\",\"numeric-id\":66458942,\"id\":\"Q66458942\"},\"type\":\"wikibase-entityid\"}},\"type\":\"statement\",\"id\":\"M12127693$7F93CFCD-82B7-4A97-B7CE-2D615681FE5C\",\"rank\":\"normal\"}]\\' data-formatvalue=\\'{\"{\\\\\"value\\\\\":{\\\\\"entity-type\\\\\":\\\\\"property\\\\\",\\\\\"numeric-id\\\\\":7482,\\\\\"id\\\\\":\\\\\"P7482\\\\\"},\\\\\"type\\\\\":\\\\\"wikibase-entityid\\\\\"}\":{\"text\\\\/html\":{\"en\":{\"\":\"&lt;a target=\\\\\"_blank\\\\\" title=\\\\\"d:Special:EntityPage\\\\/P7482\\\\\" href=\\\\\"https:\\\\/\\\\/www.wikidata.org\\\\/wiki\\\\/Special:EntityPage\\\\/P7482\\\\\"&gt;source of file&lt;\\\\/a&gt;\"}},\"text\\\\/plain\":{\"en\":{\"\":\"source of file\"}}},\"{\\\\\"value\\\\\":{\\\\\"entity-type\\\\\":\\\\\"item\\\\\",\\\\\"numeric-id\\\\\":66458942,\\\\\"id\\\\\":\\\\\"Q66458942\\\\\"},\\\\\"type\\\\\":\\\\\"wikibase-entityid\\\\\"}\":{\"text\\\\/html\":{\"en\":{\"P7482\":\"&lt;a target=\\\\\"_blank\\\\\" title=\\\\\"d:Special:EntityPage\\\\/Q66458942\\\\\" href=\\\\\"https:\\\\/\\\\/www.wikidata.org\\\\/wiki\\\\/Special:EntityPage\\\\/Q66458942\\\\\"&gt;original creation by uploader&lt;\\\\/a&gt;\"}},\"text\\\\/plain\":{\"en\":{\"P7482\":\"original creation by uploader\"}}}}\\' class=\\'wbmi-entityview-statementsGroup wbmi-entityview-statementsGroup-P7482 oo-ui-layout oo-ui-panelLayout oo-ui-panelLayout-framed\\'><div class=\\'wbmi-statements-widget\\'><div class=\\'wbmi-statement-header\\'><div class=\\'wbmi-entity-data\\'><div class=\\'wbmi-entity-title\\'><h4 class=\\'wbmi-entity-label\\'><bdi><a target=\"_blank\" title=\"d:Special:EntityPage/P7482\" href=\"https://www.wikidata.org/wiki/Special:EntityPage/P7482\">source of file</a></bdi></h4></div></div></div><div class=\\'wbmi-content-items-group\\'><div class=\\'wbmi-item wbmi-item-read\\'><div data-guid=\\'M12127693$7F93CFCD-82B7-4A97-B7CE-2D615681FE5C\\' class=\\'wbmi-item-container\\'><div class=\\'wbmi-entity-header\\'><div class=\\'wbmi-entity-data\\'><div class=\\'wbmi-entity-title\\'><h4 class=\\'wbmi-entity-label\\'><bdi><a target=\"_blank\" title=\"d:Special:EntityPage/Q66458942\" href=\"https://www.wikidata.org/wiki/Special:EntityPage/Q66458942\">original creation by uploader</a></bdi></h4></div></div></div></div></div></div></div></div><div id=\\'P4082\\' data-property=\\'P4082\\' data-statements=\\'[{\"mainsnak\":{\"snaktype\":\"value\",\"property\":\"P4082\",\"hash\":\"bc1764a062974f9f5e1a42cf8d65c7780438e977\",\"datavalue\":{\"value\":{\"entity-type\":\"item\",\"numeric-id\":1063853,\"id\":\"Q1063853\"},\"type\":\"wikibase-entityid\"}},\"type\":\"statement\",\"id\":\"M12127693$B9DB3402-EF79-4768-9088-743ECB9AE063\",\"rank\":\"normal\"}]\\' data-formatvalue=\\'{\"{\\\\\"value\\\\\":{\\\\\"entity-type\\\\\":\\\\\"property\\\\\",\\\\\"numeric-id\\\\\":4082,\\\\\"id\\\\\":\\\\\"P4082\\\\\"},\\\\\"type\\\\\":\\\\\"wikibase-entityid\\\\\"}\":{\"text\\\\/html\":{\"en\":{\"\":\"&lt;a target=\\\\\"_blank\\\\\" title=\\\\\"d:Special:EntityPage\\\\/P4082\\\\\" href=\\\\\"https:\\\\/\\\\/www.wikidata.org\\\\/wiki\\\\/Special:EntityPage\\\\/P4082\\\\\"&gt;captured with&lt;\\\\/a&gt;\"}},\"text\\\\/plain\":{\"en\":{\"\":\"captured with\"}}},\"{\\\\\"value\\\\\":{\\\\\"entity-type\\\\\":\\\\\"item\\\\\",\\\\\"numeric-id\\\\\":1063853,\\\\\"id\\\\\":\\\\\"Q1063853\\\\\"},\\\\\"type\\\\\":\\\\\"wikibase-entityid\\\\\"}\":{\"text\\\\/html\":{\"en\":{\"P4082\":\"&lt;a target=\\\\\"_blank\\\\\" title=\\\\\"d:Special:EntityPage\\\\/Q1063853\\\\\" href=\\\\\"https:\\\\/\\\\/www.wikidata.org\\\\/wiki\\\\/Special:EntityPage\\\\/Q1063853\\\\\"&gt;Nikon D80&lt;\\\\/a&gt;\"}},\"text\\\\/plain\":{\"en\":{\"P4082\":\"Nikon D80\"}}}}\\' class=\\'wbmi-entityview-statementsGroup wbmi-entityview-statementsGroup-P4082 oo-ui-layout oo-ui-panelLayout oo-ui-panelLayout-framed\\'><div class=\\'wbmi-statements-widget\\'><div class=\\'wbmi-statement-header\\'><div class=\\'wbmi-entity-data\\'><div class=\\'wbmi-entity-title\\'><h4 class=\\'wbmi-entity-label\\'><bdi><a target=\"_blank\" title=\"d:Special:EntityPage/P4082\" href=\"https://www.wikidata.org/wiki/Special:EntityPage/P4082\">captured with</a></bdi></h4></div></div></div><div class=\\'wbmi-content-items-group\\'><div class=\\'wbmi-item wbmi-item-read\\'><div data-guid=\\'M12127693$B9DB3402-EF79-4768-9088-743ECB9AE063\\' class=\\'wbmi-item-container\\'><div class=\\'wbmi-entity-header\\'><div class=\\'wbmi-entity-data\\'><div class=\\'wbmi-entity-title\\'><h4 class=\\'wbmi-entity-label\\'><bdi><a target=\"_blank\" title=\"d:Special:EntityPage/Q1063853\" href=\"https://www.wikidata.org/wiki/Special:EntityPage/Q1063853\">Nikon D80</a></bdi></h4></div></div></div></div></div></div></div></div><div id=\\'P6731\\' data-property=\\'P6731\\' data-statements=\\'[{\"mainsnak\":{\"snaktype\":\"value\",\"property\":\"P6731\",\"hash\":\"00effd845d313cc188e25302a8712c2d48647171\",\"datavalue\":{\"value\":{\"entity-type\":\"item\",\"numeric-id\":63348049,\"id\":\"Q63348049\"},\"type\":\"wikibase-entityid\"}},\"type\":\"statement\",\"id\":\"M12127693$24A8A3BE-EEB0-4AC0-BF47-21A26220BF5F\",\"rank\":\"normal\"}]\\' data-formatvalue=\\'{\"{\\\\\"value\\\\\":{\\\\\"entity-type\\\\\":\\\\\"property\\\\\",\\\\\"numeric-id\\\\\":6731,\\\\\"id\\\\\":\\\\\"P6731\\\\\"},\\\\\"type\\\\\":\\\\\"wikibase-entityid\\\\\"}\":{\"text\\\\/html\":{\"en\":{\"\":\"&lt;a target=\\\\\"_blank\\\\\" title=\\\\\"d:Special:EntityPage\\\\/P6731\\\\\" href=\\\\\"https:\\\\/\\\\/www.wikidata.org\\\\/wiki\\\\/Special:EntityPage\\\\/P6731\\\\\"&gt;Commons quality assessment&lt;\\\\/a&gt;\"}},\"text\\\\/plain\":{\"en\":{\"\":\"Commons quality assessment\"}}},\"{\\\\\"value\\\\\":{\\\\\"entity-type\\\\\":\\\\\"item\\\\\",\\\\\"numeric-id\\\\\":63348049,\\\\\"id\\\\\":\\\\\"Q63348049\\\\\"},\\\\\"type\\\\\":\\\\\"wikibase-entityid\\\\\"}\":{\"text\\\\/html\":{\"en\":{\"P6731\":\"&lt;a target=\\\\\"_blank\\\\\" title=\\\\\"d:Special:EntityPage\\\\/Q63348049\\\\\" href=\\\\\"https:\\\\/\\\\/www.wikidata.org\\\\/wiki\\\\/Special:EntityPage\\\\/Q63348049\\\\\"&gt;Wikimedia Commons featured picture&lt;\\\\/a&gt;\"}},\"text\\\\/plain\":{\"en\":{\"P6731\":\"Wikimedia Commons featured picture\"}}}}\\' class=\\'wbmi-entityview-statementsGroup wbmi-entityview-statementsGroup-P6731 oo-ui-layout oo-ui-panelLayout oo-ui-panelLayout-framed\\'><div class=\\'wbmi-statements-widget\\'><div class=\\'wbmi-statement-header\\'><div class=\\'wbmi-entity-data\\'><div class=\\'wbmi-entity-title\\'><h4 class=\\'wbmi-entity-label\\'><bdi><a target=\"_blank\" title=\"d:Special:EntityPage/P6731\" href=\"https://www.wikidata.org/wiki/Special:EntityPage/P6731\">Commons quality assessment</a></bdi></h4></div></div></div><div class=\\'wbmi-content-items-group\\'><div class=\\'wbmi-item wbmi-item-read\\'><div data-guid=\\'M12127693$24A8A3BE-EEB0-4AC0-BF47-21A26220BF5F\\' class=\\'wbmi-item-container\\'><div class=\\'wbmi-entity-header\\'><div class=\\'wbmi-entity-data\\'><div class=\\'wbmi-entity-title\\'><h4 class=\\'wbmi-entity-label\\'><bdi><a target=\"_blank\" title=\"d:Special:EntityPage/Q63348049\" href=\"https://www.wikidata.org/wiki/Special:EntityPage/Q63348049\">Wikimedia Commons featured picture</a></bdi></h4></div></div></div></div></div></div></div></div><div id=\\'P1259\\' data-property=\\'P1259\\' data-statements=\\'[{\"mainsnak\":{\"snaktype\":\"value\",\"property\":\"P1259\",\"hash\":\"bd25c527d97295d05cd186385fd0742056f56d45\",\"datavalue\":{\"value\":{\"latitude\":37.851111,\"longitude\":-8.791583,\"altitude\":null,\"precision\":1.0e-6,\"globe\":\"http:\\\\/\\\\/www.wikidata.org\\\\/entity\\\\/Q2\"},\"type\":\"globecoordinate\"}},\"type\":\"statement\",\"id\":\"M12127693$B1458392-A38C-458E-A6E2-D277B9710787\",\"rank\":\"normal\"}]\\' data-formatvalue=\\'{\"{\\\\\"value\\\\\":{\\\\\"entity-type\\\\\":\\\\\"property\\\\\",\\\\\"numeric-id\\\\\":1259,\\\\\"id\\\\\":\\\\\"P1259\\\\\"},\\\\\"type\\\\\":\\\\\"wikibase-entityid\\\\\"}\":{\"text\\\\/html\":{\"en\":{\"\":\"&lt;a target=\\\\\"_blank\\\\\" title=\\\\\"d:Special:EntityPage\\\\/P1259\\\\\" href=\\\\\"https:\\\\/\\\\/www.wikidata.org\\\\/wiki\\\\/Special:EntityPage\\\\/P1259\\\\\"&gt;coordinates of the point of view&lt;\\\\/a&gt;\"}},\"text\\\\/plain\":{\"en\":{\"\":\"coordinates of the point of view\"}}},\"{\\\\\"value\\\\\":{\\\\\"latitude\\\\\":37.851111,\\\\\"longitude\\\\\":-8.791583,\\\\\"altitude\\\\\":null,\\\\\"precision\\\\\":1.0e-6,\\\\\"globe\\\\\":\\\\\"http:\\\\\\\\\\\\/\\\\\\\\\\\\/www.wikidata.org\\\\\\\\\\\\/entity\\\\\\\\\\\\/Q2\\\\\"},\\\\\"type\\\\\":\\\\\"globecoordinate\\\\\"}\":{\"text\\\\/html\":{\"en\":{\"P1259\":\"37\\\\u00b051&#039;4.000&amp;quot;N, 8\\\\u00b047&#039;29.699&amp;quot;W\"}},\"text\\\\/plain\":{\"en\":{\"P1259\":\"37\\\\u00b051&#039;4.000\\\\\"N, 8\\\\u00b047&#039;29.699\\\\\"W\"}}}}\\' class=\\'wbmi-entityview-statementsGroup wbmi-entityview-statementsGroup-P1259 oo-ui-layout oo-ui-panelLayout oo-ui-panelLayout-framed\\'><div class=\\'wbmi-statements-widget\\'><div class=\\'wbmi-statement-header\\'><div class=\\'wbmi-entity-data\\'><div class=\\'wbmi-entity-title\\'><h4 class=\\'wbmi-entity-label\\'><bdi><a target=\"_blank\" title=\"d:Special:EntityPage/P1259\" href=\"https://www.wikidata.org/wiki/Special:EntityPage/P1259\">coordinates of the point of view</a></bdi></h4></div></div></div><div class=\\'wbmi-content-items-group\\'><div class=\\'wbmi-item wbmi-item-read\\'><div data-guid=\\'M12127693$B1458392-A38C-458E-A6E2-D277B9710787\\' class=\\'wbmi-item-container\\'><div class=\\'wbmi-entity-header\\'><div class=\\'wbmi-entity-data\\'><div class=\\'wbmi-entity-title\\'><h4 class=\\'wbmi-entity-label\\'><bdi>37\\xc2\\xb051\\'4.000&quot;N, 8\\xc2\\xb047\\'29.699&quot;W</bdi></h4></div></div></div></div></div></div></div></div><div id=\\'P6757\\' data-property=\\'P6757\\' data-statements=\\'[{\"mainsnak\":{\"snaktype\":\"value\",\"property\":\"P6757\",\"hash\":\"73689978b7d7d9dd52924cf18bf5a817f6bdcfce\",\"datavalue\":{\"value\":{\"amount\":\"+0.004\",\"unit\":\"http:\\\\/\\\\/www.wikidata.org\\\\/entity\\\\/Q11574\"},\"type\":\"quantity\"}},\"type\":\"statement\",\"id\":\"M12127693$653D730C-9729-4FA9-BADB-5DC0E7737A67\",\"rank\":\"normal\"}]\\' data-formatvalue=\\'{\"{\\\\\"value\\\\\":{\\\\\"entity-type\\\\\":\\\\\"property\\\\\",\\\\\"numeric-id\\\\\":6757,\\\\\"id\\\\\":\\\\\"P6757\\\\\"},\\\\\"type\\\\\":\\\\\"wikibase-entityid\\\\\"}\":{\"text\\\\/html\":{\"en\":{\"\":\"&lt;a target=\\\\\"_blank\\\\\" title=\\\\\"d:Special:EntityPage\\\\/P6757\\\\\" href=\\\\\"https:\\\\/\\\\/www.wikidata.org\\\\/wiki\\\\/Special:EntityPage\\\\/P6757\\\\\"&gt;exposure time&lt;\\\\/a&gt;\"}},\"text\\\\/plain\":{\"en\":{\"\":\"exposure time\"}}},\"{\\\\\"value\\\\\":{\\\\\"amount\\\\\":\\\\\"+0.004\\\\\",\\\\\"unit\\\\\":\\\\\"http:\\\\\\\\\\\\/\\\\\\\\\\\\/www.wikidata.org\\\\\\\\\\\\/entity\\\\\\\\\\\\/Q11574\\\\\"},\\\\\"type\\\\\":\\\\\"quantity\\\\\"}\":{\"text\\\\/html\":{\"en\":{\"P6757\":\"0.004 &lt;span class=\\\\\"wb-unit\\\\\"&gt;second&lt;\\\\/span&gt;\"}},\"text\\\\/plain\":{\"en\":{\"P6757\":\"0.004 second\"}}}}\\' class=\\'wbmi-entityview-statementsGroup wbmi-entityview-statementsGroup-P6757 oo-ui-layout oo-ui-panelLayout oo-ui-panelLayout-framed\\'><div class=\\'wbmi-statements-widget\\'><div class=\\'wbmi-statement-header\\'><div class=\\'wbmi-entity-data\\'><div class=\\'wbmi-entity-title\\'><h4 class=\\'wbmi-entity-label\\'><bdi><a target=\"_blank\" title=\"d:Special:EntityPage/P6757\" href=\"https://www.wikidata.org/wiki/Special:EntityPage/P6757\">exposure time</a></bdi></h4></div></div></div><div class=\\'wbmi-content-items-group\\'><div class=\\'wbmi-item wbmi-item-read\\'><div data-guid=\\'M12127693$653D730C-9729-4FA9-BADB-5DC0E7737A67\\' class=\\'wbmi-item-container\\'><div class=\\'wbmi-entity-header\\'><div class=\\'wbmi-entity-data\\'><div class=\\'wbmi-entity-title\\'><h4 class=\\'wbmi-entity-label\\'><bdi>0.004 <span class=\"wb-unit\">second</span></bdi></h4></div></div></div></div></div></div></div></div><div id=\\'P6790\\' data-property=\\'P6790\\' data-statements=\\'[{\"mainsnak\":{\"snaktype\":\"value\",\"property\":\"P6790\",\"hash\":\"d48219d1dfee1c5130668cb2998f174f6fd5d219\",\"datavalue\":{\"value\":{\"amount\":\"+10\",\"unit\":\"1\"},\"type\":\"quantity\"}},\"type\":\"statement\",\"id\":\"M12127693$75AB7A67-F10F-4944-8127-AEB72CED9A61\",\"rank\":\"normal\"}]\\' data-formatvalue=\\'{\"{\\\\\"value\\\\\":{\\\\\"entity-type\\\\\":\\\\\"property\\\\\",\\\\\"numeric-id\\\\\":6790,\\\\\"id\\\\\":\\\\\"P6790\\\\\"},\\\\\"type\\\\\":\\\\\"wikibase-entityid\\\\\"}\":{\"text\\\\/html\":{\"en\":{\"\":\"&lt;a target=\\\\\"_blank\\\\\" title=\\\\\"d:Special:EntityPage\\\\/P6790\\\\\" href=\\\\\"https:\\\\/\\\\/www.wikidata.org\\\\/wiki\\\\/Special:EntityPage\\\\/P6790\\\\\"&gt;f-number&lt;\\\\/a&gt;\"}},\"text\\\\/plain\":{\"en\":{\"\":\"f-number\"}}},\"{\\\\\"value\\\\\":{\\\\\"amount\\\\\":\\\\\"+10\\\\\",\\\\\"unit\\\\\":\\\\\"1\\\\\"},\\\\\"type\\\\\":\\\\\"quantity\\\\\"}\":{\"text\\\\/html\":{\"en\":{\"P6790\":\"10\"}},\"text\\\\/plain\":{\"en\":{\"P6790\":\"10\"}}}}\\' class=\\'wbmi-entityview-statementsGroup wbmi-entityview-statementsGroup-P6790 oo-ui-layout oo-ui-panelLayout oo-ui-panelLayout-framed\\'><div class=\\'wbmi-statements-widget\\'><div class=\\'wbmi-statement-header\\'><div class=\\'wbmi-entity-data\\'><div class=\\'wbmi-entity-title\\'><h4 class=\\'wbmi-entity-label\\'><bdi><a target=\"_blank\" title=\"d:Special:EntityPage/P6790\" href=\"https://www.wikidata.org/wiki/Special:EntityPage/P6790\">f-number</a></bdi></h4></div></div></div><div class=\\'wbmi-content-items-group\\'><div class=\\'wbmi-item wbmi-item-read\\'><div data-guid=\\'M12127693$75AB7A67-F10F-4944-8127-AEB72CED9A61\\' class=\\'wbmi-item-container\\'><div class=\\'wbmi-entity-header\\'><div class=\\'wbmi-entity-data\\'><div class=\\'wbmi-entity-title\\'><h4 class=\\'wbmi-entity-label\\'><bdi>10</bdi></h4></div></div></div></div></div></div></div></div><div id=\\'P2151\\' data-property=\\'P2151\\' data-statements=\\'[{\"mainsnak\":{\"snaktype\":\"value\",\"property\":\"P2151\",\"hash\":\"effc6d29cdd4c9558f1577c503f31b860cabc098\",\"datavalue\":{\"value\":{\"amount\":\"+100\",\"unit\":\"http:\\\\/\\\\/www.wikidata.org\\\\/entity\\\\/Q174789\"},\"type\":\"quantity\"}},\"type\":\"statement\",\"id\":\"M12127693$DCB3A854-4E8E-400E-9CBB-A1290C6A7ACE\",\"rank\":\"normal\"}]\\' data-formatvalue=\\'{\"{\\\\\"value\\\\\":{\\\\\"entity-type\\\\\":\\\\\"property\\\\\",\\\\\"numeric-id\\\\\":2151,\\\\\"id\\\\\":\\\\\"P2151\\\\\"},\\\\\"type\\\\\":\\\\\"wikibase-entityid\\\\\"}\":{\"text\\\\/html\":{\"en\":{\"\":\"&lt;a target=\\\\\"_blank\\\\\" title=\\\\\"d:Special:EntityPage\\\\/P2151\\\\\" href=\\\\\"https:\\\\/\\\\/www.wikidata.org\\\\/wiki\\\\/Special:EntityPage\\\\/P2151\\\\\"&gt;focal length&lt;\\\\/a&gt;\"}},\"text\\\\/plain\":{\"en\":{\"\":\"focal length\"}}},\"{\\\\\"value\\\\\":{\\\\\"amount\\\\\":\\\\\"+100\\\\\",\\\\\"unit\\\\\":\\\\\"http:\\\\\\\\\\\\/\\\\\\\\\\\\/www.wikidata.org\\\\\\\\\\\\/entity\\\\\\\\\\\\/Q174789\\\\\"},\\\\\"type\\\\\":\\\\\"quantity\\\\\"}\":{\"text\\\\/html\":{\"en\":{\"P2151\":\"100 &lt;span class=\\\\\"wb-unit\\\\\"&gt;millimetre&lt;\\\\/span&gt;\"}},\"text\\\\/plain\":{\"en\":{\"P2151\":\"100 millimetre\"}}}}\\' class=\\'wbmi-entityview-statementsGroup wbmi-entityview-statementsGroup-P2151 oo-ui-layout oo-ui-panelLayout oo-ui-panelLayout-framed\\'><div class=\\'wbmi-statements-widget\\'><div class=\\'wbmi-statement-header\\'><div class=\\'wbmi-entity-data\\'><div class=\\'wbmi-entity-title\\'><h4 class=\\'wbmi-entity-label\\'><bdi><a target=\"_blank\" title=\"d:Special:EntityPage/P2151\" href=\"https://www.wikidata.org/wiki/Special:EntityPage/P2151\">focal length</a></bdi></h4></div></div></div><div class=\\'wbmi-content-items-group\\'><div class=\\'wbmi-item wbmi-item-read\\'><div data-guid=\\'M12127693$DCB3A854-4E8E-400E-9CBB-A1290C6A7ACE\\' class=\\'wbmi-item-container\\'><div class=\\'wbmi-entity-header\\'><div class=\\'wbmi-entity-data\\'><div class=\\'wbmi-entity-title\\'><h4 class=\\'wbmi-entity-label\\'><bdi>100 <span class=\"wb-unit\">millimetre</span></bdi></h4></div></div></div></div></div></div></div></div><div id=\\'P6789\\' data-property=\\'P6789\\' data-statements=\\'[{\"mainsnak\":{\"snaktype\":\"value\",\"property\":\"P6789\",\"hash\":\"1c94f4d4b36f41a354d2396ee9a6e8bbceadbfb5\",\"datavalue\":{\"value\":{\"amount\":\"+100\",\"unit\":\"1\"},\"type\":\"quantity\"}},\"type\":\"statement\",\"id\":\"M12127693$9BBB180E-8229-40A0-A797-E346EAE9EF61\",\"rank\":\"normal\"}]\\' data-formatvalue=\\'{\"{\\\\\"value\\\\\":{\\\\\"entity-type\\\\\":\\\\\"property\\\\\",\\\\\"numeric-id\\\\\":6789,\\\\\"id\\\\\":\\\\\"P6789\\\\\"},\\\\\"type\\\\\":\\\\\"wikibase-entityid\\\\\"}\":{\"text\\\\/html\":{\"en\":{\"\":\"&lt;a target=\\\\\"_blank\\\\\" title=\\\\\"d:Special:EntityPage\\\\/P6789\\\\\" href=\\\\\"https:\\\\/\\\\/www.wikidata.org\\\\/wiki\\\\/Special:EntityPage\\\\/P6789\\\\\"&gt;ISO speed&lt;\\\\/a&gt;\"}},\"text\\\\/plain\":{\"en\":{\"\":\"ISO speed\"}}},\"{\\\\\"value\\\\\":{\\\\\"amount\\\\\":\\\\\"+100\\\\\",\\\\\"unit\\\\\":\\\\\"1\\\\\"},\\\\\"type\\\\\":\\\\\"quantity\\\\\"}\":{\"text\\\\/html\":{\"en\":{\"P6789\":\"100\"}},\"text\\\\/plain\":{\"en\":{\"P6789\":\"100\"}}}}\\' class=\\'wbmi-entityview-statementsGroup wbmi-entityview-statementsGroup-P6789 oo-ui-layout oo-ui-panelLayout oo-ui-panelLayout-framed\\'><div class=\\'wbmi-statements-widget\\'><div class=\\'wbmi-statement-header\\'><div class=\\'wbmi-entity-data\\'><div class=\\'wbmi-entity-title\\'><h4 class=\\'wbmi-entity-label\\'><bdi><a target=\"_blank\" title=\"d:Special:EntityPage/P6789\" href=\"https://www.wikidata.org/wiki/Special:EntityPage/P6789\">ISO speed</a></bdi></h4></div></div></div><div class=\\'wbmi-content-items-group\\'><div class=\\'wbmi-item wbmi-item-read\\'><div data-guid=\\'M12127693$9BBB180E-8229-40A0-A797-E346EAE9EF61\\' class=\\'wbmi-item-container\\'><div class=\\'wbmi-entity-header\\'><div class=\\'wbmi-entity-data\\'><div class=\\'wbmi-entity-title\\'><h4 class=\\'wbmi-entity-label\\'><bdi>100</bdi></h4></div></div></div></div></div></div></div></div><div id=\\'P31\\' data-property=\\'P31\\' data-statements=\\'[{\"mainsnak\":{\"snaktype\":\"value\",\"property\":\"P31\",\"hash\":\"78817782cf2abc9d185934ba3b526591e12840f2\",\"datavalue\":{\"value\":{\"entity-type\":\"item\",\"numeric-id\":125191,\"id\":\"Q125191\"},\"type\":\"wikibase-entityid\"}},\"type\":\"statement\",\"id\":\"M12127693$86A4BD69-DD01-4261-82D2-67B6FC550B7D\",\"rank\":\"normal\"}]\\' data-formatvalue=\\'{\"{\\\\\"value\\\\\":{\\\\\"entity-type\\\\\":\\\\\"property\\\\\",\\\\\"numeric-id\\\\\":31,\\\\\"id\\\\\":\\\\\"P31\\\\\"},\\\\\"type\\\\\":\\\\\"wikibase-entityid\\\\\"}\":{\"text\\\\/html\":{\"en\":{\"\":\"&lt;a target=\\\\\"_blank\\\\\" title=\\\\\"d:Special:EntityPage\\\\/P31\\\\\" href=\\\\\"https:\\\\/\\\\/www.wikidata.org\\\\/wiki\\\\/Special:EntityPage\\\\/P31\\\\\"&gt;instance of&lt;\\\\/a&gt;\"}},\"text\\\\/plain\":{\"en\":{\"\":\"instance of\"}}},\"{\\\\\"value\\\\\":{\\\\\"entity-type\\\\\":\\\\\"item\\\\\",\\\\\"numeric-id\\\\\":125191,\\\\\"id\\\\\":\\\\\"Q125191\\\\\"},\\\\\"type\\\\\":\\\\\"wikibase-entityid\\\\\"}\":{\"text\\\\/html\":{\"en\":{\"P31\":\"&lt;a target=\\\\\"_blank\\\\\" title=\\\\\"d:Special:EntityPage\\\\/Q125191\\\\\" href=\\\\\"https:\\\\/\\\\/www.wikidata.org\\\\/wiki\\\\/Special:EntityPage\\\\/Q125191\\\\\"&gt;photograph&lt;\\\\/a&gt;\"}},\"text\\\\/plain\":{\"en\":{\"P31\":\"photograph\"}}}}\\' class=\\'wbmi-entityview-statementsGroup wbmi-entityview-statementsGroup-P31 oo-ui-layout oo-ui-panelLayout oo-ui-panelLayout-framed\\'><div class=\\'wbmi-statements-widget\\'><div class=\\'wbmi-statement-header\\'><div class=\\'wbmi-entity-data\\'><div class=\\'wbmi-entity-title\\'><h4 class=\\'wbmi-entity-label\\'><bdi><a target=\"_blank\" title=\"d:Special:EntityPage/P31\" href=\"https://www.wikidata.org/wiki/Special:EntityPage/P31\">instance of</a></bdi></h4></div></div></div><div class=\\'wbmi-content-items-group\\'><div class=\\'wbmi-item wbmi-item-read\\'><div data-guid=\\'M12127693$86A4BD69-DD01-4261-82D2-67B6FC550B7D\\' class=\\'wbmi-item-container\\'><div class=\\'wbmi-entity-header\\'><div class=\\'wbmi-entity-data\\'><div class=\\'wbmi-entity-title\\'><h4 class=\\'wbmi-entity-label\\'><bdi><a target=\"_blank\" title=\"d:Special:EntityPage/Q125191\" href=\"https://www.wikidata.org/wiki/Special:EntityPage/Q125191\">photograph</a></bdi></h4></div></div></div></div></div></div></div></div></div></div></div></div></div><noscript><img src=\"//commons.wikimedia.org/wiki/Special:CentralAutoLogin/start?type=1x1\" alt=\"\" title=\"\" width=\"1\" height=\"1\" style=\"border: none; position: absolute;\" /></noscript>\\n<div class=\"printfooter\">Retrieved from \"<a dir=\"ltr\" href=\"https://commons.wikimedia.org/w/index.php?title=File:Cat_November_2010-1a.jpg&amp;oldid=655193360\">https://commons.wikimedia.org/w/index.php?title=File:Cat_November_2010-1a.jpg&amp;oldid=655193360</a>\"</div></div>\\n\\t\\t<div id=\"catlinks\" class=\"catlinks\" data-mw=\"interface\"><div id=\"mw-normal-catlinks\" class=\"mw-normal-catlinks\"><a href=\"/wiki/Special:Categories\" title=\"Special:Categories\">Categories</a>: <ul><li><a href=\"/wiki/Category:Mackerel_tabby_cats\" title=\"Category:Mackerel tabby cats\">Mackerel tabby cats</a></li><li><a href=\"/wiki/Category:Cats_of_Portugal\" title=\"Category:Cats of Portugal\">Cats of Portugal</a></li><li><a href=\"/wiki/Category:Cats_on_walls\" title=\"Category:Cats on walls\">Cats on walls</a></li><li><a href=\"/wiki/Category:Portrait_photographs_of_cats\" title=\"Category:Portrait photographs of cats\">Portrait photographs of cats</a></li><li><a href=\"/wiki/Category:Cats_looking_at_viewer\" title=\"Category:Cats looking at viewer\">Cats looking at viewer</a></li></ul></div><div id=\"mw-hidden-catlinks\" class=\"mw-hidden-catlinks mw-hidden-cats-user-shown\">Hidden categories: <ul><li><a href=\"/wiki/Category:Photographs_taken_on_2010-11-21\" title=\"Category:Photographs taken on 2010-11-21\">Photographs taken on 2010-11-21</a></li><li><a href=\"/wiki/Category:Pictures_of_the_day_(2011)\" title=\"Category:Pictures of the day (2011)\">Pictures of the day (2011)</a></li><li><a href=\"/wiki/Category:Featured_pictures_on_Wikimedia_Commons\" title=\"Category:Featured pictures on Wikimedia Commons\">Featured pictures on Wikimedia Commons</a></li><li><a href=\"/wiki/Category:Featured_pictures_on_Wikipedia,_Arabic\" title=\"Category:Featured pictures on Wikipedia, Arabic\">Featured pictures on Wikipedia, Arabic</a></li><li><a href=\"/wiki/Category:Featured_pictures_on_Wikipedia,_English\" title=\"Category:Featured pictures on Wikipedia, English\">Featured pictures on Wikipedia, English</a></li><li><a href=\"/wiki/Category:CC-BY-SA-3.0\" title=\"Category:CC-BY-SA-3.0\">CC-BY-SA-3.0</a></li><li><a href=\"/wiki/Category:License_migration_redundant\" title=\"Category:License migration redundant\">License migration redundant</a></li><li><a href=\"/wiki/Category:GFDL\" title=\"Category:GFDL\">GFDL</a></li><li><a href=\"/wiki/Category:Self-published_work\" title=\"Category:Self-published work\">Self-published work</a></li><li><a href=\"/wiki/Category:Photographs_by_Alvesgaspar\" title=\"Category:Photographs by Alvesgaspar\">Photographs by Alvesgaspar</a></li><li><a href=\"/wiki/Category:Featured_pictures_by_Alvesgaspar\" title=\"Category:Featured pictures by Alvesgaspar\">Featured pictures by Alvesgaspar</a></li><li><a href=\"/wiki/Category:POTD_by_Alvesgaspar\" title=\"Category:POTD by Alvesgaspar\">POTD by Alvesgaspar</a></li><li><a href=\"/wiki/Category:Taken_with_Nikon_D80\" title=\"Category:Taken with Nikon D80\">Taken with Nikon D80</a></li><li><a href=\"/wiki/Category:Featured_pictures_of_cats\" title=\"Category:Featured pictures of cats\">Featured pictures of cats</a></li><li><a href=\"/wiki/Category:Pages_with_maps\" title=\"Category:Pages with maps\">Pages with maps</a></li></ul></div></div>\\n\\t</div>\\n</div>\\n\\n<div id=\"mw-navigation\">\\n\\t<h2>Navigation menu</h2>\\n\\t<div id=\"mw-head\">\\n\\t\\t\\n\\n<nav id=\"p-personal\" class=\"mw-portlet mw-portlet-personal vector-user-menu-legacy vector-menu\" aria-labelledby=\"p-personal-label\" role=\"navigation\"  >\\n\\t<label\\n\\t\\tid=\"p-personal-label\"\\n\\t\\t\\n\\t\\tclass=\"vector-menu-heading \"\\n\\t>\\n\\t\\t<span class=\"vector-menu-heading-label\">Personal tools</span>\\n\\t</label>\\n\\t<div class=\"vector-menu-content\">\\n\\t\\t\\n\\t\\t<ul class=\"vector-menu-content-list\"><li id=\"pt-uls\" class=\"mw-list-item active\"><a class=\"uls-trigger\" href=\"#\"><span>English</span></a></li><li id=\"pt-anonuserpage\" class=\"mw-list-item\"><span title=\"The user page for the IP address you are editing as\">Not logged in</span></li><li id=\"pt-anontalk\" class=\"mw-list-item\"><a href=\"/wiki/Special:MyTalk\" title=\"Discussion about edits from this IP address [n]\" accesskey=\"n\"><span>Talk</span></a></li><li id=\"pt-anoncontribs\" class=\"mw-list-item\"><a href=\"/wiki/Special:MyContributions\" title=\"A list of edits made from this IP address [y]\" accesskey=\"y\"><span>Contributions</span></a></li><li id=\"pt-createaccount\" class=\"mw-list-item\"><a href=\"/w/index.php?title=Special:CreateAccount&amp;returnto=File%3ACat+November+2010-1a.jpg\" title=\"You are encouraged to create an account and log in; however, it is not mandatory\"><span>Create account</span></a></li><li id=\"pt-login\" class=\"mw-list-item\"><a href=\"/w/index.php?title=Special:UserLogin&amp;returnto=File%3ACat+November+2010-1a.jpg\" title=\"You are encouraged to log in; however, it is not mandatory [o]\" accesskey=\"o\"><span>Log in</span></a></li></ul>\\n\\t\\t\\n\\t</div>\\n</nav>\\n\\n\\t\\t<div id=\"left-navigation\">\\n\\t\\t\\t\\n\\n<nav id=\"p-namespaces\" class=\"mw-portlet mw-portlet-namespaces vector-menu vector-menu-tabs\" aria-labelledby=\"p-namespaces-label\" role=\"navigation\"  >\\n\\t<label\\n\\t\\tid=\"p-namespaces-label\"\\n\\t\\t\\n\\t\\tclass=\"vector-menu-heading \"\\n\\t>\\n\\t\\t<span class=\"vector-menu-heading-label\">Namespaces</span>\\n\\t</label>\\n\\t<div class=\"vector-menu-content\">\\n\\t\\t\\n\\t\\t<ul class=\"vector-menu-content-list\"><li id=\"ca-nstab-image\" class=\"selected mw-list-item\"><a href=\"/wiki/File:Cat_November_2010-1a.jpg\" title=\"View the file page [c]\" accesskey=\"c\"><span>File</span></a></li><li id=\"ca-talk\" class=\"new mw-list-item\"><a href=\"/w/index.php?title=File_talk:Cat_November_2010-1a.jpg&amp;action=edit&amp;redlink=1\" rel=\"discussion\" title=\"Discussion about the content page (page does not exist) [t]\" accesskey=\"t\"><span>Discussion</span></a></li></ul>\\n\\t\\t\\n\\t</div>\\n</nav>\\n\\n\\t\\t\\t\\n\\n<nav id=\"p-variants\" class=\"mw-portlet mw-portlet-variants emptyPortlet vector-menu-dropdown-noicon vector-menu vector-menu-dropdown\" aria-labelledby=\"p-variants-label\" role=\"navigation\"  >\\n\\t<input type=\"checkbox\"\\n\\t\\tid=\"p-variants-checkbox\"\\n\\t\\trole=\"button\"\\n\\t\\taria-haspopup=\"true\"\\n\\t\\tdata-event-name=\"ui.dropdown-p-variants\"\\n\\t\\tclass=\"vector-menu-checkbox\"\\n\\t\\taria-labelledby=\"p-variants-label\"\\n\\t/>\\n\\t<label\\n\\t\\tid=\"p-variants-label\"\\n\\t\\t aria-label=\"Change language variant\"\\n\\t\\tclass=\"vector-menu-heading \"\\n\\t>\\n\\t\\t<span class=\"vector-menu-heading-label\">English</span>\\n\\t</label>\\n\\t<div class=\"vector-menu-content\">\\n\\t\\t\\n\\t\\t<ul class=\"vector-menu-content-list\"></ul>\\n\\t\\t\\n\\t</div>\\n</nav>\\n\\n\\t\\t</div>\\n\\t\\t<div id=\"right-navigation\">\\n\\t\\t\\t\\n\\n<nav id=\"p-views\" class=\"mw-portlet mw-portlet-views vector-menu vector-menu-tabs\" aria-labelledby=\"p-views-label\" role=\"navigation\"  >\\n\\t<label\\n\\t\\tid=\"p-views-label\"\\n\\t\\t\\n\\t\\tclass=\"vector-menu-heading \"\\n\\t>\\n\\t\\t<span class=\"vector-menu-heading-label\">Views</span>\\n\\t</label>\\n\\t<div class=\"vector-menu-content\">\\n\\t\\t\\n\\t\\t<ul class=\"vector-menu-content-list\"><li id=\"ca-view\" class=\"selected mw-list-item\"><a href=\"/wiki/File:Cat_November_2010-1a.jpg\"><span>View</span></a></li><li id=\"ca-edit\" class=\"mw-list-item\"><a href=\"/w/index.php?title=File:Cat_November_2010-1a.jpg&amp;action=edit\" title=\"Edit this page [e]\" accesskey=\"e\"><span>Edit</span></a></li><li id=\"ca-history\" class=\"mw-list-item\"><a href=\"/w/index.php?title=File:Cat_November_2010-1a.jpg&amp;action=history\" title=\"Past revisions of this page [h]\" accesskey=\"h\"><span>History</span></a></li></ul>\\n\\t\\t\\n\\t</div>\\n</nav>\\n\\n\\t\\t\\t\\n\\n<nav id=\"p-cactions\" class=\"mw-portlet mw-portlet-cactions emptyPortlet vector-menu-dropdown-noicon vector-menu vector-menu-dropdown\" aria-labelledby=\"p-cactions-label\" role=\"navigation\"  title=\"More options\" >\\n\\t<input type=\"checkbox\"\\n\\t\\tid=\"p-cactions-checkbox\"\\n\\t\\trole=\"button\"\\n\\t\\taria-haspopup=\"true\"\\n\\t\\tdata-event-name=\"ui.dropdown-p-cactions\"\\n\\t\\tclass=\"vector-menu-checkbox\"\\n\\t\\taria-labelledby=\"p-cactions-label\"\\n\\t/>\\n\\t<label\\n\\t\\tid=\"p-cactions-label\"\\n\\t\\t\\n\\t\\tclass=\"vector-menu-heading \"\\n\\t>\\n\\t\\t<span class=\"vector-menu-heading-label\">More</span>\\n\\t</label>\\n\\t<div class=\"vector-menu-content\">\\n\\t\\t\\n\\t\\t<ul class=\"vector-menu-content-list\"></ul>\\n\\t\\t\\n\\t</div>\\n</nav>\\n\\n\\t\\t\\t\\n<div id=\"p-search\" role=\"search\" class=\"vector-search-box-vue vector-search-box\">\\n\\t<div>\\n\\t\\t\\t<h3 >\\n\\t\\t\\t\\t<label for=\"searchInput\">Search</label>\\n\\t\\t\\t</h3>\\n\\t\\t<form action=\"/w/index.php\" id=\"searchform\"\\n\\t\\t\\tclass=\"vector-search-box-form\">\\n\\t\\t\\t<div id=\"simpleSearch\"\\n\\t\\t\\t\\tclass=\"vector-search-box-inner\"\\n\\t\\t\\t\\t data-search-loc=\"header-navigation\">\\n\\t\\t\\t\\t<input class=\"vector-search-box-input\"\\n\\t\\t\\t\\t\\t type=\"search\" name=\"search\" placeholder=\"Search Wikimedia Commons\" aria-label=\"Search Wikimedia Commons\" autocapitalize=\"sentences\" title=\"Search Wikimedia Commons [f]\" accesskey=\"f\" id=\"searchInput\"\\n\\t\\t\\t\\t>\\n\\t\\t\\t\\t<input type=\"hidden\" name=\"title\" value=\"Special:MediaSearch\">\\n\\t\\t\\t\\t<input id=\"mw-searchButton\"\\n\\t\\t\\t\\t\\t class=\"searchButton mw-fallbackSearchButton\" type=\"submit\" name=\"fulltext\" title=\"Search the pages for this text\" value=\"Search\">\\n\\t\\t\\t\\t<input id=\"searchButton\"\\n\\t\\t\\t\\t\\t class=\"searchButton\" type=\"submit\" name=\"go\" title=\"Go to a page with this exact name if it exists\" value=\"Go\">\\n\\t\\t\\t</div>\\n\\t\\t</form>\\n\\t</div>\\n</div>\\n\\n\\t\\t</div>\\n\\t</div>\\n\\t\\n\\n<div id=\"mw-panel\">\\n\\t<div id=\"p-logo\" role=\"banner\">\\n\\t\\t<a class=\"mw-wiki-logo\" href=\"/wiki/Main_Page\"\\n\\t\\t\\ttitle=\"Visit the main page\"></a>\\n\\t</div>\\n\\t\\n\\n<nav id=\"p-navigation\" class=\"mw-portlet mw-portlet-navigation vector-menu vector-menu-portal portal\" aria-labelledby=\"p-navigation-label\" role=\"navigation\"  >\\n\\t<label\\n\\t\\tid=\"p-navigation-label\"\\n\\t\\t\\n\\t\\tclass=\"vector-menu-heading \"\\n\\t>\\n\\t\\t<span class=\"vector-menu-heading-label\">Navigate</span>\\n\\t</label>\\n\\t<div class=\"vector-menu-content\">\\n\\t\\t\\n\\t\\t<ul class=\"vector-menu-content-list\"><li id=\"n-mainpage-description\" class=\"mw-list-item\"><a href=\"/wiki/Main_Page\" icon=\"home\" title=\"Visit the main page [z]\" accesskey=\"z\"><span>Main page</span></a></li><li id=\"n-welcome\" class=\"mw-list-item\"><a href=\"/wiki/Commons:Welcome\"><span>Welcome</span></a></li><li id=\"n-portal\" class=\"mw-list-item\"><a href=\"/wiki/Commons:Community_portal\" title=\"About the project, what you can do, where to find things\"><span>Community portal</span></a></li><li id=\"n-village-pump\" class=\"mw-list-item\"><a href=\"/wiki/Commons:Village_pump\"><span>Village pump</span></a></li><li id=\"n-help\" class=\"mw-list-item\"><a href=\"/wiki/Special:MyLanguage/Help:Contents\" icon=\"help\" title=\"The place to find out\"><span>Help center</span></a></li></ul>\\n\\t\\t\\n\\t</div>\\n</nav>\\n\\n\\t\\n\\n<nav id=\"p-participate\" class=\"mw-portlet mw-portlet-participate vector-menu vector-menu-portal portal\" aria-labelledby=\"p-participate-label\" role=\"navigation\"  >\\n\\t<label\\n\\t\\tid=\"p-participate-label\"\\n\\t\\t\\n\\t\\tclass=\"vector-menu-heading \"\\n\\t>\\n\\t\\t<span class=\"vector-menu-heading-label\">Participate</span>\\n\\t</label>\\n\\t<div class=\"vector-menu-content\">\\n\\t\\t\\n\\t\\t<ul class=\"vector-menu-content-list\"><li id=\"n-uploadbtn\" class=\"mw-list-item\"><a href=\"/wiki/Special:UploadWizard\"><span>Upload file</span></a></li><li id=\"n-recentchanges\" class=\"mw-list-item\"><a href=\"/wiki/Special:RecentChanges\" icon=\"recentChanges\" title=\"A list of recent changes in the wiki [r]\" accesskey=\"r\"><span>Recent changes</span></a></li><li id=\"n-latestfiles\" class=\"mw-list-item\"><a href=\"/wiki/Special:NewFiles\"><span>Latest files</span></a></li><li id=\"n-randomimage\" class=\"mw-list-item\"><a href=\"/wiki/Special:Random/File\" title=\"Load a random file [x]\" accesskey=\"x\"><span>Random file</span></a></li><li id=\"n-contact\" class=\"mw-list-item\"><a href=\"/wiki/Commons:Contact_us\"><span>Contact us</span></a></li></ul>\\n\\t\\t\\n\\t</div>\\n</nav>\\n\\n\\n<nav id=\"p-tb\" class=\"mw-portlet mw-portlet-tb vector-menu vector-menu-portal portal\" aria-labelledby=\"p-tb-label\" role=\"navigation\"  >\\n\\t<label\\n\\t\\tid=\"p-tb-label\"\\n\\t\\t\\n\\t\\tclass=\"vector-menu-heading \"\\n\\t>\\n\\t\\t<span class=\"vector-menu-heading-label\">Tools</span>\\n\\t</label>\\n\\t<div class=\"vector-menu-content\">\\n\\t\\t\\n\\t\\t<ul class=\"vector-menu-content-list\"><li id=\"t-whatlinkshere\" class=\"mw-list-item\"><a href=\"/wiki/Special:WhatLinksHere/File:Cat_November_2010-1a.jpg\" title=\"A list of all wiki pages that link here [j]\" accesskey=\"j\"><span>What links here</span></a></li><li id=\"t-recentchangeslinked\" class=\"mw-list-item\"><a href=\"/wiki/Special:RecentChangesLinked/File:Cat_November_2010-1a.jpg\" rel=\"nofollow\" title=\"Recent changes in pages linked from this page [k]\" accesskey=\"k\"><span>Related changes</span></a></li><li id=\"t-specialpages\" class=\"mw-list-item\"><a href=\"/wiki/Special:SpecialPages\" title=\"A list of all special pages [q]\" accesskey=\"q\"><span>Special pages</span></a></li><li id=\"t-permalink\" class=\"mw-list-item\"><a href=\"/w/index.php?title=File:Cat_November_2010-1a.jpg&amp;oldid=655193360\" title=\"Permanent link to this revision of the page\"><span>Permanent link</span></a></li><li id=\"t-info\" class=\"mw-list-item\"><a href=\"/w/index.php?title=File:Cat_November_2010-1a.jpg&amp;action=info\" title=\"More information about this page\"><span>Page information</span></a></li><li id=\"t-wb-concept-uri\" class=\"mw-list-item\"><a href=\"https://commons.wikimedia.org/entity/M12127693\" title=\"URI that identifies the concept described by this Item\"><span>Concept URI</span></a></li><li id=\"t-cite\" class=\"mw-list-item\"><a href=\"/w/index.php?title=Special:CiteThisPage&amp;page=File%3ACat_November_2010-1a.jpg&amp;id=655193360&amp;wpFormIdentifier=titleform\" title=\"Information on how to cite this page\"><span>Cite this page</span></a></li></ul>\\n\\t\\t\\n\\t</div>\\n</nav>\\n\\n\\n<nav id=\"p-electronpdfservice-sidebar-portlet-heading\" class=\"mw-portlet mw-portlet-electronpdfservice-sidebar-portlet-heading vector-menu vector-menu-portal portal\" aria-labelledby=\"p-electronpdfservice-sidebar-portlet-heading-label\" role=\"navigation\"  >\\n\\t<label\\n\\t\\tid=\"p-electronpdfservice-sidebar-portlet-heading-label\"\\n\\t\\t\\n\\t\\tclass=\"vector-menu-heading \"\\n\\t>\\n\\t\\t<span class=\"vector-menu-heading-label\">Print/export</span>\\n\\t</label>\\n\\t<div class=\"vector-menu-content\">\\n\\t\\t\\n\\t\\t<ul class=\"vector-menu-content-list\"><li id=\"electron-print_pdf\" class=\"mw-list-item\"><a href=\"/w/index.php?title=Special:DownloadAsPdf&amp;page=File%3ACat_November_2010-1a.jpg&amp;action=show-download-screen\"><span>Download as PDF</span></a></li><li id=\"t-print\" class=\"mw-list-item\"><a href=\"javascript:print();\" rel=\"alternate\" title=\"Printable version of this page [p]\" accesskey=\"p\"><span>Printable version</span></a></li></ul>\\n\\t\\t\\n\\t</div>\\n</nav>\\n\\n\\t\\n</div>\\n\\n</div>\\n\\n<footer id=\"footer\" class=\"mw-footer\" role=\"contentinfo\" >\\n\\t<ul id=\"footer-info\">\\n\\t<li id=\"footer-info-lastmod\"> This page was last edited on 10 May 2022, at 19:46.</li>\\n\\t<li id=\"footer-info-copyright\">Files are available under licenses specified on their description page. All structured data from the file namespace is available under the <a href=\"https://creativecommons.org/publicdomain/zero/1.0/\" title=\"Definition of the Creative Commons CC0 License\">Creative Commons CC0 License</a>; all unstructured text is available under the <a href=\"https://creativecommons.org/licenses/by-sa/3.0/\" title=\"Definition of the Creative Commons Attribution/Share-Alike License\">Creative Commons Attribution-ShareAlike License</a>;\\nadditional terms may apply.\\nBy using this site, you agree to the <a href=\"//foundation.wikimedia.org/wiki/Terms_of_Use\" title=\"Wikimedia Foundation Terms of Use\">Terms of Use</a> and the <a href=\"//foundation.wikimedia.org/wiki/Privacy_policy\" title=\"Wikimedia Foundation Privacy Policy\">Privacy Policy</a>.</li>\\n</ul>\\n\\n\\t<ul id=\"footer-places\">\\n\\t<li id=\"footer-places-privacy\"><a href=\"https://foundation.wikimedia.org/wiki/Privacy_policy\" class=\"extiw\" title=\"wmf:Privacy policy\">Privacy policy</a></li>\\n\\t<li id=\"footer-places-about\"><a href=\"/wiki/Commons:Welcome\" title=\"Commons:Welcome\">About Wikimedia Commons</a></li>\\n\\t<li id=\"footer-places-disclaimer\"><a href=\"/wiki/Commons:General_disclaimer\" title=\"Commons:General disclaimer\">Disclaimers</a></li>\\n\\t<li id=\"footer-places-mobileview\"><a href=\"//commons.m.wikimedia.org/w/index.php?title=File:Cat_November_2010-1a.jpg&amp;mobileaction=toggle_view_mobile\" class=\"noprint stopMobileRedirectToggle\">Mobile view</a></li>\\n\\t<li id=\"footer-places-developers\"><a href=\"https://www.mediawiki.org/wiki/Special:MyLanguage/How_to_contribute\">Developers</a></li>\\n\\t<li id=\"footer-places-statslink\"><a href=\"https://stats.wikimedia.org/#/commons.wikimedia.org\">Statistics</a></li>\\n\\t<li id=\"footer-places-cookiestatement\"><a href=\"https://foundation.wikimedia.org/wiki/Cookie_statement\">Cookie statement</a></li>\\n</ul>\\n\\n\\t<ul id=\"footer-icons\" class=\"noprint\">\\n\\t<li id=\"footer-copyrightico\"><a href=\"https://wikimediafoundation.org/\"><img src=\"/static/images/footer/wikimedia-button.png\" srcset=\"/static/images/footer/wikimedia-button-1.5x.png 1.5x, /static/images/footer/wikimedia-button-2x.png 2x\" width=\"88\" height=\"31\" alt=\"Wikimedia Foundation\" loading=\"lazy\" /></a></li>\\n\\t<li id=\"footer-poweredbyico\"><a href=\"https://www.mediawiki.org/\"><img src=\"/static/images/footer/poweredby_mediawiki_88x31.png\" alt=\"Powered by MediaWiki\" srcset=\"/static/images/footer/poweredby_mediawiki_132x47.png 1.5x, /static/images/footer/poweredby_mediawiki_176x62.png 2x\" width=\"88\" height=\"31\" loading=\"lazy\"/></a></li>\\n</ul>\\n\\n</footer>\\n\\n<script>(RLQ=window.RLQ||[]).push(function(){mw.config.set({\"wgPageParseReport\":{\"limitreport\":{\"cputime\":\"0.002\",\"walltime\":\"0.002\",\"ppvisitednodes\":{\"value\":3,\"limit\":1000000},\"postexpandincludesize\":{\"value\":0,\"limit\":2097152},\"templateargumentsize\":{\"value\":0,\"limit\":2097152},\"expansiondepth\":{\"value\":1,\"limit\":100},\"expensivefunctioncount\":{\"value\":0,\"limit\":500},\"unstrip-depth\":{\"value\":0,\"limit\":20},\"unstrip-size\":{\"value\":0,\"limit\":5000000},\"entityaccesscount\":{\"value\":0,\"limit\":400},\"timingprofile\":[\"100.00%    0.000      1 -total\"]},\"cachereport\":{\"origin\":\"mw1441\",\"timestamp\":\"20220613035843\",\"ttl\":1814400,\"transientcontent\":false}}});});</script>\\n<script type=\"application/ld+json\">{\"@context\":\"https:\\\\/\\\\/schema.org\",\"@type\":\"ImageObject\",\"contentUrl\":\"https:\\\\/\\\\/upload.wikimedia.org\\\\/wikipedia\\\\/commons\\\\/4\\\\/4d\\\\/Cat_November_2010-1a.jpg\",\"license\":\"https:\\\\/\\\\/creativecommons.org\\\\/licenses\\\\/by-sa\\\\/3.0\",\"acquireLicensePage\":\"\\\\/\\\\/commons.wikimedia.org\\\\/wiki\\\\/File:Cat_November_2010-1a.jpg\",\"uploadDate\":\"2010-11-23 13:14:44\"}</script><script type=\"application/ld+json\">{\"@context\":\"https:\\\\/\\\\/schema.org\",\"@type\":\"ImageObject\",\"contentUrl\":\"https:\\\\/\\\\/upload.wikimedia.org\\\\/wikipedia\\\\/commons\\\\/4\\\\/4d\\\\/Cat_November_2010-1a.jpg\",\"license\":\"https:\\\\/\\\\/creativecommons.org\\\\/licenses\\\\/by-sa\\\\/3.0\",\"acquireLicensePage\":\"\\\\/\\\\/commons.wikimedia.org\\\\/wiki\\\\/File:Cat_November_2010-1a.jpg\",\"uploadDate\":\"2010-11-23 13:14:44\"}</script>\\n<script>(RLQ=window.RLQ||[]).push(function(){mw.config.set({\"wgBackendResponseTime\":311,\"wgHostname\":\"mw1441\"});});</script>\\n</body>\\n</html>'\n"
     ]
    }
   ],
   "source": [
    "import os\n",
    "import requests\n",
    "\n",
    "img_data = requests.get(\"https://commons.wikimedia.org/wiki/File:Cat_November_2010-1a.jpg\").content\n",
    "\n",
    "print(img_data)\n"
   ]
  },
  {
   "cell_type": "code",
   "execution_count": 42,
   "id": "d2f8dbab",
   "metadata": {},
   "outputs": [
    {
     "name": "stdout",
     "output_type": "stream",
     "text": [
      "<TensorSliceDataset shapes: (), types: tf.string>\n"
     ]
    }
   ],
   "source": [
    "IMAGE_URLS = ['https://commons.wikimedia.org/wiki/File:Cat_November_2010-1a.jpg',\n",
    "             ]\n",
    "\n",
    "img_dataset = tf.data.Dataset.from_tensor_slices(IMAGE_URLS)\n",
    "\n",
    "print(img_dataset)"
   ]
  },
  {
   "cell_type": "code",
   "execution_count": 43,
   "id": "1669ac79",
   "metadata": {},
   "outputs": [
    {
     "name": "stdout",
     "output_type": "stream",
     "text": [
      "b'https://commons.wikimedia.org/wiki/File:Cat_November_2010-1a.jpg'\n",
      "b'https://commons.wikimedia.org/wiki/File:Pumiforme.JPG'\n"
     ]
    }
   ],
   "source": [
    "gfg = tf.data.Dataset.from_tensor_slices([[5, 10], [3, 6]])\n",
    "  \n",
    "for ele in gfg:\n",
    "    print(ele.numpy())"
   ]
  },
  {
   "cell_type": "code",
   "execution_count": null,
   "id": "d16dde5e",
   "metadata": {},
   "outputs": [],
   "source": []
  },
  {
   "cell_type": "code",
   "execution_count": 75,
   "id": "0201e85e",
   "metadata": {},
   "outputs": [
    {
     "ename": "AttributeError",
     "evalue": "module 'tensorflow.python.keras.utils' has no attribute 'get_file'",
     "output_type": "error",
     "traceback": [
      "\u001b[0;31m---------------------------------------------------------------------------\u001b[0m",
      "\u001b[0;31mAttributeError\u001b[0m                            Traceback (most recent call last)",
      "Input \u001b[0;32mIn [75]\u001b[0m, in \u001b[0;36m<cell line: 5>\u001b[0;34m()\u001b[0m\n\u001b[1;32m      2\u001b[0m train_zip_url \u001b[38;5;241m=\u001b[39m \u001b[38;5;124m'\u001b[39m\u001b[38;5;124mhttp://images.cocodataset.org/zips/train2014.zip\u001b[39m\u001b[38;5;124m'\u001b[39m\n\u001b[1;32m      3\u001b[0m name_of_zip \u001b[38;5;241m=\u001b[39m \u001b[38;5;124m\"\u001b[39m\u001b[38;5;124mmy_train_data.zip\u001b[39m\u001b[38;5;124m\"\u001b[39m\n\u001b[0;32m----> 5\u001b[0m train_zip \u001b[38;5;241m=\u001b[39m \u001b[43mkeras\u001b[49m\u001b[38;5;241;43m.\u001b[39;49m\u001b[43mutils\u001b[49m\u001b[38;5;241;43m.\u001b[39;49m\u001b[43mget_file\u001b[49m(name_of_zip,\n\u001b[1;32m      6\u001b[0m                                       cache_subdir\u001b[38;5;241m=\u001b[39mdata_path,\n\u001b[1;32m      7\u001b[0m                                       origin \u001b[38;5;241m=\u001b[39m train_zip_url ,\n\u001b[1;32m      8\u001b[0m                                       extract \u001b[38;5;241m=\u001b[39m \u001b[38;5;28;01mTrue\u001b[39;00m)\n",
      "\u001b[0;31mAttributeError\u001b[0m: module 'tensorflow.python.keras.utils' has no attribute 'get_file'"
     ]
    }
   ],
   "source": [
    "data_path = os.path.abspath('.') + \"/my_data_folder/\"\n",
    "train_zip_url = 'http://images.cocodataset.org/zips/train2014.zip'\n",
    "name_of_zip = \"my_train_data.zip\"\n",
    "\n",
    "train_zip = tkeras.utils.get_file(name_of_zip,\n",
    "                                      cache_subdir=data_path,\n",
    "                                      origin = train_zip_url ,\n",
    "                                      extract = True)"
   ]
  },
  {
   "cell_type": "code",
   "execution_count": null,
   "id": "3f88476d",
   "metadata": {},
   "outputs": [],
   "source": []
  },
  {
   "cell_type": "code",
   "execution_count": null,
   "id": "abbc271e",
   "metadata": {},
   "outputs": [],
   "source": []
  },
  {
   "cell_type": "markdown",
   "id": "6f829191",
   "metadata": {},
   "source": [
    "### tf.function\n",
    "\n",
    "Where tf.function is a decorator that \"defines a TensorFlow function\". A \"TensorFlow function\" defines a computation as a graph of TensorFlow operations, with named arguments and explicit return values. Users define the function they want TensorFlow to \"accelerate\" as a Python function and integrate it into their Python program like any other Python function call.\n",
    "\n",
    "\n",
    "Every argument to a function decorated Python function (F) must be either:\n",
    "\n",
    "  - A Tensor object (NumPy ndarrays are converted to the equivalent Tensor), or\n",
    "  - A list of Tensor objects, or\n",
    "  - An arbitrary Python value.\n"
   ]
  },
  {
   "cell_type": "code",
   "execution_count": 56,
   "id": "5ca6b37a",
   "metadata": {},
   "outputs": [
    {
     "name": "stdout",
     "output_type": "stream",
     "text": [
      "tf.Tensor(6.0, shape=(), dtype=float32)\n",
      "tf.Tensor(4.0, shape=(), dtype=float32)\n"
     ]
    }
   ],
   "source": [
    "import tensorflow as tf\n",
    "\n",
    "@tf.function\n",
    "def compute_z1(x, y):\n",
    "  return tf.add(x, y)\n",
    "\n",
    "@tf.function\n",
    "def compute_z0(x):\n",
    "  return compute_z1(x, tf.square(x))\n",
    "\n",
    "z0 = compute_z0(2.)\n",
    "z1 = compute_z1(2., 2.)\n",
    "\n",
    "print(z0)\n",
    "print(z1)"
   ]
  },
  {
   "cell_type": "markdown",
   "id": "ffd794d7",
   "metadata": {},
   "source": [
    "## Linear Regression in TensorFlow"
   ]
  },
  {
   "cell_type": "code",
   "execution_count": 58,
   "id": "2fd5bd45",
   "metadata": {},
   "outputs": [
    {
     "name": "stdout",
     "output_type": "stream",
     "text": [
      "Defaulting to user installation because normal site-packages is not writeable\n",
      "Collecting seaborn\n",
      "  Downloading seaborn-0.11.2-py3-none-any.whl (292 kB)\n",
      "\u001b[2K     \u001b[38;2;114;156;31m━━━━━━━━━━━━━━━━━━━━━━━━━━━━━━━━━━━━━\u001b[0m \u001b[32m292.8/292.8 kB\u001b[0m \u001b[31m120.2 kB/s\u001b[0m eta \u001b[36m0:00:00\u001b[0m1m115.6 kB/s\u001b[0m eta \u001b[36m0:00:01\u001b[0m\n",
      "\u001b[?25hRequirement already satisfied: scipy>=1.0 in /home/kobayashi/.local/lib/python3.8/site-packages (from seaborn) (1.4.1)\n",
      "Requirement already satisfied: pandas>=0.23 in /home/kobayashi/.local/lib/python3.8/site-packages (from seaborn) (1.4.2)\n",
      "Requirement already satisfied: matplotlib>=2.2 in /home/kobayashi/.local/lib/python3.8/site-packages (from seaborn) (3.5.2)\n",
      "Requirement already satisfied: numpy>=1.15 in /home/kobayashi/.local/lib/python3.8/site-packages (from seaborn) (1.22.3)\n",
      "Requirement already satisfied: python-dateutil>=2.7 in /home/kobayashi/.local/lib/python3.8/site-packages (from matplotlib>=2.2->seaborn) (2.8.2)\n",
      "Requirement already satisfied: packaging>=20.0 in /home/kobayashi/.local/lib/python3.8/site-packages (from matplotlib>=2.2->seaborn) (21.3)\n",
      "Requirement already satisfied: pillow>=6.2.0 in /home/kobayashi/.local/lib/python3.8/site-packages (from matplotlib>=2.2->seaborn) (9.0.1)\n",
      "Requirement already satisfied: kiwisolver>=1.0.1 in /home/kobayashi/.local/lib/python3.8/site-packages (from matplotlib>=2.2->seaborn) (1.4.2)\n",
      "Requirement already satisfied: fonttools>=4.22.0 in /home/kobayashi/.local/lib/python3.8/site-packages (from matplotlib>=2.2->seaborn) (4.33.3)\n",
      "Requirement already satisfied: cycler>=0.10 in /home/kobayashi/.local/lib/python3.8/site-packages (from matplotlib>=2.2->seaborn) (0.11.0)\n",
      "Requirement already satisfied: pyparsing>=2.2.1 in /home/kobayashi/.local/lib/python3.8/site-packages (from matplotlib>=2.2->seaborn) (3.0.9)\n",
      "Requirement already satisfied: pytz>=2020.1 in /home/kobayashi/.local/lib/python3.8/site-packages (from pandas>=0.23->seaborn) (2022.1)\n",
      "Requirement already satisfied: six>=1.5 in /usr/lib/python3/dist-packages (from python-dateutil>=2.7->matplotlib>=2.2->seaborn) (1.14.0)\n",
      "Installing collected packages: seaborn\n",
      "Successfully installed seaborn-0.11.2\n"
     ]
    }
   ],
   "source": [
    "! pip install seaborn"
   ]
  },
  {
   "cell_type": "code",
   "execution_count": 60,
   "id": "f550f380",
   "metadata": {},
   "outputs": [
    {
     "data": {
      "text/plain": [
       "<matplotlib.collections.PathCollection at 0x7f4ec0083550>"
      ]
     },
     "execution_count": 60,
     "metadata": {},
     "output_type": "execute_result"
    },
    {
     "data": {
      "image/png": "[encoded data removed]",
      "text/plain": [
       "<Figure size 432x288 with 1 Axes>"
      ]
     },
     "metadata": {
      "needs_background": "light"
     },
     "output_type": "display_data"
    }
   ],
   "source": [
    "import numpy as np\n",
    "import seaborn\n",
    "import matplotlib.pyplot as plt\n",
    "\n",
    "X_data = np.arange(100, step=.1)\n",
    "y_data = X_data + 20 * np.sin(X_data/10)\n",
    "\n",
    "plt.scatter(X_data, y_data)"
   ]
  },
  {
   "cell_type": "code",
   "execution_count": 61,
   "id": "daea5f4b",
   "metadata": {},
   "outputs": [],
   "source": [
    "# Define data size and batch size\n",
    "n_samples = 1000\n",
    "batch_size = 100"
   ]
  },
  {
   "cell_type": "code",
   "execution_count": 69,
   "id": "9eca09a1",
   "metadata": {},
   "outputs": [
    {
     "ename": "TypeError",
     "evalue": "'module' object is not callable",
     "output_type": "error",
     "traceback": [
      "\u001b[0;31m---------------------------------------------------------------------------\u001b[0m",
      "\u001b[0;31mTypeError\u001b[0m                                 Traceback (most recent call last)",
      "Input \u001b[0;32mIn [69]\u001b[0m, in \u001b[0;36m<cell line: 4>\u001b[0;34m()\u001b[0m\n\u001b[1;32m      2\u001b[0m X_data \u001b[38;5;241m=\u001b[39m np\u001b[38;5;241m.\u001b[39mreshape(X_data, (n_samples,\u001b[38;5;241m1\u001b[39m))\n\u001b[1;32m      3\u001b[0m y_data \u001b[38;5;241m=\u001b[39m np\u001b[38;5;241m.\u001b[39mreshape(y_data, (n_samples,\u001b[38;5;241m1\u001b[39m))\n\u001b[0;32m----> 4\u001b[0m W \u001b[38;5;241m=\u001b[39m \u001b[43mnp\u001b[49m\u001b[38;5;241;43m.\u001b[39;49m\u001b[43mrandom\u001b[49m\u001b[43m(\u001b[49m\u001b[43mn_samples\u001b[49m\u001b[43m)\u001b[49m\n\u001b[1;32m      7\u001b[0m y_pred \u001b[38;5;241m=\u001b[39m tf\u001b[38;5;241m.\u001b[39mmatmul(X, W) \u001b[38;5;241m+\u001b[39m b\n",
      "\u001b[0;31mTypeError\u001b[0m: 'module' object is not callable"
     ]
    }
   ],
   "source": [
    "# Tensorflow is finicky about shapes, so resize\n",
    "X_data = np.reshape(X_data, (n_samples,1))\n",
    "y_data = np.reshape(y_data, (n_samples,1))\n",
    "\n",
    "W = np.random(n_samples)\n",
    "b = np.random(n_samples)\n",
    "\n",
    "y_pred = tf.matmul(X, W) + b"
   ]
  },
  {
   "cell_type": "markdown",
   "id": "b649bb12",
   "metadata": {},
   "source": [
    "# Custom Layer"
   ]
  },
  {
   "cell_type": "code",
   "execution_count": 79,
   "id": "f7ae4f1b",
   "metadata": {},
   "outputs": [],
   "source": [
    "class MyDenseLayer(keras.layers.Layer):\n",
    "    def __init__(self, num_outputs):\n",
    "        super(MyDenseLayer, self).__init__()\n",
    "        self.num_outputs = num_outputs\n",
    "\n",
    "    def build(self, input_shape):\n",
    "        self.kernel = self.add_variable(\"kernel\",\n",
    "                                        shape=[int(input_shape[-1]),\n",
    "                                               self.num_outputs])\n",
    "\n",
    "    def call(self, input):\n",
    "        return tf.matmul(input, self.kernel)\n",
    "\n",
    "layer = MyDenseLayer(10)"
   ]
  },
  {
   "cell_type": "markdown",
   "id": "41e4d706",
   "metadata": {},
   "source": [
    "# Custom Model"
   ]
  },
  {
   "cell_type": "code",
   "execution_count": 77,
   "id": "28740625",
   "metadata": {},
   "outputs": [],
   "source": [
    "class ResnetIdentityBlock(keras.Model):\n",
    "    def __init__(self, kernel_size, filters):\n",
    "        super(ResnetIdentityBlock, self).__init__(name='')\n",
    "        filters1, filters2, filters3 = filters\n",
    "\n",
    "        self.conv2a = tf.keras.layers.Conv2D(filters1, (1, 1))\n",
    "        self.bn2a = tf.keras.layers.BatchNormalization()\n",
    "\n",
    "    \n",
    "        self.bn2c = tf.keras.layers.BatchNormalization()\n",
    "\n",
    "    def call(self, input_tensor, training=False):\n",
    "        x = self.conv2a(input_tensor)\n",
    "        x = self.bn2a(x, training=training)\n",
    "        x = tf.nn.relu(x)\n"
   ]
  },
  {
   "cell_type": "markdown",
   "id": "af2a47f2",
   "metadata": {},
   "source": [
    "\n",
    "## Gradient tape\n",
    "By default, the resources held by a GradientTape are released as soon as GradientTape.gradient() method is called. To compute multiple gradients over the same computation, create a persistent gradient tape. This allows multiple calls to the gradient() method as resources are released when the tape object is garbage collected. "
   ]
  },
  {
   "cell_type": "code",
   "execution_count": 84,
   "id": "52a0b5ef",
   "metadata": {},
   "outputs": [
    {
     "name": "stdout",
     "output_type": "stream",
     "text": [
      "tf.Tensor(\n",
      "[[[2. 0.]\n",
      "  [0. 4.]]\n",
      "\n",
      " [[6. 0.]\n",
      "  [0. 8.]]], shape=(2, 2, 2), dtype=float32)\n"
     ]
    }
   ],
   "source": [
    "with tf.GradientTape() as g:\n",
    "    x = tf.constant([[1., 2.], [3., 4.]], dtype=tf.float32)\n",
    "    g.watch(x)\n",
    "    y = x * x\n",
    "\n",
    "batch_jacobian = g.batch_jacobian(y, x)\n",
    "print(batch_jacobian)"
   ]
  },
  {
   "cell_type": "code",
   "execution_count": null,
   "id": "beba193d",
   "metadata": {},
   "outputs": [],
   "source": []
  }
 ],
 "metadata": {
  "kernelspec": {
   "display_name": "Python 3 (ipykernel)",
   "language": "python",
   "name": "python3"
  },
  "language_info": {
   "codemirror_mode": {
    "name": "ipython",
    "version": 3
   },
   "file_extension": ".py",
   "mimetype": "text/x-python",
   "name": "python",
   "nbconvert_exporter": "python",
   "pygments_lexer": "ipython3",
   "version": "3.8.10"
  }
 },
 "nbformat": 4,
 "nbformat_minor": 5
}
